{
  "nbformat": 4,
  "nbformat_minor": 0,
  "metadata": {
    "colab": {
      "name": "Pipe Analysis 2.ipynb",
      "provenance": [],
      "collapsed_sections": [],
      "authorship_tag": "ABX9TyO8/QfWtVEy9/DHmfpRtXMX",
      "include_colab_link": true
    },
    "kernelspec": {
      "name": "python3",
      "display_name": "Python 3"
    }
  },
  "cells": [
    {
      "cell_type": "markdown",
      "metadata": {
        "id": "view-in-github",
        "colab_type": "text"
      },
      "source": [
        "<a href=\"https://colab.research.google.com/github/pabloderen/BIMnferer/blob/master/Pipe_Analysis_2.ipynb\" target=\"_parent\"><img src=\"https://colab.research.google.com/assets/colab-badge.svg\" alt=\"Open In Colab\"/></a>"
      ]
    },
    {
      "cell_type": "code",
      "metadata": {
        "id": "MHjuBxluIVMr",
        "colab_type": "code",
        "colab": {}
      },
      "source": [
        "import pandas as pd\n",
        "import json\n",
        "import urllib"
      ],
      "execution_count": 2,
      "outputs": []
    },
    {
      "cell_type": "markdown",
      "metadata": {
        "id": "lUK3RdE1uwiK",
        "colab_type": "text"
      },
      "source": [
        "We download from de API in Flasgger (http://3.14.88.102:5000/apidocs/) the Pipe list item and it´s parameters\n"
      ]
    },
    {
      "cell_type": "code",
      "metadata": {
        "id": "c8evbTkGaURM",
        "colab_type": "code",
        "colab": {}
      },
      "source": [
        "jsonfile = urllib.request.urlopen(\"http://3.14.88.102:5000/api/1/elements/pipes/?limit=6000\").read().decode()\n",
        "j=json.loads(jsonfile)"
      ],
      "execution_count": 3,
      "outputs": []
    },
    {
      "cell_type": "markdown",
      "metadata": {
        "id": "xZAw2F-Mu2KX",
        "colab_type": "text"
      },
      "source": [
        "Then we make a Data Frame with the json file"
      ]
    },
    {
      "cell_type": "code",
      "metadata": {
        "id": "XDuejJ1WaoY_",
        "colab_type": "code",
        "colab": {
          "base_uri": "https://localhost:8080/",
          "height": 210
        },
        "outputId": "1345cd54-ef42-46d0-f6b6-d36e59993077"
      },
      "source": [
        "df= pd.json_normalize(j)\n",
        "df.head(3)"
      ],
      "execution_count": 4,
      "outputs": [
        {
          "output_type": "execute_result",
          "data": {
            "text/html": [
              "<div>\n",
              "<style scoped>\n",
              "    .dataframe tbody tr th:only-of-type {\n",
              "        vertical-align: middle;\n",
              "    }\n",
              "\n",
              "    .dataframe tbody tr th {\n",
              "        vertical-align: top;\n",
              "    }\n",
              "\n",
              "    .dataframe thead th {\n",
              "        text-align: right;\n",
              "    }\n",
              "</style>\n",
              "<table border=\"1\" class=\"dataframe\">\n",
              "  <thead>\n",
              "    <tr style=\"text-align: right;\">\n",
              "      <th></th>\n",
              "      <th>projectId</th>\n",
              "      <th>Category</th>\n",
              "      <th>modelId</th>\n",
              "      <th>_id.$oid</th>\n",
              "      <th>properties_Dimensions_Length</th>\n",
              "      <th>properties_Dimensions_Size</th>\n",
              "      <th>properties_Mechanical_Material</th>\n",
              "      <th>properties_Mechanical_System Classification</th>\n",
              "    </tr>\n",
              "  </thead>\n",
              "  <tbody>\n",
              "    <tr>\n",
              "      <th>0</th>\n",
              "      <td>b.c94f85e5-88fb-402c-bc60-72622f5f85b6</td>\n",
              "      <td>Pipes</td>\n",
              "      <td>d4ea3308-4b3f-d382-cacb-9791f772042b</td>\n",
              "      <td>5eee8651cb573f2fc2216a82</td>\n",
              "      <td>NaN</td>\n",
              "      <td>NaN</td>\n",
              "      <td>NaN</td>\n",
              "      <td>NaN</td>\n",
              "    </tr>\n",
              "    <tr>\n",
              "      <th>1</th>\n",
              "      <td>b.c94f85e5-88fb-402c-bc60-72622f5f85b6</td>\n",
              "      <td>Pipes</td>\n",
              "      <td>d4ea3308-4b3f-d382-cacb-9791f772042b</td>\n",
              "      <td>5eee8651cb573f2fc2216a83</td>\n",
              "      <td>NaN</td>\n",
              "      <td>NaN</td>\n",
              "      <td>NaN</td>\n",
              "      <td>NaN</td>\n",
              "    </tr>\n",
              "    <tr>\n",
              "      <th>2</th>\n",
              "      <td>b.c94f85e5-88fb-402c-bc60-72622f5f85b6</td>\n",
              "      <td>Pipes</td>\n",
              "      <td>d4ea3308-4b3f-d382-cacb-9791f772042b</td>\n",
              "      <td>5eee8651cb573f2fc2216a84</td>\n",
              "      <td>0.398 ft</td>\n",
              "      <td>2 1/2\"</td>\n",
              "      <td>Copper</td>\n",
              "      <td>Sanitary</td>\n",
              "    </tr>\n",
              "  </tbody>\n",
              "</table>\n",
              "</div>"
            ],
            "text/plain": [
              "                                projectId  ... properties_Mechanical_System Classification\n",
              "0  b.c94f85e5-88fb-402c-bc60-72622f5f85b6  ...                                         NaN\n",
              "1  b.c94f85e5-88fb-402c-bc60-72622f5f85b6  ...                                         NaN\n",
              "2  b.c94f85e5-88fb-402c-bc60-72622f5f85b6  ...                                    Sanitary\n",
              "\n",
              "[3 rows x 8 columns]"
            ]
          },
          "metadata": {
            "tags": []
          },
          "execution_count": 4
        }
      ]
    },
    {
      "cell_type": "markdown",
      "metadata": {
        "id": "_u3KTphyvClY",
        "colab_type": "text"
      },
      "source": [
        "We will drop the columns that have unuseful information for our case,\n",
        "like \"projectId\", \"modelId\" and \"_id.$oid\""
      ]
    },
    {
      "cell_type": "code",
      "metadata": {
        "id": "IoiSluyZa3aX",
        "colab_type": "code",
        "colab": {}
      },
      "source": [
        "values=[\"_id.$oid\",\"modelId\",\"projectId\"]\n",
        "df.drop(values, axis=1,inplace=True)"
      ],
      "execution_count": 5,
      "outputs": []
    },
    {
      "cell_type": "markdown",
      "metadata": {
        "id": "mhPq5G4TvKTg",
        "colab_type": "text"
      },
      "source": [
        "we can see how many different materials we have, so then we will \n",
        "group by PVC, Copper and Steel"
      ]
    },
    {
      "cell_type": "code",
      "metadata": {
        "id": "YgAbL4g_bzz-",
        "colab_type": "code",
        "colab": {
          "base_uri": "https://localhost:8080/",
          "height": 121
        },
        "outputId": "e576c180-63dc-4518-d26c-bc05c17fdb6a"
      },
      "source": [
        "df[\"properties_Mechanical_Material\"].unique()"
      ],
      "execution_count": 6,
      "outputs": [
        {
          "output_type": "execute_result",
          "data": {
            "text/plain": [
              "array([nan, 'Copper', 'Steel, Carbon', '<By Category>',\n",
              "       'Polyvinyl Chloride - Rigid', 'CP_PI - Copper - ASTM B88 H.D.',\n",
              "       'CP_PI - Steel - ASTM A53-B', 'CP_PI - PVC', 'Cast Iron',\n",
              "       'Black Steel', 'Carbon Steel', 'Ductile Iron',\n",
              "       'Polyvinyl Chloride, Rigid', 'Carbon Steel - ASTM A53 B'],\n",
              "      dtype=object)"
            ]
          },
          "metadata": {
            "tags": []
          },
          "execution_count": 6
        }
      ]
    },
    {
      "cell_type": "markdown",
      "metadata": {
        "id": "OgBVVzDvvX9G",
        "colab_type": "text"
      },
      "source": [
        "To make such a grouping, we define a function that search in the \"properties_Mechanical_Material\" and change each row that has another different name for the same material"
      ]
    },
    {
      "cell_type": "code",
      "metadata": {
        "id": "UTHogQgzb2l2",
        "colab_type": "code",
        "colab": {}
      },
      "source": [
        "def search(data):\n",
        "   \n",
        "    if \"A53\" in data.upper():\n",
        "        return \"Carbon Steel - ASTM A53 B\"\n",
        "    if \"CATEGORY\" in data.upper():\n",
        "        return \"NaN\"\n",
        "    if \"POLYVINYL\" in data.upper():\n",
        "        return \"PVC\"\n",
        "    if \"PVC\" in data.upper():\n",
        "        return \"PVC\"\n",
        "    if \"NAN\" in data.upper():\n",
        "        return \"NaN\"\n",
        "    else:\n",
        "        return data"
      ],
      "execution_count": 47,
      "outputs": []
    },
    {
      "cell_type": "markdown",
      "metadata": {
        "id": "ybOsaokEvXE9",
        "colab_type": "text"
      },
      "source": [
        "For practical purpuses, we will make a copy of the DataFrame, \n",
        "then apply the function in each row of the \"properties_Mechanical_Material\" column."
      ]
    },
    {
      "cell_type": "code",
      "metadata": {
        "id": "plRdbEgthiWL",
        "colab_type": "code",
        "colab": {}
      },
      "source": [
        "df2=df\n",
        "df2[\"properties_Mechanical_Material\"]=df2[\"properties_Mechanical_Material\"].apply(lambda x: search(str(x)))\n"
      ],
      "execution_count": 48,
      "outputs": []
    },
    {
      "cell_type": "markdown",
      "metadata": {
        "id": "wOwwSG9NvlL6",
        "colab_type": "text"
      },
      "source": [
        "here is the amount of each material kind"
      ]
    },
    {
      "cell_type": "code",
      "metadata": {
        "id": "iT4kvHHviEZA",
        "colab_type": "code",
        "colab": {
          "base_uri": "https://localhost:8080/",
          "height": 208
        },
        "outputId": "116a184a-2880-4d25-b16f-3ce05641de3d"
      },
      "source": [
        "\n",
        "df2[\"properties_Mechanical_Material\"].value_counts()\n"
      ],
      "execution_count": 49,
      "outputs": [
        {
          "output_type": "execute_result",
          "data": {
            "text/plain": [
              "PVC                               1745\n",
              "Carbon Steel - ASTM A53 B         1322\n",
              "Carbon Steel                      1237\n",
              "Copper                            1102\n",
              "CP_PI - Copper - ASTM B88 H.D.     424\n",
              "Steel, Carbon                      121\n",
              "NaN                                 41\n",
              "Black Steel                          4\n",
              "Ductile Iron                         2\n",
              "Cast Iron                            2\n",
              "Name: properties_Mechanical_Material, dtype: int64"
            ]
          },
          "metadata": {
            "tags": []
          },
          "execution_count": 49
        }
      ]
    },
    {
      "cell_type": "markdown",
      "metadata": {
        "id": "RWwVmgDth6Z0",
        "colab_type": "text"
      },
      "source": [
        "Here we can see a graphic of the different amount of each materials:"
      ]
    },
    {
      "cell_type": "code",
      "metadata": {
        "id": "wPtZ6q2UZydL",
        "colab_type": "code",
        "colab": {
          "base_uri": "https://localhost:8080/",
          "height": 352
        },
        "outputId": "231a3ded-bca4-4f64-c96a-2c1ce6dc299a"
      },
      "source": [
        "plt.figure(figsize=(20,4))\n",
        "sns.countplot(y=\"properties_Mechanical_Material\",data=df2,order=df2[\"properties_Mechanical_Material\"].value_counts().index)"
      ],
      "execution_count": 54,
      "outputs": [
        {
          "output_type": "execute_result",
          "data": {
            "text/plain": [
              "<matplotlib.axes._subplots.AxesSubplot at 0x7f7002772f60>"
            ]
          },
          "metadata": {
            "tags": []
          },
          "execution_count": 54
        },
        {
          "output_type": "display_data",
          "data": {
            "image/png": "[encoded data removed]",
            "text/plain": [
              "<Figure size 1440x288 with 1 Axes>"
            ]
          },
          "metadata": {
            "tags": []
          }
        }
      ]
    },
    {
      "cell_type": "code",
      "metadata": {
        "id": "BYFuxyS8i3ww",
        "colab_type": "code",
        "colab": {
          "base_uri": "https://localhost:8080/",
          "height": 194
        },
        "outputId": "f83aae20-e8ca-48c8-9e13-d1b689de8f5b"
      },
      "source": [
        "df2[\"properties_Mechanical_System Classification\"].value_counts()"
      ],
      "execution_count": null,
      "outputs": [
        {
          "output_type": "execute_result",
          "data": {
            "text/plain": [
              "Sanitary               1499\n",
              "Hydronic Supply        1496\n",
              "Hydronic Return        1209\n",
              "Domestic Cold Water     716\n",
              "Vent                    417\n",
              "Domestic Hot Water      321\n",
              "Other                   187\n",
              "Fire Protection Dry     116\n",
              "Fire Protection Wet       2\n",
              "Name: properties_Mechanical_System Classification, dtype: int64"
            ]
          },
          "metadata": {
            "tags": []
          },
          "execution_count": 11
        }
      ]
    },
    {
      "cell_type": "markdown",
      "metadata": {
        "id": "T3BhD3XMvrpr",
        "colab_type": "text"
      },
      "source": [
        "We drop the rows with properties_Dimensions_Length NaN values."
      ]
    },
    {
      "cell_type": "code",
      "metadata": {
        "id": "M75QW1_8neCa",
        "colab_type": "code",
        "colab": {}
      },
      "source": [
        "df3=df2.dropna(axis=0,subset=[\"properties_Dimensions_Length\"])\n"
      ],
      "execution_count": null,
      "outputs": []
    },
    {
      "cell_type": "markdown",
      "metadata": {
        "id": "JcNUU0BYvwqm",
        "colab_type": "text"
      },
      "source": [
        "Her we start to convert the properties_Dimensions_Length from string to float \n",
        "(we use x.replace(\" ft\",\"\") and x.replace(\"  ft\",\"\"), notice the spaces in each case)\n",
        "\n"
      ]
    },
    {
      "cell_type": "code",
      "metadata": {
        "id": "iNgt0y4mlQti",
        "colab_type": "code",
        "colab": {
          "base_uri": "https://localhost:8080/",
          "height": 123
        },
        "outputId": "c7656e53-f359-4d27-a009-b0597bc6e021"
      },
      "source": [
        "df3[\"properties_Dimensions_Length\"]= df3[\"properties_Dimensions_Length\"].apply(lambda x: x.replace(\" ft\",\"\"))"
      ],
      "execution_count": null,
      "outputs": [
        {
          "output_type": "stream",
          "text": [
            "/usr/local/lib/python3.6/dist-packages/ipykernel_launcher.py:1: SettingWithCopyWarning: \n",
            "A value is trying to be set on a copy of a slice from a DataFrame.\n",
            "Try using .loc[row_indexer,col_indexer] = value instead\n",
            "\n",
            "See the caveats in the documentation: https://pandas.pydata.org/pandas-docs/stable/user_guide/indexing.html#returning-a-view-versus-a-copy\n",
            "  \"\"\"Entry point for launching an IPython kernel.\n"
          ],
          "name": "stderr"
        }
      ]
    },
    {
      "cell_type": "code",
      "metadata": {
        "id": "kHkyOp41o4ai",
        "colab_type": "code",
        "colab": {
          "base_uri": "https://localhost:8080/",
          "height": 123
        },
        "outputId": "15678848-a83e-4dbc-89b4-2563f398b46b"
      },
      "source": [
        "df3[\"properties_Dimensions_Length\"]= df3[\"properties_Dimensions_Length\"].apply(lambda x: float(x))"
      ],
      "execution_count": null,
      "outputs": [
        {
          "output_type": "stream",
          "text": [
            "/usr/local/lib/python3.6/dist-packages/ipykernel_launcher.py:1: SettingWithCopyWarning: \n",
            "A value is trying to be set on a copy of a slice from a DataFrame.\n",
            "Try using .loc[row_indexer,col_indexer] = value instead\n",
            "\n",
            "See the caveats in the documentation: https://pandas.pydata.org/pandas-docs/stable/user_guide/indexing.html#returning-a-view-versus-a-copy\n",
            "  \"\"\"Entry point for launching an IPython kernel.\n"
          ],
          "name": "stderr"
        }
      ]
    },
    {
      "cell_type": "markdown",
      "metadata": {
        "id": "SDSSSckRv-Nv",
        "colab_type": "text"
      },
      "source": [
        "we are analazing pipes, so we know that the dimensions Sizes are the diameter sizes. Then we can see that because a Size has the diameter simbol, creates another dimension. So we will take of the diameter simbol of all the column."
      ]
    },
    {
      "cell_type": "code",
      "metadata": {
        "id": "LGjqjizjo7Xx",
        "colab_type": "code",
        "colab": {
          "base_uri": "https://localhost:8080/",
          "height": 167
        },
        "outputId": "ee96a7ad-d55a-4b41-fa46-eee4f593b8b0"
      },
      "source": [
        "df3[\"properties_Dimensions_Size\"].value_counts().head(5)"
      ],
      "execution_count": 1,
      "outputs": [
        {
          "output_type": "error",
          "ename": "NameError",
          "evalue": "ignored",
          "traceback": [
            "\u001b[0;31m---------------------------------------------------------------------------\u001b[0m",
            "\u001b[0;31mNameError\u001b[0m                                 Traceback (most recent call last)",
            "\u001b[0;32m<ipython-input-1-fd65338211e2>\u001b[0m in \u001b[0;36m<module>\u001b[0;34m()\u001b[0m\n\u001b[0;32m----> 1\u001b[0;31m \u001b[0mdf3\u001b[0m\u001b[0;34m[\u001b[0m\u001b[0;34m\"properties_Dimensions_Size\"\u001b[0m\u001b[0;34m]\u001b[0m\u001b[0;34m.\u001b[0m\u001b[0mvalue_counts\u001b[0m\u001b[0;34m(\u001b[0m\u001b[0;34m)\u001b[0m\u001b[0;34m.\u001b[0m\u001b[0mhead\u001b[0m\u001b[0;34m(\u001b[0m\u001b[0;36m5\u001b[0m\u001b[0;34m)\u001b[0m\u001b[0;34m\u001b[0m\u001b[0;34m\u001b[0m\u001b[0m\n\u001b[0m",
            "\u001b[0;31mNameError\u001b[0m: name 'df3' is not defined"
          ]
        }
      ]
    },
    {
      "cell_type": "code",
      "metadata": {
        "id": "CPl-4Ya6qSIj",
        "colab_type": "code",
        "colab": {
          "base_uri": "https://localhost:8080/",
          "height": 123
        },
        "outputId": "ec1abf9c-af46-45a7-f7d5-96e9f9ce6c67"
      },
      "source": [
        "df3[\"properties_Dimensions_Size\"]= df3[\"properties_Dimensions_Size\"].apply(lambda x: x.replace(\"ø\",\"\"))"
      ],
      "execution_count": null,
      "outputs": [
        {
          "output_type": "stream",
          "text": [
            "/usr/local/lib/python3.6/dist-packages/ipykernel_launcher.py:1: SettingWithCopyWarning: \n",
            "A value is trying to be set on a copy of a slice from a DataFrame.\n",
            "Try using .loc[row_indexer,col_indexer] = value instead\n",
            "\n",
            "See the caveats in the documentation: https://pandas.pydata.org/pandas-docs/stable/user_guide/indexing.html#returning-a-view-versus-a-copy\n",
            "  \"\"\"Entry point for launching an IPython kernel.\n"
          ],
          "name": "stderr"
        }
      ]
    },
    {
      "cell_type": "markdown",
      "metadata": {
        "id": "2na5JNpnwHjp",
        "colab_type": "text"
      },
      "source": [
        "Here we eliminate any leading and trailing whitespaces"
      ]
    },
    {
      "cell_type": "code",
      "metadata": {
        "id": "5oBxJ0zxsBcc",
        "colab_type": "code",
        "colab": {
          "base_uri": "https://localhost:8080/",
          "height": 123
        },
        "outputId": "4832cd50-9ebf-494a-b0a3-c57f7b2994e3"
      },
      "source": [
        "df3[\"properties_Dimensions_Size\"]= df3[\"properties_Dimensions_Size\"].apply(lambda x: x.strip())"
      ],
      "execution_count": null,
      "outputs": [
        {
          "output_type": "stream",
          "text": [
            "/usr/local/lib/python3.6/dist-packages/ipykernel_launcher.py:1: SettingWithCopyWarning: \n",
            "A value is trying to be set on a copy of a slice from a DataFrame.\n",
            "Try using .loc[row_indexer,col_indexer] = value instead\n",
            "\n",
            "See the caveats in the documentation: https://pandas.pydata.org/pandas-docs/stable/user_guide/indexing.html#returning-a-view-versus-a-copy\n",
            "  \"\"\"Entry point for launching an IPython kernel.\n"
          ],
          "name": "stderr"
        }
      ]
    },
    {
      "cell_type": "code",
      "metadata": {
        "id": "cU7zWrMusOSS",
        "colab_type": "code",
        "colab": {
          "base_uri": "https://localhost:8080/",
          "height": 336
        },
        "outputId": "2ec3a6f5-d7fc-4a12-eb6f-d08a6c108ccb"
      },
      "source": [
        "df3[\"properties_Dimensions_Size\"].value_counts()"
      ],
      "execution_count": null,
      "outputs": [
        {
          "output_type": "execute_result",
          "data": {
            "text/plain": [
              "4\"        1070\n",
              "2\"         835\n",
              "3/4\"       727\n",
              "6\"         636\n",
              "3\"         592\n",
              "1\"         580\n",
              "2 1/2\"     316\n",
              "1 1/4\"     257\n",
              "1/2\"       241\n",
              "1 1/2\"     235\n",
              "16\"        146\n",
              "14\"         96\n",
              "8\"          84\n",
              "12\"         64\n",
              "10\"         60\n",
              "5\"          22\n",
              "1 3/8\"       2\n",
              "Name: properties_Dimensions_Size, dtype: int64"
            ]
          },
          "metadata": {
            "tags": []
          },
          "execution_count": 45
        }
      ]
    },
    {
      "cell_type": "markdown",
      "metadata": {
        "id": "RC1L-PFYwRVk",
        "colab_type": "text"
      },
      "source": [
        "The \"properties_Mechanical_System Classification\" are 9 different types."
      ]
    },
    {
      "cell_type": "code",
      "metadata": {
        "id": "3k5FOAuKzDk-",
        "colab_type": "code",
        "colab": {}
      },
      "source": [
        "lista=df3[\"properties_Mechanical_System Classification\"].unique()"
      ],
      "execution_count": null,
      "outputs": []
    },
    {
      "cell_type": "markdown",
      "metadata": {
        "id": "i_J6RFunyEKN",
        "colab_type": "text"
      },
      "source": [
        "Set a number designator to all properties_Mechanical_System Classification"
      ]
    },
    {
      "cell_type": "code",
      "metadata": {
        "id": "z6Kv2FqT4lPJ",
        "colab_type": "code",
        "colab": {}
      },
      "source": [
        "dicc={}\n",
        "i=0\n",
        "for i in range(0,9):\n",
        "  dicc[lista[i]]=i"
      ],
      "execution_count": null,
      "outputs": []
    },
    {
      "cell_type": "markdown",
      "metadata": {
        "id": "QiZ6DhR8yJjX",
        "colab_type": "text"
      },
      "source": [
        "we create a column with this designation"
      ]
    },
    {
      "cell_type": "code",
      "metadata": {
        "id": "QrHPPEAY7HLW",
        "colab_type": "code",
        "colab": {
          "base_uri": "https://localhost:8080/",
          "height": 123
        },
        "outputId": "7fb79cf4-3ddc-409d-b472-6f72b1debdb4"
      },
      "source": [
        "df3[\"Number_Classification\"]=df3[\"properties_Mechanical_System Classification\"].apply(lambda x: dicc[x])"
      ],
      "execution_count": null,
      "outputs": [
        {
          "output_type": "stream",
          "text": [
            "/usr/local/lib/python3.6/dist-packages/ipykernel_launcher.py:1: SettingWithCopyWarning: \n",
            "A value is trying to be set on a copy of a slice from a DataFrame.\n",
            "Try using .loc[row_indexer,col_indexer] = value instead\n",
            "\n",
            "See the caveats in the documentation: https://pandas.pydata.org/pandas-docs/stable/user_guide/indexing.html#returning-a-view-versus-a-copy\n",
            "  \"\"\"Entry point for launching an IPython kernel.\n"
          ],
          "name": "stderr"
        }
      ]
    },
    {
      "cell_type": "markdown",
      "metadata": {
        "id": "t7saSN21yTX-",
        "colab_type": "text"
      },
      "source": [
        "Then we get the dummies properties_Dimensions_Size and properties_Mechanical_Material"
      ]
    },
    {
      "cell_type": "code",
      "metadata": {
        "id": "AmyPgZCRAvew",
        "colab_type": "code",
        "colab": {
          "base_uri": "https://localhost:8080/",
          "height": 34
        },
        "outputId": "379a7822-9240-4386-c86c-bbc338836afc"
      },
      "source": [
        "df3[\"properties_Dimensions_Size\"].nunique()"
      ],
      "execution_count": null,
      "outputs": [
        {
          "output_type": "execute_result",
          "data": {
            "text/plain": [
              "17"
            ]
          },
          "metadata": {
            "tags": []
          },
          "execution_count": 51
        }
      ]
    },
    {
      "cell_type": "code",
      "metadata": {
        "id": "9ycVwcKjCgvR",
        "colab_type": "code",
        "colab": {}
      },
      "source": [
        "material= pd.get_dummies(df3['properties_Mechanical_Material'])\n"
      ],
      "execution_count": null,
      "outputs": []
    },
    {
      "cell_type": "code",
      "metadata": {
        "id": "vqO2WjXXC68e",
        "colab_type": "code",
        "colab": {}
      },
      "source": [
        "Dimensions_Size= pd.get_dummies(df3[\"properties_Dimensions_Size\"])\n"
      ],
      "execution_count": null,
      "outputs": []
    },
    {
      "cell_type": "code",
      "metadata": {
        "id": "iDwJ9-vADJn-",
        "colab_type": "code",
        "colab": {}
      },
      "source": [
        "df4 = pd.concat([df3,material,Dimensions_Size],axis=1)"
      ],
      "execution_count": null,
      "outputs": []
    },
    {
      "cell_type": "markdown",
      "metadata": {
        "id": "Km2r9PUNyahz",
        "colab_type": "text"
      },
      "source": [
        "We eliminate some columns that we will not use (also can been seen the \"properties Dimensions Length\", just to try)"
      ]
    },
    {
      "cell_type": "code",
      "metadata": {
        "id": "pZk1FdqEDb71",
        "colab_type": "code",
        "colab": {}
      },
      "source": [
        "droplist=[\"Category\",\"NaN\",\"properties_Mechanical_System Classification\",\"properties_Mechanical_Material\",\"properties_Dimensions_Size\",\"properties_Dimensions_Length\"]\n",
        "df5=df4.drop(droplist, axis=1)"
      ],
      "execution_count": null,
      "outputs": []
    },
    {
      "cell_type": "code",
      "metadata": {
        "id": "stq6cB-oDdfN",
        "colab_type": "code",
        "colab": {
          "base_uri": "https://localhost:8080/",
          "height": 247
        },
        "outputId": "1ee65fb2-b02b-4a8b-d86d-a652755f7ad9"
      },
      "source": [
        "df5.head()"
      ],
      "execution_count": null,
      "outputs": [
        {
          "output_type": "execute_result",
          "data": {
            "text/html": [
              "<div>\n",
              "<style scoped>\n",
              "    .dataframe tbody tr th:only-of-type {\n",
              "        vertical-align: middle;\n",
              "    }\n",
              "\n",
              "    .dataframe tbody tr th {\n",
              "        vertical-align: top;\n",
              "    }\n",
              "\n",
              "    .dataframe thead th {\n",
              "        text-align: right;\n",
              "    }\n",
              "</style>\n",
              "<table border=\"1\" class=\"dataframe\">\n",
              "  <thead>\n",
              "    <tr style=\"text-align: right;\">\n",
              "      <th></th>\n",
              "      <th>Number_Classification</th>\n",
              "      <th>Black Steel</th>\n",
              "      <th>CP_PI - Copper - ASTM B88 H.D.</th>\n",
              "      <th>Carbon Steel</th>\n",
              "      <th>Carbon Steel - ASTM A53 B</th>\n",
              "      <th>Cast Iron</th>\n",
              "      <th>Copper</th>\n",
              "      <th>Ductile Iron</th>\n",
              "      <th>PVC</th>\n",
              "      <th>Steel, Carbon</th>\n",
              "      <th>1 1/2\"</th>\n",
              "      <th>1 1/4\"</th>\n",
              "      <th>1 3/8\"</th>\n",
              "      <th>1\"</th>\n",
              "      <th>1/2\"</th>\n",
              "      <th>10\"</th>\n",
              "      <th>12\"</th>\n",
              "      <th>14\"</th>\n",
              "      <th>16\"</th>\n",
              "      <th>2 1/2\"</th>\n",
              "      <th>2\"</th>\n",
              "      <th>3\"</th>\n",
              "      <th>3/4\"</th>\n",
              "      <th>4\"</th>\n",
              "      <th>5\"</th>\n",
              "      <th>6\"</th>\n",
              "      <th>8\"</th>\n",
              "    </tr>\n",
              "  </thead>\n",
              "  <tbody>\n",
              "    <tr>\n",
              "      <th>2</th>\n",
              "      <td>0</td>\n",
              "      <td>0</td>\n",
              "      <td>0</td>\n",
              "      <td>0</td>\n",
              "      <td>0</td>\n",
              "      <td>0</td>\n",
              "      <td>1</td>\n",
              "      <td>0</td>\n",
              "      <td>0</td>\n",
              "      <td>0</td>\n",
              "      <td>0</td>\n",
              "      <td>0</td>\n",
              "      <td>0</td>\n",
              "      <td>0</td>\n",
              "      <td>0</td>\n",
              "      <td>0</td>\n",
              "      <td>0</td>\n",
              "      <td>0</td>\n",
              "      <td>0</td>\n",
              "      <td>1</td>\n",
              "      <td>0</td>\n",
              "      <td>0</td>\n",
              "      <td>0</td>\n",
              "      <td>0</td>\n",
              "      <td>0</td>\n",
              "      <td>0</td>\n",
              "      <td>0</td>\n",
              "    </tr>\n",
              "    <tr>\n",
              "      <th>4</th>\n",
              "      <td>0</td>\n",
              "      <td>0</td>\n",
              "      <td>0</td>\n",
              "      <td>0</td>\n",
              "      <td>0</td>\n",
              "      <td>0</td>\n",
              "      <td>0</td>\n",
              "      <td>0</td>\n",
              "      <td>0</td>\n",
              "      <td>1</td>\n",
              "      <td>0</td>\n",
              "      <td>0</td>\n",
              "      <td>0</td>\n",
              "      <td>0</td>\n",
              "      <td>0</td>\n",
              "      <td>0</td>\n",
              "      <td>0</td>\n",
              "      <td>0</td>\n",
              "      <td>0</td>\n",
              "      <td>1</td>\n",
              "      <td>0</td>\n",
              "      <td>0</td>\n",
              "      <td>0</td>\n",
              "      <td>0</td>\n",
              "      <td>0</td>\n",
              "      <td>0</td>\n",
              "      <td>0</td>\n",
              "    </tr>\n",
              "    <tr>\n",
              "      <th>5</th>\n",
              "      <td>0</td>\n",
              "      <td>0</td>\n",
              "      <td>0</td>\n",
              "      <td>0</td>\n",
              "      <td>0</td>\n",
              "      <td>0</td>\n",
              "      <td>0</td>\n",
              "      <td>0</td>\n",
              "      <td>0</td>\n",
              "      <td>0</td>\n",
              "      <td>0</td>\n",
              "      <td>0</td>\n",
              "      <td>0</td>\n",
              "      <td>0</td>\n",
              "      <td>0</td>\n",
              "      <td>0</td>\n",
              "      <td>0</td>\n",
              "      <td>0</td>\n",
              "      <td>0</td>\n",
              "      <td>1</td>\n",
              "      <td>0</td>\n",
              "      <td>0</td>\n",
              "      <td>0</td>\n",
              "      <td>0</td>\n",
              "      <td>0</td>\n",
              "      <td>0</td>\n",
              "      <td>0</td>\n",
              "    </tr>\n",
              "    <tr>\n",
              "      <th>6</th>\n",
              "      <td>0</td>\n",
              "      <td>0</td>\n",
              "      <td>0</td>\n",
              "      <td>0</td>\n",
              "      <td>0</td>\n",
              "      <td>0</td>\n",
              "      <td>0</td>\n",
              "      <td>0</td>\n",
              "      <td>0</td>\n",
              "      <td>0</td>\n",
              "      <td>0</td>\n",
              "      <td>0</td>\n",
              "      <td>0</td>\n",
              "      <td>0</td>\n",
              "      <td>0</td>\n",
              "      <td>0</td>\n",
              "      <td>0</td>\n",
              "      <td>0</td>\n",
              "      <td>0</td>\n",
              "      <td>1</td>\n",
              "      <td>0</td>\n",
              "      <td>0</td>\n",
              "      <td>0</td>\n",
              "      <td>0</td>\n",
              "      <td>0</td>\n",
              "      <td>0</td>\n",
              "      <td>0</td>\n",
              "    </tr>\n",
              "    <tr>\n",
              "      <th>7</th>\n",
              "      <td>1</td>\n",
              "      <td>0</td>\n",
              "      <td>0</td>\n",
              "      <td>0</td>\n",
              "      <td>0</td>\n",
              "      <td>0</td>\n",
              "      <td>0</td>\n",
              "      <td>0</td>\n",
              "      <td>0</td>\n",
              "      <td>1</td>\n",
              "      <td>0</td>\n",
              "      <td>0</td>\n",
              "      <td>0</td>\n",
              "      <td>0</td>\n",
              "      <td>0</td>\n",
              "      <td>0</td>\n",
              "      <td>0</td>\n",
              "      <td>0</td>\n",
              "      <td>0</td>\n",
              "      <td>1</td>\n",
              "      <td>0</td>\n",
              "      <td>0</td>\n",
              "      <td>0</td>\n",
              "      <td>0</td>\n",
              "      <td>0</td>\n",
              "      <td>0</td>\n",
              "      <td>0</td>\n",
              "    </tr>\n",
              "  </tbody>\n",
              "</table>\n",
              "</div>"
            ],
            "text/plain": [
              "   Number_Classification  Black Steel  ...  6\"  8\"\n",
              "2                      0            0  ...   0   0\n",
              "4                      0            0  ...   0   0\n",
              "5                      0            0  ...   0   0\n",
              "6                      0            0  ...   0   0\n",
              "7                      1            0  ...   0   0\n",
              "\n",
              "[5 rows x 27 columns]"
            ]
          },
          "metadata": {
            "tags": []
          },
          "execution_count": 57
        }
      ]
    },
    {
      "cell_type": "markdown",
      "metadata": {
        "id": "W96izbzx0jOk",
        "colab_type": "text"
      },
      "source": [
        "Here we define the size of our test size."
      ]
    },
    {
      "cell_type": "code",
      "metadata": {
        "id": "M5QHgzA_E6uo",
        "colab_type": "code",
        "colab": {}
      },
      "source": [
        "\n",
        "from sklearn.model_selection import train_test_split\n",
        "X = df5.drop('Number_Classification',axis=1)\n",
        "y = df5['Number_Classification']\n",
        "X_train, X_test, y_train, y_test = train_test_split(X, y, test_size=.95, random_state=101)"
      ],
      "execution_count": null,
      "outputs": []
    },
    {
      "cell_type": "markdown",
      "metadata": {
        "id": "9xInldBn0zXE",
        "colab_type": "text"
      },
      "source": [
        "here we train our Random Forest"
      ]
    },
    {
      "cell_type": "code",
      "metadata": {
        "id": "ByAQB0N0GTun",
        "colab_type": "code",
        "colab": {
          "base_uri": "https://localhost:8080/",
          "height": 158
        },
        "outputId": "563429b9-0654-4613-9a2e-96ebe6c9af9d"
      },
      "source": [
        "from sklearn.ensemble import RandomForestClassifier\n",
        "rfc = RandomForestClassifier(n_estimators=200)\n",
        "rfc.fit(X_train,y_train)"
      ],
      "execution_count": null,
      "outputs": [
        {
          "output_type": "execute_result",
          "data": {
            "text/plain": [
              "RandomForestClassifier(bootstrap=True, ccp_alpha=0.0, class_weight=None,\n",
              "                       criterion='gini', max_depth=None, max_features='auto',\n",
              "                       max_leaf_nodes=None, max_samples=None,\n",
              "                       min_impurity_decrease=0.0, min_impurity_split=None,\n",
              "                       min_samples_leaf=1, min_samples_split=2,\n",
              "                       min_weight_fraction_leaf=0.0, n_estimators=200,\n",
              "                       n_jobs=None, oob_score=False, random_state=None,\n",
              "                       verbose=0, warm_start=False)"
            ]
          },
          "metadata": {
            "tags": []
          },
          "execution_count": 83
        }
      ]
    },
    {
      "cell_type": "code",
      "metadata": {
        "id": "YN89tZcuGqGP",
        "colab_type": "code",
        "colab": {
          "base_uri": "https://localhost:8080/",
          "height": 356
        },
        "outputId": "5e85b09a-7727-4385-bf21-e478f59d5ff6"
      },
      "source": [
        "predictions = rfc.predict(X_test)\n",
        "from sklearn.metrics import classification_report,confusion_matrix\n",
        "print(classification_report(y_test,predictions))"
      ],
      "execution_count": null,
      "outputs": [
        {
          "output_type": "stream",
          "text": [
            "              precision    recall  f1-score   support\n",
            "\n",
            "           0       0.75      0.99      0.85      1420\n",
            "           1       0.00      0.00      0.00       182\n",
            "           2       0.49      0.54      0.51       682\n",
            "           3       0.85      0.07      0.13       390\n",
            "           4       0.50      0.66      0.57       304\n",
            "           5       0.59      0.58      0.58      1433\n",
            "           6       0.54      0.52      0.53      1138\n",
            "           7       0.00      0.00      0.00         2\n",
            "           8       1.00      1.00      1.00       114\n",
            "\n",
            "    accuracy                           0.62      5665\n",
            "   macro avg       0.52      0.48      0.46      5665\n",
            "weighted avg       0.61      0.62      0.59      5665\n",
            "\n"
          ],
          "name": "stdout"
        },
        {
          "output_type": "stream",
          "text": [
            "/usr/local/lib/python3.6/dist-packages/sklearn/metrics/_classification.py:1272: UndefinedMetricWarning: Precision and F-score are ill-defined and being set to 0.0 in labels with no predicted samples. Use `zero_division` parameter to control this behavior.\n",
            "  _warn_prf(average, modifier, msg_start, len(result))\n"
          ],
          "name": "stderr"
        }
      ]
    },
    {
      "cell_type": "code",
      "metadata": {
        "id": "hRD3rOERGxMO",
        "colab_type": "code",
        "colab": {
          "base_uri": "https://localhost:8080/",
          "height": 176
        },
        "outputId": "2624c963-09d1-4cf0-f354-b3e019927bdf"
      },
      "source": [
        "print(confusion_matrix(y_test,predictions))"
      ],
      "execution_count": null,
      "outputs": [
        {
          "output_type": "stream",
          "text": [
            "[[1400    0    6    5    0    7    2    0    0]\n",
            " [  24    0  112    0    0   32   14    0    0]\n",
            " [  43    0  369    0  201   67    2    0    0]\n",
            " [ 359    0    3   28    0    0    0    0    0]\n",
            " [   1    0   75    0  202   26    0    0    0]\n",
            " [   8    0  106    0    0  829  490    0    0]\n",
            " [  21    0   85    0    0  444  588    0    0]\n",
            " [   0    0    0    0    0    2    0    0    0]\n",
            " [   0    0    0    0    0    0    0    0  114]]\n"
          ],
          "name": "stdout"
        }
      ]
    },
    {
      "cell_type": "markdown",
      "metadata": {
        "id": "vbJSioNZ1l8v",
        "colab_type": "text"
      },
      "source": [
        ""
      ]
    },
    {
      "cell_type": "code",
      "metadata": {
        "id": "KbQCE_M6G8yH",
        "colab_type": "code",
        "colab": {
          "base_uri": "https://localhost:8080/",
          "height": 176
        },
        "outputId": "aa57b959-d046-4b25-9e7c-0ca4a004003c"
      },
      "source": [
        "dicc"
      ],
      "execution_count": null,
      "outputs": [
        {
          "output_type": "execute_result",
          "data": {
            "text/plain": [
              "{'Domestic Cold Water': 2,\n",
              " 'Domestic Hot Water': 4,\n",
              " 'Fire Protection Dry': 8,\n",
              " 'Fire Protection Wet': 7,\n",
              " 'Hydronic Return': 6,\n",
              " 'Hydronic Supply': 5,\n",
              " 'Other': 1,\n",
              " 'Sanitary': 0,\n",
              " 'Vent': 3}"
            ]
          },
          "metadata": {
            "tags": []
          },
          "execution_count": 87
        }
      ]
    },
    {
      "cell_type": "code",
      "metadata": {
        "id": "kh3hXCHy1Hc3",
        "colab_type": "code",
        "colab": {}
      },
      "source": [
        ""
      ],
      "execution_count": null,
      "outputs": []
    }
  ]
}