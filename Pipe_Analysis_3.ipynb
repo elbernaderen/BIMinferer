{
  "nbformat": 4,
  "nbformat_minor": 0,
  "metadata": {
    "colab": {
      "name": "Copia de Pipe Analysis 2.ipynb",
      "provenance": [],
      "collapsed_sections": [],
      "authorship_tag": "ABX9TyMKTx1GOy7aWeZ8JAkZB40d",
      "include_colab_link": true
    },
    "kernelspec": {
      "name": "python3",
      "display_name": "Python 3"
    }
  },
  "cells": [
    {
      "cell_type": "markdown",
      "metadata": {
        "id": "view-in-github",
        "colab_type": "text"
      },
      "source": [
        "<a href=\"https://colab.research.google.com/github/pabloderen/BIMnferer/blob/master/Pipe_Analysis_3.ipynb\" target=\"_parent\"><img src=\"https://colab.research.google.com/assets/colab-badge.svg\" alt=\"Open In Colab\"/></a>"
      ]
    },
    {
      "cell_type": "markdown",
      "metadata": {
        "id": "HeBe9Qe18MzP",
        "colab_type": "text"
      },
      "source": [
        "# Import Libraries"
      ]
    },
    {
      "cell_type": "code",
      "metadata": {
        "id": "MHjuBxluIVMr",
        "colab_type": "code",
        "colab": {}
      },
      "source": [
        "import pandas as pd\n",
        "import json\n",
        "import urllib\n",
        "import matplotlib.pyplot as plt\n",
        "import seaborn as sns\n",
        "from sklearn.model_selection import train_test_split\n",
        "from sklearn.ensemble import RandomForestClassifier\n",
        "import numpy as np\n"
      ],
      "execution_count": 179,
      "outputs": []
    },
    {
      "cell_type": "markdown",
      "metadata": {
        "id": "tho_BSd-8ZPH",
        "colab_type": "text"
      },
      "source": [
        "# Download the Data"
      ]
    },
    {
      "cell_type": "markdown",
      "metadata": {
        "id": "lUK3RdE1uwiK",
        "colab_type": "text"
      },
      "source": [
        "We download from de API in Flasgger (http://3.14.88.102:5000/apidocs/) the Pipe list item and it´s parameters\n"
      ]
    },
    {
      "cell_type": "code",
      "metadata": {
        "id": "c8evbTkGaURM",
        "colab_type": "code",
        "colab": {}
      },
      "source": [
        "jsonfile = urllib.request.urlopen(\"http://3.14.88.102:5000/api/1/elements/pipes/?limit=6000\").read().decode()\n",
        "j=json.loads(jsonfile)"
      ],
      "execution_count": 44,
      "outputs": []
    },
    {
      "cell_type": "markdown",
      "metadata": {
        "id": "xZAw2F-Mu2KX",
        "colab_type": "text"
      },
      "source": [
        "Then we make a Data Frame with the json file"
      ]
    },
    {
      "cell_type": "markdown",
      "metadata": {
        "id": "dfjKOj7w8g1h",
        "colab_type": "text"
      },
      "source": [
        "# Create the DataFrame"
      ]
    },
    {
      "cell_type": "code",
      "metadata": {
        "id": "XDuejJ1WaoY_",
        "colab_type": "code",
        "colab": {
          "base_uri": "https://localhost:8080/",
          "height": 334
        },
        "outputId": "003d6a5e-142c-4ad7-e2c2-0d24dfe111ec"
      },
      "source": [
        "df= pd.json_normalize(j)\n",
        "df.head(3)"
      ],
      "execution_count": 45,
      "outputs": [
        {
          "output_type": "execute_result",
          "data": {
            "text/html": [
              "<div>\n",
              "<style scoped>\n",
              "    .dataframe tbody tr th:only-of-type {\n",
              "        vertical-align: middle;\n",
              "    }\n",
              "\n",
              "    .dataframe tbody tr th {\n",
              "        vertical-align: top;\n",
              "    }\n",
              "\n",
              "    .dataframe thead th {\n",
              "        text-align: right;\n",
              "    }\n",
              "</style>\n",
              "<table border=\"1\" class=\"dataframe\">\n",
              "  <thead>\n",
              "    <tr style=\"text-align: right;\">\n",
              "      <th></th>\n",
              "      <th>projectId</th>\n",
              "      <th>Category</th>\n",
              "      <th>modelId</th>\n",
              "      <th>_id.$oid</th>\n",
              "      <th>properties_Dimensions_Length</th>\n",
              "      <th>properties_Dimensions_Size</th>\n",
              "      <th>properties_Mechanical_Material</th>\n",
              "      <th>properties_Mechanical_System Classification</th>\n",
              "    </tr>\n",
              "  </thead>\n",
              "  <tbody>\n",
              "    <tr>\n",
              "      <th>0</th>\n",
              "      <td>b.c94f85e5-88fb-402c-bc60-72622f5f85b6</td>\n",
              "      <td>Pipes</td>\n",
              "      <td>d4ea3308-4b3f-d382-cacb-9791f772042b</td>\n",
              "      <td>5eee8651cb573f2fc2216a82</td>\n",
              "      <td>NaN</td>\n",
              "      <td>NaN</td>\n",
              "      <td>NaN</td>\n",
              "      <td>NaN</td>\n",
              "    </tr>\n",
              "    <tr>\n",
              "      <th>1</th>\n",
              "      <td>b.c94f85e5-88fb-402c-bc60-72622f5f85b6</td>\n",
              "      <td>Pipes</td>\n",
              "      <td>d4ea3308-4b3f-d382-cacb-9791f772042b</td>\n",
              "      <td>5eee8651cb573f2fc2216a83</td>\n",
              "      <td>NaN</td>\n",
              "      <td>NaN</td>\n",
              "      <td>NaN</td>\n",
              "      <td>NaN</td>\n",
              "    </tr>\n",
              "    <tr>\n",
              "      <th>2</th>\n",
              "      <td>b.c94f85e5-88fb-402c-bc60-72622f5f85b6</td>\n",
              "      <td>Pipes</td>\n",
              "      <td>d4ea3308-4b3f-d382-cacb-9791f772042b</td>\n",
              "      <td>5eee8651cb573f2fc2216a84</td>\n",
              "      <td>0.398 ft</td>\n",
              "      <td>2 1/2\"</td>\n",
              "      <td>Copper</td>\n",
              "      <td>Sanitary</td>\n",
              "    </tr>\n",
              "  </tbody>\n",
              "</table>\n",
              "</div>"
            ],
            "text/plain": [
              "                                projectId  ... properties_Mechanical_System Classification\n",
              "0  b.c94f85e5-88fb-402c-bc60-72622f5f85b6  ...                                         NaN\n",
              "1  b.c94f85e5-88fb-402c-bc60-72622f5f85b6  ...                                         NaN\n",
              "2  b.c94f85e5-88fb-402c-bc60-72622f5f85b6  ...                                    Sanitary\n",
              "\n",
              "[3 rows x 8 columns]"
            ]
          },
          "metadata": {
            "tags": []
          },
          "execution_count": 45
        }
      ]
    },
    {
      "cell_type": "markdown",
      "metadata": {
        "id": "QRqkmUdp9AgZ",
        "colab_type": "text"
      },
      "source": [
        "# Material Edition"
      ]
    },
    {
      "cell_type": "markdown",
      "metadata": {
        "id": "mhPq5G4TvKTg",
        "colab_type": "text"
      },
      "source": [
        "we can see how many different materials we have, so then we will \n",
        "group by PVC, Copper and Steel"
      ]
    },
    {
      "cell_type": "code",
      "metadata": {
        "id": "YgAbL4g_bzz-",
        "colab_type": "code",
        "colab": {
          "base_uri": "https://localhost:8080/",
          "height": 121
        },
        "outputId": "e820b995-1067-4601-d137-d124d8414b59"
      },
      "source": [
        "df[\"properties_Mechanical_Material\"].unique()"
      ],
      "execution_count": 46,
      "outputs": [
        {
          "output_type": "execute_result",
          "data": {
            "text/plain": [
              "array([nan, 'Copper', 'Steel, Carbon', '<By Category>',\n",
              "       'Polyvinyl Chloride - Rigid', 'CP_PI - Copper - ASTM B88 H.D.',\n",
              "       'CP_PI - Steel - ASTM A53-B', 'CP_PI - PVC', 'Cast Iron',\n",
              "       'Black Steel', 'Carbon Steel', 'Ductile Iron',\n",
              "       'Polyvinyl Chloride, Rigid', 'Carbon Steel - ASTM A53 B'],\n",
              "      dtype=object)"
            ]
          },
          "metadata": {
            "tags": []
          },
          "execution_count": 46
        }
      ]
    },
    {
      "cell_type": "markdown",
      "metadata": {
        "id": "OgBVVzDvvX9G",
        "colab_type": "text"
      },
      "source": [
        "To make such a grouping, we define a function that search in the \"properties_Mechanical_Material\" and change each row that has another different name for the same material"
      ]
    },
    {
      "cell_type": "code",
      "metadata": {
        "id": "UTHogQgzb2l2",
        "colab_type": "code",
        "colab": {}
      },
      "source": [
        "def search(data):\n",
        "   \n",
        "    if \"A53\" in data.upper():\n",
        "        return \"Carbon Steel - ASTM A53 B\"\n",
        "    if \"CATEGORY\" in data.upper():\n",
        "        return \"NaN\"\n",
        "    if \"POLYVINYL\" in data.upper():\n",
        "        return \"PVC\"\n",
        "    if \"PVC\" in data.upper():\n",
        "        return \"PVC\"\n",
        "    if \"NAN\" in data.upper():\n",
        "        return \"NaN\"\n",
        "    else:\n",
        "        return data"
      ],
      "execution_count": 47,
      "outputs": []
    },
    {
      "cell_type": "markdown",
      "metadata": {
        "id": "ybOsaokEvXE9",
        "colab_type": "text"
      },
      "source": [
        "For practical purpuses, we will make a copy of the DataFrame, \n",
        "then apply the function in each row of the \"properties_Mechanical_Material\" column."
      ]
    },
    {
      "cell_type": "code",
      "metadata": {
        "id": "plRdbEgthiWL",
        "colab_type": "code",
        "colab": {}
      },
      "source": [
        "df2=df\n",
        "df2[\"properties_Mechanical_Material\"]=df2[\"properties_Mechanical_Material\"].apply(lambda x: search(str(x)))\n"
      ],
      "execution_count": 48,
      "outputs": []
    },
    {
      "cell_type": "markdown",
      "metadata": {
        "id": "wOwwSG9NvlL6",
        "colab_type": "text"
      },
      "source": [
        "here is the amount of each material kind"
      ]
    },
    {
      "cell_type": "code",
      "metadata": {
        "id": "iT4kvHHviEZA",
        "colab_type": "code",
        "colab": {
          "base_uri": "https://localhost:8080/",
          "height": 208
        },
        "outputId": "8a12c3e4-b80e-4d20-a30c-f2fc298bc017"
      },
      "source": [
        "\n",
        "df2[\"properties_Mechanical_Material\"].value_counts()\n"
      ],
      "execution_count": 49,
      "outputs": [
        {
          "output_type": "execute_result",
          "data": {
            "text/plain": [
              "PVC                               1745\n",
              "Carbon Steel - ASTM A53 B         1322\n",
              "Carbon Steel                      1237\n",
              "Copper                            1102\n",
              "CP_PI - Copper - ASTM B88 H.D.     424\n",
              "Steel, Carbon                      121\n",
              "NaN                                 41\n",
              "Black Steel                          4\n",
              "Cast Iron                            2\n",
              "Ductile Iron                         2\n",
              "Name: properties_Mechanical_Material, dtype: int64"
            ]
          },
          "metadata": {
            "tags": []
          },
          "execution_count": 49
        }
      ]
    },
    {
      "cell_type": "markdown",
      "metadata": {
        "id": "RWwVmgDth6Z0",
        "colab_type": "text"
      },
      "source": [
        "Here we can see a graphic of the different amount of each materials:"
      ]
    },
    {
      "cell_type": "markdown",
      "metadata": {
        "id": "kFswPbNH843V",
        "colab_type": "text"
      },
      "source": [
        "# Graphics"
      ]
    },
    {
      "cell_type": "code",
      "metadata": {
        "id": "wPtZ6q2UZydL",
        "colab_type": "code",
        "colab": {
          "base_uri": "https://localhost:8080/",
          "height": 296
        },
        "outputId": "64221992-b4d3-4018-f4a4-b0ad322b1bf9"
      },
      "source": [
        "import matplotlib.pyplot as plt\n",
        "import seaborn as sns\n",
        "plt.figure(figsize=(20,4))\n",
        "ax=sns.countplot(y=\"properties_Mechanical_Material\",data=df2,order=df2[\"properties_Mechanical_Material\"].value_counts().index)\n",
        "ax.set( ylabel=\"Material\")"
      ],
      "execution_count": 50,
      "outputs": [
        {
          "output_type": "execute_result",
          "data": {
            "text/plain": [
              "[Text(0, 0.5, 'Material')]"
            ]
          },
          "metadata": {
            "tags": []
          },
          "execution_count": 50
        },
        {
          "output_type": "display_data",
          "data": {
            "image/png": "[encoded data removed]",
            "text/plain": [
              "<Figure size 1440x288 with 1 Axes>"
            ]
          },
          "metadata": {
            "tags": [],
            "needs_background": "light"
          }
        }
      ]
    },
    {
      "cell_type": "code",
      "metadata": {
        "id": "BYFuxyS8i3ww",
        "colab_type": "code",
        "colab": {
          "base_uri": "https://localhost:8080/",
          "height": 190
        },
        "outputId": "769f34e1-7c56-448c-c14b-0faf92e66ea2"
      },
      "source": [
        "df2[\"properties_Mechanical_System Classification\"].value_counts()"
      ],
      "execution_count": 51,
      "outputs": [
        {
          "output_type": "execute_result",
          "data": {
            "text/plain": [
              "Sanitary               1499\n",
              "Hydronic Supply        1496\n",
              "Hydronic Return        1209\n",
              "Domestic Cold Water     716\n",
              "Vent                    417\n",
              "Domestic Hot Water      321\n",
              "Other                   187\n",
              "Fire Protection Dry     116\n",
              "Fire Protection Wet       2\n",
              "Name: properties_Mechanical_System Classification, dtype: int64"
            ]
          },
          "metadata": {
            "tags": []
          },
          "execution_count": 51
        }
      ]
    },
    {
      "cell_type": "markdown",
      "metadata": {
        "id": "l064bxxYqmhp",
        "colab_type": "text"
      },
      "source": [
        "Here we have an graphic of the system"
      ]
    },
    {
      "cell_type": "code",
      "metadata": {
        "id": "x4IMTSsYlD3z",
        "colab_type": "code",
        "colab": {
          "base_uri": "https://localhost:8080/",
          "height": 296
        },
        "outputId": "706bb7f6-193b-4852-b4e8-36f6f1b1d282"
      },
      "source": [
        "plt.figure(figsize=(20,4))\n",
        "ax=sns.countplot(y=\"properties_Mechanical_System Classification\",data=df2,order=df2[\"properties_Mechanical_System Classification\"].value_counts().index)\n",
        "ax.set( ylabel=\"System Classification\")"
      ],
      "execution_count": 52,
      "outputs": [
        {
          "output_type": "execute_result",
          "data": {
            "text/plain": [
              "[Text(0, 0.5, 'System Classification')]"
            ]
          },
          "metadata": {
            "tags": []
          },
          "execution_count": 52
        },
        {
          "output_type": "display_data",
          "data": {
            "image/png": "[encoded data removed]",
            "text/plain": [
              "<Figure size 1440x288 with 1 Axes>"
            ]
          },
          "metadata": {
            "tags": [],
            "needs_background": "light"
          }
        }
      ]
    },
    {
      "cell_type": "markdown",
      "metadata": {
        "id": "WaVPOze3952n",
        "colab_type": "text"
      },
      "source": [
        "# Length Edition"
      ]
    },
    {
      "cell_type": "markdown",
      "metadata": {
        "id": "T3BhD3XMvrpr",
        "colab_type": "text"
      },
      "source": [
        "We drop the rows with properties_Dimensions_Length NaN values."
      ]
    },
    {
      "cell_type": "code",
      "metadata": {
        "id": "M75QW1_8neCa",
        "colab_type": "code",
        "colab": {}
      },
      "source": [
        "df3=df2.dropna(axis=0,subset=[\"properties_Dimensions_Length\"])\n"
      ],
      "execution_count": 54,
      "outputs": []
    },
    {
      "cell_type": "markdown",
      "metadata": {
        "id": "JcNUU0BYvwqm",
        "colab_type": "text"
      },
      "source": [
        "Her we start to convert the properties_Dimensions_Length from string to float \n",
        "(we use x.replace(\" ft\",\"\") and x.replace(\"  ft\",\"\"), notice the spaces in each case)\n",
        "\n"
      ]
    },
    {
      "cell_type": "code",
      "metadata": {
        "id": "iNgt0y4mlQti",
        "colab_type": "code",
        "colab": {
          "base_uri": "https://localhost:8080/",
          "height": 225
        },
        "outputId": "a5e10067-e27f-440e-9db0-702bebeb2207"
      },
      "source": [
        "df3[\"properties_Dimensions_Length\"]= df3[\"properties_Dimensions_Length\"].apply(lambda x: x.replace(\" ft\",\"\"))\n",
        "df3[\"properties_Dimensions_Length\"]= df3[\"properties_Dimensions_Length\"].apply(lambda x: x.replace(\"  ft\",\"\"))"
      ],
      "execution_count": 55,
      "outputs": [
        {
          "output_type": "stream",
          "text": [
            "/usr/local/lib/python3.6/dist-packages/ipykernel_launcher.py:1: SettingWithCopyWarning: \n",
            "A value is trying to be set on a copy of a slice from a DataFrame.\n",
            "Try using .loc[row_indexer,col_indexer] = value instead\n",
            "\n",
            "See the caveats in the documentation: https://pandas.pydata.org/pandas-docs/stable/user_guide/indexing.html#returning-a-view-versus-a-copy\n",
            "  \"\"\"Entry point for launching an IPython kernel.\n",
            "/usr/local/lib/python3.6/dist-packages/ipykernel_launcher.py:2: SettingWithCopyWarning: \n",
            "A value is trying to be set on a copy of a slice from a DataFrame.\n",
            "Try using .loc[row_indexer,col_indexer] = value instead\n",
            "\n",
            "See the caveats in the documentation: https://pandas.pydata.org/pandas-docs/stable/user_guide/indexing.html#returning-a-view-versus-a-copy\n",
            "  \n"
          ],
          "name": "stderr"
        }
      ]
    },
    {
      "cell_type": "code",
      "metadata": {
        "id": "kHkyOp41o4ai",
        "colab_type": "code",
        "colab": {
          "base_uri": "https://localhost:8080/",
          "height": 121
        },
        "outputId": "857b1b52-83b0-45e5-9c25-eb346198c06c"
      },
      "source": [
        "df3[\"properties_Dimensions_Length\"]= df3[\"properties_Dimensions_Length\"].apply(lambda x: float(x))"
      ],
      "execution_count": 56,
      "outputs": [
        {
          "output_type": "stream",
          "text": [
            "/usr/local/lib/python3.6/dist-packages/ipykernel_launcher.py:1: SettingWithCopyWarning: \n",
            "A value is trying to be set on a copy of a slice from a DataFrame.\n",
            "Try using .loc[row_indexer,col_indexer] = value instead\n",
            "\n",
            "See the caveats in the documentation: https://pandas.pydata.org/pandas-docs/stable/user_guide/indexing.html#returning-a-view-versus-a-copy\n",
            "  \"\"\"Entry point for launching an IPython kernel.\n"
          ],
          "name": "stderr"
        }
      ]
    },
    {
      "cell_type": "markdown",
      "metadata": {
        "id": "ZDqTjUIQ-TO0",
        "colab_type": "text"
      },
      "source": [
        "# Size Edition"
      ]
    },
    {
      "cell_type": "markdown",
      "metadata": {
        "id": "SDSSSckRv-Nv",
        "colab_type": "text"
      },
      "source": [
        "we are analazing pipes, so we know that the dimensions Sizes are the diameter sizes. Then we can see that because a Size has the diameter simbol, creates another dimension. So we will take of the diameter simbol of all the column."
      ]
    },
    {
      "cell_type": "code",
      "metadata": {
        "id": "LGjqjizjo7Xx",
        "colab_type": "code",
        "colab": {
          "base_uri": "https://localhost:8080/",
          "height": 121
        },
        "outputId": "d8c094df-c3ae-4dd8-db3a-11ceb9548e79"
      },
      "source": [
        "df3[\"properties_Dimensions_Size\"].value_counts().head(5)"
      ],
      "execution_count": 58,
      "outputs": [
        {
          "output_type": "execute_result",
          "data": {
            "text/plain": [
              "2\"     643\n",
              "4\"ø    530\n",
              "4\"     522\n",
              "6\"ø    466\n",
              "3\"     436\n",
              "Name: properties_Dimensions_Size, dtype: int64"
            ]
          },
          "metadata": {
            "tags": []
          },
          "execution_count": 58
        }
      ]
    },
    {
      "cell_type": "code",
      "metadata": {
        "id": "CPl-4Ya6qSIj",
        "colab_type": "code",
        "colab": {
          "base_uri": "https://localhost:8080/",
          "height": 121
        },
        "outputId": "45f0e807-60a5-480a-da29-af3d275f89bc"
      },
      "source": [
        "df3[\"properties_Dimensions_Size\"]= df3[\"properties_Dimensions_Size\"].apply(lambda x: x.replace(\"ø\",\"\"))"
      ],
      "execution_count": 59,
      "outputs": [
        {
          "output_type": "stream",
          "text": [
            "/usr/local/lib/python3.6/dist-packages/ipykernel_launcher.py:1: SettingWithCopyWarning: \n",
            "A value is trying to be set on a copy of a slice from a DataFrame.\n",
            "Try using .loc[row_indexer,col_indexer] = value instead\n",
            "\n",
            "See the caveats in the documentation: https://pandas.pydata.org/pandas-docs/stable/user_guide/indexing.html#returning-a-view-versus-a-copy\n",
            "  \"\"\"Entry point for launching an IPython kernel.\n"
          ],
          "name": "stderr"
        }
      ]
    },
    {
      "cell_type": "markdown",
      "metadata": {
        "id": "2na5JNpnwHjp",
        "colab_type": "text"
      },
      "source": [
        "Here we eliminate any leading and trailing whitespaces"
      ]
    },
    {
      "cell_type": "code",
      "metadata": {
        "id": "5oBxJ0zxsBcc",
        "colab_type": "code",
        "colab": {
          "base_uri": "https://localhost:8080/",
          "height": 121
        },
        "outputId": "948c5f12-1d4b-41b7-f815-aad4bbef3523"
      },
      "source": [
        "df3[\"properties_Dimensions_Size\"]= df3[\"properties_Dimensions_Size\"].apply(lambda x: x.strip())"
      ],
      "execution_count": 60,
      "outputs": [
        {
          "output_type": "stream",
          "text": [
            "/usr/local/lib/python3.6/dist-packages/ipykernel_launcher.py:1: SettingWithCopyWarning: \n",
            "A value is trying to be set on a copy of a slice from a DataFrame.\n",
            "Try using .loc[row_indexer,col_indexer] = value instead\n",
            "\n",
            "See the caveats in the documentation: https://pandas.pydata.org/pandas-docs/stable/user_guide/indexing.html#returning-a-view-versus-a-copy\n",
            "  \"\"\"Entry point for launching an IPython kernel.\n"
          ],
          "name": "stderr"
        }
      ]
    },
    {
      "cell_type": "code",
      "metadata": {
        "id": "cU7zWrMusOSS",
        "colab_type": "code",
        "colab": {
          "base_uri": "https://localhost:8080/",
          "height": 329
        },
        "outputId": "26ea1a45-c1dc-4e4d-9fde-1727fd38e834"
      },
      "source": [
        "df3[\"properties_Dimensions_Size\"].value_counts()"
      ],
      "execution_count": 61,
      "outputs": [
        {
          "output_type": "execute_result",
          "data": {
            "text/plain": [
              "4\"        1070\n",
              "2\"         835\n",
              "3/4\"       727\n",
              "6\"         636\n",
              "3\"         592\n",
              "1\"         580\n",
              "2 1/2\"     316\n",
              "1 1/4\"     257\n",
              "1/2\"       241\n",
              "1 1/2\"     235\n",
              "16\"        146\n",
              "14\"         96\n",
              "8\"          84\n",
              "12\"         64\n",
              "10\"         60\n",
              "5\"          22\n",
              "1 3/8\"       2\n",
              "Name: properties_Dimensions_Size, dtype: int64"
            ]
          },
          "metadata": {
            "tags": []
          },
          "execution_count": 61
        }
      ]
    },
    {
      "cell_type": "code",
      "metadata": {
        "id": "m17CZx9CpzrU",
        "colab_type": "code",
        "colab": {
          "base_uri": "https://localhost:8080/",
          "height": 296
        },
        "outputId": "d54ab1d1-26b2-4506-d7b4-b6e6147cd773"
      },
      "source": [
        "plt.figure(figsize=(20,4))\n",
        "ax=sns.countplot(x=\"properties_Dimensions_Size\",data=df3,order=df3[\"properties_Dimensions_Size\"].value_counts().index)\n",
        "ax.set( xlabel= \"Dimensions Size\")"
      ],
      "execution_count": 62,
      "outputs": [
        {
          "output_type": "execute_result",
          "data": {
            "text/plain": [
              "[Text(0.5, 0, 'Dimensions Size')]"
            ]
          },
          "metadata": {
            "tags": []
          },
          "execution_count": 62
        },
        {
          "output_type": "display_data",
          "data": {
            "image/png": "[encoded data removed]",
            "text/plain": [
              "<Figure size 1440x288 with 1 Axes>"
            ]
          },
          "metadata": {
            "tags": [],
            "needs_background": "light"
          }
        }
      ]
    },
    {
      "cell_type": "markdown",
      "metadata": {
        "id": "ujOqPXMD-hTc",
        "colab_type": "text"
      },
      "source": [
        "# Enlist Materials"
      ]
    },
    {
      "cell_type": "markdown",
      "metadata": {
        "id": "RC1L-PFYwRVk",
        "colab_type": "text"
      },
      "source": [
        "The \"\"properties_Mechanical_Material\" are 10 different types. Our target of inference will be the differents kinds of materials"
      ]
    },
    {
      "cell_type": "code",
      "metadata": {
        "id": "3k5FOAuKzDk-",
        "colab_type": "code",
        "colab": {
          "base_uri": "https://localhost:8080/",
          "height": 86
        },
        "outputId": "ce364365-8629-46ad-db29-fbe388316110"
      },
      "source": [
        " lista = df3[\"properties_Mechanical_Material\"].unique()\n",
        "lista"
      ],
      "execution_count": 63,
      "outputs": [
        {
          "output_type": "execute_result",
          "data": {
            "text/plain": [
              "array(['Copper', 'Steel, Carbon', 'NaN', 'PVC',\n",
              "       'CP_PI - Copper - ASTM B88 H.D.', 'Carbon Steel - ASTM A53 B',\n",
              "       'Cast Iron', 'Black Steel', 'Carbon Steel', 'Ductile Iron'],\n",
              "      dtype=object)"
            ]
          },
          "metadata": {
            "tags": []
          },
          "execution_count": 63
        }
      ]
    },
    {
      "cell_type": "markdown",
      "metadata": {
        "id": "i_J6RFunyEKN",
        "colab_type": "text"
      },
      "source": [
        "Set a number designator to all properties_Mechanical_System Classification"
      ]
    },
    {
      "cell_type": "code",
      "metadata": {
        "id": "z6Kv2FqT4lPJ",
        "colab_type": "code",
        "colab": {}
      },
      "source": [
        "dicc={}\n",
        "i=0\n",
        "for i in range(0,10):\n",
        "  dicc[lista[i]]=i"
      ],
      "execution_count": 64,
      "outputs": []
    },
    {
      "cell_type": "markdown",
      "metadata": {
        "id": "QiZ6DhR8yJjX",
        "colab_type": "text"
      },
      "source": [
        "we create a column with this designation"
      ]
    },
    {
      "cell_type": "code",
      "metadata": {
        "id": "QrHPPEAY7HLW",
        "colab_type": "code",
        "colab": {
          "base_uri": "https://localhost:8080/",
          "height": 121
        },
        "outputId": "50e92840-1cda-481b-bf6a-e3f3af8a321c"
      },
      "source": [
        "df3[\"Material_Number\"]=df3[\"properties_Mechanical_Material\"].apply(lambda x: dicc[x])"
      ],
      "execution_count": 65,
      "outputs": [
        {
          "output_type": "stream",
          "text": [
            "/usr/local/lib/python3.6/dist-packages/ipykernel_launcher.py:1: SettingWithCopyWarning: \n",
            "A value is trying to be set on a copy of a slice from a DataFrame.\n",
            "Try using .loc[row_indexer,col_indexer] = value instead\n",
            "\n",
            "See the caveats in the documentation: https://pandas.pydata.org/pandas-docs/stable/user_guide/indexing.html#returning-a-view-versus-a-copy\n",
            "  \"\"\"Entry point for launching an IPython kernel.\n"
          ],
          "name": "stderr"
        }
      ]
    },
    {
      "cell_type": "markdown",
      "metadata": {
        "id": "I6s_CtQc-24D",
        "colab_type": "text"
      },
      "source": [
        "# Dummies Data"
      ]
    },
    {
      "cell_type": "markdown",
      "metadata": {
        "id": "t7saSN21yTX-",
        "colab_type": "text"
      },
      "source": [
        "Then we get the dummies properties_Dimensions_Size and properties Mechanical System Classification"
      ]
    },
    {
      "cell_type": "code",
      "metadata": {
        "id": "AmyPgZCRAvew",
        "colab_type": "code",
        "colab": {
          "base_uri": "https://localhost:8080/",
          "height": 34
        },
        "outputId": "43fc2362-2f86-40cc-d942-444e8818844a"
      },
      "source": [
        "df3[\"properties_Dimensions_Size\"].nunique()"
      ],
      "execution_count": 66,
      "outputs": [
        {
          "output_type": "execute_result",
          "data": {
            "text/plain": [
              "17"
            ]
          },
          "metadata": {
            "tags": []
          },
          "execution_count": 66
        }
      ]
    },
    {
      "cell_type": "code",
      "metadata": {
        "id": "9ycVwcKjCgvR",
        "colab_type": "code",
        "colab": {}
      },
      "source": [
        "classification= pd.get_dummies(df3[\"properties_Mechanical_System Classification\"])\n"
      ],
      "execution_count": 67,
      "outputs": []
    },
    {
      "cell_type": "code",
      "metadata": {
        "id": "vqO2WjXXC68e",
        "colab_type": "code",
        "colab": {}
      },
      "source": [
        "Dimensions_Size= pd.get_dummies(df3[\"properties_Dimensions_Size\"])\n"
      ],
      "execution_count": 68,
      "outputs": []
    },
    {
      "cell_type": "code",
      "metadata": {
        "id": "iDwJ9-vADJn-",
        "colab_type": "code",
        "colab": {}
      },
      "source": [
        "df4 = pd.concat([df3,classification,Dimensions_Size],axis=1)"
      ],
      "execution_count": 69,
      "outputs": []
    },
    {
      "cell_type": "markdown",
      "metadata": {
        "id": "Km2r9PUNyahz",
        "colab_type": "text"
      },
      "source": [
        "We eliminate some columns that we will not use "
      ]
    },
    {
      "cell_type": "code",
      "metadata": {
        "id": "pZk1FdqEDb71",
        "colab_type": "code",
        "colab": {}
      },
      "source": [
        "droplist=[\"Category\",\"properties_Mechanical_System Classification\",\"properties_Mechanical_Material\",\"properties_Dimensions_Size\", \"projectId\", \"modelId\",\"_id.$oid\"]\n",
        "df5=df4.drop(droplist, axis=1)"
      ],
      "execution_count": 91,
      "outputs": []
    },
    {
      "cell_type": "code",
      "metadata": {
        "id": "stq6cB-oDdfN",
        "colab_type": "code",
        "colab": {
          "base_uri": "https://localhost:8080/",
          "height": 196
        },
        "outputId": "f1b498bc-f554-4443-ac37-027b013ed1a2"
      },
      "source": [
        "df5.head(3)"
      ],
      "execution_count": 86,
      "outputs": [
        {
          "output_type": "execute_result",
          "data": {
            "text/html": [
              "<div>\n",
              "<style scoped>\n",
              "    .dataframe tbody tr th:only-of-type {\n",
              "        vertical-align: middle;\n",
              "    }\n",
              "\n",
              "    .dataframe tbody tr th {\n",
              "        vertical-align: top;\n",
              "    }\n",
              "\n",
              "    .dataframe thead th {\n",
              "        text-align: right;\n",
              "    }\n",
              "</style>\n",
              "<table border=\"1\" class=\"dataframe\">\n",
              "  <thead>\n",
              "    <tr style=\"text-align: right;\">\n",
              "      <th></th>\n",
              "      <th>Material_Number</th>\n",
              "      <th>Domestic Cold Water</th>\n",
              "      <th>Domestic Hot Water</th>\n",
              "      <th>Fire Protection Dry</th>\n",
              "      <th>Fire Protection Wet</th>\n",
              "      <th>Hydronic Return</th>\n",
              "      <th>Hydronic Supply</th>\n",
              "      <th>Other</th>\n",
              "      <th>Sanitary</th>\n",
              "      <th>Vent</th>\n",
              "      <th>1 1/2\"</th>\n",
              "      <th>1 1/4\"</th>\n",
              "      <th>1 3/8\"</th>\n",
              "      <th>1\"</th>\n",
              "      <th>1/2\"</th>\n",
              "      <th>10\"</th>\n",
              "      <th>12\"</th>\n",
              "      <th>14\"</th>\n",
              "      <th>16\"</th>\n",
              "      <th>2 1/2\"</th>\n",
              "      <th>2\"</th>\n",
              "      <th>3\"</th>\n",
              "      <th>3/4\"</th>\n",
              "      <th>4\"</th>\n",
              "      <th>5\"</th>\n",
              "      <th>6\"</th>\n",
              "      <th>8\"</th>\n",
              "    </tr>\n",
              "  </thead>\n",
              "  <tbody>\n",
              "    <tr>\n",
              "      <th>2</th>\n",
              "      <td>0</td>\n",
              "      <td>0</td>\n",
              "      <td>0</td>\n",
              "      <td>0</td>\n",
              "      <td>0</td>\n",
              "      <td>0</td>\n",
              "      <td>0</td>\n",
              "      <td>0</td>\n",
              "      <td>1</td>\n",
              "      <td>0</td>\n",
              "      <td>0</td>\n",
              "      <td>0</td>\n",
              "      <td>0</td>\n",
              "      <td>0</td>\n",
              "      <td>0</td>\n",
              "      <td>0</td>\n",
              "      <td>0</td>\n",
              "      <td>0</td>\n",
              "      <td>0</td>\n",
              "      <td>1</td>\n",
              "      <td>0</td>\n",
              "      <td>0</td>\n",
              "      <td>0</td>\n",
              "      <td>0</td>\n",
              "      <td>0</td>\n",
              "      <td>0</td>\n",
              "      <td>0</td>\n",
              "    </tr>\n",
              "    <tr>\n",
              "      <th>4</th>\n",
              "      <td>1</td>\n",
              "      <td>0</td>\n",
              "      <td>0</td>\n",
              "      <td>0</td>\n",
              "      <td>0</td>\n",
              "      <td>0</td>\n",
              "      <td>0</td>\n",
              "      <td>0</td>\n",
              "      <td>1</td>\n",
              "      <td>0</td>\n",
              "      <td>0</td>\n",
              "      <td>0</td>\n",
              "      <td>0</td>\n",
              "      <td>0</td>\n",
              "      <td>0</td>\n",
              "      <td>0</td>\n",
              "      <td>0</td>\n",
              "      <td>0</td>\n",
              "      <td>0</td>\n",
              "      <td>1</td>\n",
              "      <td>0</td>\n",
              "      <td>0</td>\n",
              "      <td>0</td>\n",
              "      <td>0</td>\n",
              "      <td>0</td>\n",
              "      <td>0</td>\n",
              "      <td>0</td>\n",
              "    </tr>\n",
              "    <tr>\n",
              "      <th>5</th>\n",
              "      <td>2</td>\n",
              "      <td>0</td>\n",
              "      <td>0</td>\n",
              "      <td>0</td>\n",
              "      <td>0</td>\n",
              "      <td>0</td>\n",
              "      <td>0</td>\n",
              "      <td>0</td>\n",
              "      <td>1</td>\n",
              "      <td>0</td>\n",
              "      <td>0</td>\n",
              "      <td>0</td>\n",
              "      <td>0</td>\n",
              "      <td>0</td>\n",
              "      <td>0</td>\n",
              "      <td>0</td>\n",
              "      <td>0</td>\n",
              "      <td>0</td>\n",
              "      <td>0</td>\n",
              "      <td>1</td>\n",
              "      <td>0</td>\n",
              "      <td>0</td>\n",
              "      <td>0</td>\n",
              "      <td>0</td>\n",
              "      <td>0</td>\n",
              "      <td>0</td>\n",
              "      <td>0</td>\n",
              "    </tr>\n",
              "  </tbody>\n",
              "</table>\n",
              "</div>"
            ],
            "text/plain": [
              "   Material_Number  Domestic Cold Water  Domestic Hot Water  ...  5\"  6\"  8\"\n",
              "2                0                    0                   0  ...   0   0   0\n",
              "4                1                    0                   0  ...   0   0   0\n",
              "5                2                    0                   0  ...   0   0   0\n",
              "\n",
              "[3 rows x 27 columns]"
            ]
          },
          "metadata": {
            "tags": []
          },
          "execution_count": 86
        }
      ]
    },
    {
      "cell_type": "markdown",
      "metadata": {
        "id": "nI1P23i8_QeH",
        "colab_type": "text"
      },
      "source": [
        "# Train Test Split"
      ]
    },
    {
      "cell_type": "markdown",
      "metadata": {
        "id": "W96izbzx0jOk",
        "colab_type": "text"
      },
      "source": [
        "Here we define the size of our test size.\n",
        "We can use all the data that we download in the first time, this is 6000 elemnts, to fit our model (I put just 0.1) and then we can use another extra data downloaded to prove our inference."
      ]
    },
    {
      "cell_type": "code",
      "metadata": {
        "id": "M5QHgzA_E6uo",
        "colab_type": "code",
        "colab": {}
      },
      "source": [
        "X = df5.drop('Material_Number',axis=1)\n",
        "y = df5['Material_Number']\n",
        "X_train, X_test, y_train, y_test = train_test_split(X, y, test_size=0.1, random_state=101)"
      ],
      "execution_count": 92,
      "outputs": []
    },
    {
      "cell_type": "markdown",
      "metadata": {
        "id": "u20TPA6H_hFo",
        "colab_type": "text"
      },
      "source": [
        "# Model Fit"
      ]
    },
    {
      "cell_type": "markdown",
      "metadata": {
        "id": "9xInldBn0zXE",
        "colab_type": "text"
      },
      "source": [
        " Here we train our Random Forest"
      ]
    },
    {
      "cell_type": "code",
      "metadata": {
        "id": "ByAQB0N0GTun",
        "colab_type": "code",
        "colab": {
          "base_uri": "https://localhost:8080/",
          "height": 156
        },
        "outputId": "dc9b041f-1c09-4ba5-c552-1be2a94c84e1"
      },
      "source": [
        "rfc = RandomForestClassifier(n_estimators=100)\n",
        "rfc.fit(X_train,y_train)"
      ],
      "execution_count": 93,
      "outputs": [
        {
          "output_type": "execute_result",
          "data": {
            "text/plain": [
              "RandomForestClassifier(bootstrap=True, ccp_alpha=0.0, class_weight=None,\n",
              "                       criterion='gini', max_depth=None, max_features='auto',\n",
              "                       max_leaf_nodes=None, max_samples=None,\n",
              "                       min_impurity_decrease=0.0, min_impurity_split=None,\n",
              "                       min_samples_leaf=1, min_samples_split=2,\n",
              "                       min_weight_fraction_leaf=0.0, n_estimators=100,\n",
              "                       n_jobs=None, oob_score=False, random_state=None,\n",
              "                       verbose=0, warm_start=False)"
            ]
          },
          "metadata": {
            "tags": []
          },
          "execution_count": 93
        }
      ]
    },
    {
      "cell_type": "markdown",
      "metadata": {
        "id": "ADnCoczu_5sZ",
        "colab_type": "text"
      },
      "source": [
        "# Predictions"
      ]
    },
    {
      "cell_type": "code",
      "metadata": {
        "id": "YN89tZcuGqGP",
        "colab_type": "code",
        "colab": {
          "base_uri": "https://localhost:8080/",
          "height": 242
        },
        "outputId": "51eb5c83-1ecf-4b31-840b-b9f7286046ef"
      },
      "source": [
        "predictions = rfc.predict(X_test)\n",
        "from sklearn.metrics import classification_report,confusion_matrix\n",
        "print(classification_report(y_test,predictions))"
      ],
      "execution_count": 94,
      "outputs": [
        {
          "output_type": "stream",
          "text": [
            "              precision    recall  f1-score   support\n",
            "\n",
            "           0       0.92      0.84      0.88       116\n",
            "           1       1.00      1.00      1.00         6\n",
            "           3       0.99      0.98      0.99       173\n",
            "           4       0.77      0.94      0.85        47\n",
            "           5       1.00      0.99      0.99       138\n",
            "           8       0.95      0.97      0.96       117\n",
            "\n",
            "    accuracy                           0.95       597\n",
            "   macro avg       0.94      0.95      0.94       597\n",
            "weighted avg       0.95      0.95      0.95       597\n",
            "\n"
          ],
          "name": "stdout"
        }
      ]
    },
    {
      "cell_type": "code",
      "metadata": {
        "id": "hRD3rOERGxMO",
        "colab_type": "code",
        "colab": {
          "base_uri": "https://localhost:8080/",
          "height": 121
        },
        "outputId": "29555024-b513-47a8-a9be-226b2143b814"
      },
      "source": [
        "print(confusion_matrix(y_test,predictions))"
      ],
      "execution_count": 95,
      "outputs": [
        {
          "output_type": "stream",
          "text": [
            "[[ 98   0   2  13   0   3]\n",
            " [  0   6   0   0   0   0]\n",
            " [  3   0 170   0   0   0]\n",
            " [  2   0   0  44   0   1]\n",
            " [  0   0   0   0 136   2]\n",
            " [  4   0   0   0   0 113]]\n"
          ],
          "name": "stdout"
        }
      ]
    },
    {
      "cell_type": "markdown",
      "metadata": {
        "id": "vbJSioNZ1l8v",
        "colab_type": "text"
      },
      "source": [
        ""
      ]
    },
    {
      "cell_type": "code",
      "metadata": {
        "id": "KbQCE_M6G8yH",
        "colab_type": "code",
        "colab": {
          "base_uri": "https://localhost:8080/",
          "height": 190
        },
        "outputId": "f47feaa3-29bc-4d65-aad9-2efdf88f0e2a"
      },
      "source": [
        "dicc"
      ],
      "execution_count": 84,
      "outputs": [
        {
          "output_type": "execute_result",
          "data": {
            "text/plain": [
              "{'Black Steel': 7,\n",
              " 'CP_PI - Copper - ASTM B88 H.D.': 4,\n",
              " 'Carbon Steel': 8,\n",
              " 'Carbon Steel - ASTM A53 B': 5,\n",
              " 'Cast Iron': 6,\n",
              " 'Copper': 0,\n",
              " 'Ductile Iron': 9,\n",
              " 'NaN': 2,\n",
              " 'PVC': 3,\n",
              " 'Steel, Carbon': 1}"
            ]
          },
          "metadata": {
            "tags": []
          },
          "execution_count": 84
        }
      ]
    },
    {
      "cell_type": "markdown",
      "metadata": {
        "id": "ZWXHDM-5A9CL",
        "colab_type": "text"
      },
      "source": [
        "# Download the Data (second part)"
      ]
    },
    {
      "cell_type": "markdown",
      "metadata": {
        "id": "CLYpkPYS8Ct8",
        "colab_type": "text"
      },
      "source": [
        "The next step, is download 6500 elements of pipes type from de API in Flasgger (http://3.14.88.102:5000/apidocs/), so we can get the difference bettwen these 6500 and the first 6000. Then we make the same edition with these 500 elemnts, and get the predictions, just to prove our inference"
      ]
    },
    {
      "cell_type": "code",
      "metadata": {
        "id": "kh3hXCHy1Hc3",
        "colab_type": "code",
        "colab": {}
      },
      "source": [
        "\n",
        "jsonfile2= urllib.request.urlopen(\"http://3.14.88.102:5000/api/1/elements/pipes/?limit=6500\").read().decode()\n",
        "j2=json.loads(jsonfile2)"
      ],
      "execution_count": 96,
      "outputs": []
    },
    {
      "cell_type": "code",
      "metadata": {
        "id": "ixwG52fJAro0",
        "colab_type": "code",
        "colab": {
          "base_uri": "https://localhost:8080/",
          "height": 334
        },
        "outputId": "2df7f85c-46de-43e5-ebc8-f68aba1dbc21"
      },
      "source": [
        "dataf= pd.json_normalize(j2)\n",
        "dataf.head(3)"
      ],
      "execution_count": 125,
      "outputs": [
        {
          "output_type": "execute_result",
          "data": {
            "text/html": [
              "<div>\n",
              "<style scoped>\n",
              "    .dataframe tbody tr th:only-of-type {\n",
              "        vertical-align: middle;\n",
              "    }\n",
              "\n",
              "    .dataframe tbody tr th {\n",
              "        vertical-align: top;\n",
              "    }\n",
              "\n",
              "    .dataframe thead th {\n",
              "        text-align: right;\n",
              "    }\n",
              "</style>\n",
              "<table border=\"1\" class=\"dataframe\">\n",
              "  <thead>\n",
              "    <tr style=\"text-align: right;\">\n",
              "      <th></th>\n",
              "      <th>projectId</th>\n",
              "      <th>Category</th>\n",
              "      <th>modelId</th>\n",
              "      <th>_id.$oid</th>\n",
              "      <th>properties_Dimensions_Length</th>\n",
              "      <th>properties_Dimensions_Size</th>\n",
              "      <th>properties_Mechanical_Material</th>\n",
              "      <th>properties_Mechanical_System Classification</th>\n",
              "    </tr>\n",
              "  </thead>\n",
              "  <tbody>\n",
              "    <tr>\n",
              "      <th>0</th>\n",
              "      <td>b.c94f85e5-88fb-402c-bc60-72622f5f85b6</td>\n",
              "      <td>Pipes</td>\n",
              "      <td>d4ea3308-4b3f-d382-cacb-9791f772042b</td>\n",
              "      <td>5eee8651cb573f2fc2216a82</td>\n",
              "      <td>NaN</td>\n",
              "      <td>NaN</td>\n",
              "      <td>NaN</td>\n",
              "      <td>NaN</td>\n",
              "    </tr>\n",
              "    <tr>\n",
              "      <th>1</th>\n",
              "      <td>b.c94f85e5-88fb-402c-bc60-72622f5f85b6</td>\n",
              "      <td>Pipes</td>\n",
              "      <td>d4ea3308-4b3f-d382-cacb-9791f772042b</td>\n",
              "      <td>5eee8651cb573f2fc2216a83</td>\n",
              "      <td>NaN</td>\n",
              "      <td>NaN</td>\n",
              "      <td>NaN</td>\n",
              "      <td>NaN</td>\n",
              "    </tr>\n",
              "    <tr>\n",
              "      <th>2</th>\n",
              "      <td>b.c94f85e5-88fb-402c-bc60-72622f5f85b6</td>\n",
              "      <td>Pipes</td>\n",
              "      <td>d4ea3308-4b3f-d382-cacb-9791f772042b</td>\n",
              "      <td>5eee8651cb573f2fc2216a84</td>\n",
              "      <td>0.398 ft</td>\n",
              "      <td>2 1/2\"</td>\n",
              "      <td>Copper</td>\n",
              "      <td>Sanitary</td>\n",
              "    </tr>\n",
              "  </tbody>\n",
              "</table>\n",
              "</div>"
            ],
            "text/plain": [
              "                                projectId  ... properties_Mechanical_System Classification\n",
              "0  b.c94f85e5-88fb-402c-bc60-72622f5f85b6  ...                                         NaN\n",
              "1  b.c94f85e5-88fb-402c-bc60-72622f5f85b6  ...                                         NaN\n",
              "2  b.c94f85e5-88fb-402c-bc60-72622f5f85b6  ...                                    Sanitary\n",
              "\n",
              "[3 rows x 8 columns]"
            ]
          },
          "metadata": {
            "tags": []
          },
          "execution_count": 125
        }
      ]
    },
    {
      "cell_type": "markdown",
      "metadata": {
        "id": "M6xIdn7aBZjF",
        "colab_type": "text"
      },
      "source": [
        "# Get Difference bettween 1° and 2° data"
      ]
    },
    {
      "cell_type": "code",
      "metadata": {
        "id": "pZV4-99kBWSr",
        "colab_type": "code",
        "colab": {
          "base_uri": "https://localhost:8080/",
          "height": 973
        },
        "outputId": "6f8cbf74-9d27-4ceb-e22c-2cefd7636649"
      },
      "source": [
        "Testdata = dataf.iloc[6000:6500]\n",
        "Testdata"
      ],
      "execution_count": 126,
      "outputs": [
        {
          "output_type": "execute_result",
          "data": {
            "text/html": [
              "<div>\n",
              "<style scoped>\n",
              "    .dataframe tbody tr th:only-of-type {\n",
              "        vertical-align: middle;\n",
              "    }\n",
              "\n",
              "    .dataframe tbody tr th {\n",
              "        vertical-align: top;\n",
              "    }\n",
              "\n",
              "    .dataframe thead th {\n",
              "        text-align: right;\n",
              "    }\n",
              "</style>\n",
              "<table border=\"1\" class=\"dataframe\">\n",
              "  <thead>\n",
              "    <tr style=\"text-align: right;\">\n",
              "      <th></th>\n",
              "      <th>projectId</th>\n",
              "      <th>Category</th>\n",
              "      <th>modelId</th>\n",
              "      <th>_id.$oid</th>\n",
              "      <th>properties_Dimensions_Length</th>\n",
              "      <th>properties_Dimensions_Size</th>\n",
              "      <th>properties_Mechanical_Material</th>\n",
              "      <th>properties_Mechanical_System Classification</th>\n",
              "    </tr>\n",
              "  </thead>\n",
              "  <tbody>\n",
              "    <tr>\n",
              "      <th>6000</th>\n",
              "      <td>b.4a3f3688-6014-48fc-9fe6-fe20d2b35b5a</td>\n",
              "      <td>Pipes</td>\n",
              "      <td>c2f0334e-f30b-062f-6718-11792657e163</td>\n",
              "      <td>5eee8d6fcb573f2fc2237864</td>\n",
              "      <td>18.709 ft</td>\n",
              "      <td>1 1/2\"ø</td>\n",
              "      <td>Carbon Steel</td>\n",
              "      <td>Hydronic Return</td>\n",
              "    </tr>\n",
              "    <tr>\n",
              "      <th>6001</th>\n",
              "      <td>b.4a3f3688-6014-48fc-9fe6-fe20d2b35b5a</td>\n",
              "      <td>Pipes</td>\n",
              "      <td>c2f0334e-f30b-062f-6718-11792657e163</td>\n",
              "      <td>5eee8d6fcb573f2fc2237865</td>\n",
              "      <td>18.709 ft</td>\n",
              "      <td>1 1/2\"ø</td>\n",
              "      <td>Carbon Steel</td>\n",
              "      <td>Hydronic Supply</td>\n",
              "    </tr>\n",
              "    <tr>\n",
              "      <th>6002</th>\n",
              "      <td>b.4a3f3688-6014-48fc-9fe6-fe20d2b35b5a</td>\n",
              "      <td>Pipes</td>\n",
              "      <td>c2f0334e-f30b-062f-6718-11792657e163</td>\n",
              "      <td>5eee8d6fcb573f2fc2237866</td>\n",
              "      <td>18.709 ft</td>\n",
              "      <td>1 1/2\"ø</td>\n",
              "      <td>Carbon Steel</td>\n",
              "      <td>Hydronic Supply</td>\n",
              "    </tr>\n",
              "    <tr>\n",
              "      <th>6003</th>\n",
              "      <td>b.4a3f3688-6014-48fc-9fe6-fe20d2b35b5a</td>\n",
              "      <td>Pipes</td>\n",
              "      <td>c2f0334e-f30b-062f-6718-11792657e163</td>\n",
              "      <td>5eee8d6fcb573f2fc2237867</td>\n",
              "      <td>18.501 ft</td>\n",
              "      <td>3\"ø</td>\n",
              "      <td>Carbon Steel</td>\n",
              "      <td>Hydronic Return</td>\n",
              "    </tr>\n",
              "    <tr>\n",
              "      <th>6004</th>\n",
              "      <td>b.4a3f3688-6014-48fc-9fe6-fe20d2b35b5a</td>\n",
              "      <td>Pipes</td>\n",
              "      <td>c2f0334e-f30b-062f-6718-11792657e163</td>\n",
              "      <td>5eee8d6fcb573f2fc2237868</td>\n",
              "      <td>18.501 ft</td>\n",
              "      <td>3\"ø</td>\n",
              "      <td>Carbon Steel</td>\n",
              "      <td>Hydronic Return</td>\n",
              "    </tr>\n",
              "    <tr>\n",
              "      <th>...</th>\n",
              "      <td>...</td>\n",
              "      <td>...</td>\n",
              "      <td>...</td>\n",
              "      <td>...</td>\n",
              "      <td>...</td>\n",
              "      <td>...</td>\n",
              "      <td>...</td>\n",
              "      <td>...</td>\n",
              "    </tr>\n",
              "    <tr>\n",
              "      <th>6495</th>\n",
              "      <td>b.4a3f3688-6014-48fc-9fe6-fe20d2b35b5a</td>\n",
              "      <td>Pipes</td>\n",
              "      <td>c2f0334e-f30b-062f-6718-11792657e163</td>\n",
              "      <td>5eee8d70cb573f2fc2237a53</td>\n",
              "      <td>4.218 ft</td>\n",
              "      <td>3\"ø</td>\n",
              "      <td>Carbon Steel</td>\n",
              "      <td>Hydronic Return</td>\n",
              "    </tr>\n",
              "    <tr>\n",
              "      <th>6496</th>\n",
              "      <td>b.4a3f3688-6014-48fc-9fe6-fe20d2b35b5a</td>\n",
              "      <td>Pipes</td>\n",
              "      <td>c2f0334e-f30b-062f-6718-11792657e163</td>\n",
              "      <td>5eee8d70cb573f2fc2237a54</td>\n",
              "      <td>4.218 ft</td>\n",
              "      <td>3\"ø</td>\n",
              "      <td>Carbon Steel</td>\n",
              "      <td>Hydronic Return</td>\n",
              "    </tr>\n",
              "    <tr>\n",
              "      <th>6497</th>\n",
              "      <td>b.4a3f3688-6014-48fc-9fe6-fe20d2b35b5a</td>\n",
              "      <td>Pipes</td>\n",
              "      <td>c2f0334e-f30b-062f-6718-11792657e163</td>\n",
              "      <td>5eee8d70cb573f2fc2237a55</td>\n",
              "      <td>1.078 ft</td>\n",
              "      <td>3\"ø</td>\n",
              "      <td>Carbon Steel</td>\n",
              "      <td>Hydronic Return</td>\n",
              "    </tr>\n",
              "    <tr>\n",
              "      <th>6498</th>\n",
              "      <td>b.4a3f3688-6014-48fc-9fe6-fe20d2b35b5a</td>\n",
              "      <td>Pipes</td>\n",
              "      <td>c2f0334e-f30b-062f-6718-11792657e163</td>\n",
              "      <td>5eee8d70cb573f2fc2237a56</td>\n",
              "      <td>1.078 ft</td>\n",
              "      <td>3\"ø</td>\n",
              "      <td>Carbon Steel</td>\n",
              "      <td>Hydronic Return</td>\n",
              "    </tr>\n",
              "    <tr>\n",
              "      <th>6499</th>\n",
              "      <td>b.4a3f3688-6014-48fc-9fe6-fe20d2b35b5a</td>\n",
              "      <td>Pipes</td>\n",
              "      <td>c2f0334e-f30b-062f-6718-11792657e163</td>\n",
              "      <td>5eee8d70cb573f2fc2237a57</td>\n",
              "      <td>4.960 ft</td>\n",
              "      <td>6\"ø</td>\n",
              "      <td>Carbon Steel</td>\n",
              "      <td>Hydronic Return</td>\n",
              "    </tr>\n",
              "  </tbody>\n",
              "</table>\n",
              "<p>500 rows × 8 columns</p>\n",
              "</div>"
            ],
            "text/plain": [
              "                                   projectId  ... properties_Mechanical_System Classification\n",
              "6000  b.4a3f3688-6014-48fc-9fe6-fe20d2b35b5a  ...                             Hydronic Return\n",
              "6001  b.4a3f3688-6014-48fc-9fe6-fe20d2b35b5a  ...                             Hydronic Supply\n",
              "6002  b.4a3f3688-6014-48fc-9fe6-fe20d2b35b5a  ...                             Hydronic Supply\n",
              "6003  b.4a3f3688-6014-48fc-9fe6-fe20d2b35b5a  ...                             Hydronic Return\n",
              "6004  b.4a3f3688-6014-48fc-9fe6-fe20d2b35b5a  ...                             Hydronic Return\n",
              "...                                      ...  ...                                         ...\n",
              "6495  b.4a3f3688-6014-48fc-9fe6-fe20d2b35b5a  ...                             Hydronic Return\n",
              "6496  b.4a3f3688-6014-48fc-9fe6-fe20d2b35b5a  ...                             Hydronic Return\n",
              "6497  b.4a3f3688-6014-48fc-9fe6-fe20d2b35b5a  ...                             Hydronic Return\n",
              "6498  b.4a3f3688-6014-48fc-9fe6-fe20d2b35b5a  ...                             Hydronic Return\n",
              "6499  b.4a3f3688-6014-48fc-9fe6-fe20d2b35b5a  ...                             Hydronic Return\n",
              "\n",
              "[500 rows x 8 columns]"
            ]
          },
          "metadata": {
            "tags": []
          },
          "execution_count": 126
        }
      ]
    },
    {
      "cell_type": "markdown",
      "metadata": {
        "id": "BH2C7YvxEDVI",
        "colab_type": "text"
      },
      "source": [
        "# Material Edition (second part)"
      ]
    },
    {
      "cell_type": "code",
      "metadata": {
        "id": "uLz_M3y8CbB0",
        "colab_type": "code",
        "colab": {
          "base_uri": "https://localhost:8080/",
          "height": 34
        },
        "outputId": "d3e21c6e-06b1-4d0b-b9d6-fb996373312c"
      },
      "source": [
        "Testdata[\"properties_Mechanical_Material\"].unique()"
      ],
      "execution_count": 127,
      "outputs": [
        {
          "output_type": "execute_result",
          "data": {
            "text/plain": [
              "array(['Carbon Steel'], dtype=object)"
            ]
          },
          "metadata": {
            "tags": []
          },
          "execution_count": 127
        }
      ]
    },
    {
      "cell_type": "code",
      "metadata": {
        "id": "fUCIWxHvD2aS",
        "colab_type": "code",
        "colab": {}
      },
      "source": [
        "def search(data):\n",
        "   \n",
        "    if \"A53\" in data.upper():\n",
        "        return \"Carbon Steel - ASTM A53 B\"\n",
        "    if \"CATEGORY\" in data.upper():\n",
        "        return \"NaN\"\n",
        "    if \"POLYVINYL\" in data.upper():\n",
        "        return \"PVC\"\n",
        "    if \"PVC\" in data.upper():\n",
        "        return \"PVC\"\n",
        "    if \"NAN\" in data.upper():\n",
        "        return \"NaN\"\n",
        "    else:\n",
        "        return data"
      ],
      "execution_count": 128,
      "outputs": []
    },
    {
      "cell_type": "code",
      "metadata": {
        "id": "x8AO0ngAEOV9",
        "colab_type": "code",
        "colab": {
          "base_uri": "https://localhost:8080/",
          "height": 121
        },
        "outputId": "6573cf7b-88ab-4b08-88a7-5131f30d988c"
      },
      "source": [
        "Testdata2=Testdata\n",
        "Testdata2[\"properties_Mechanical_Material\"]=Testdata2[\"properties_Mechanical_Material\"].apply(lambda x: search(str(x)))\n"
      ],
      "execution_count": 129,
      "outputs": [
        {
          "output_type": "stream",
          "text": [
            "/usr/local/lib/python3.6/dist-packages/ipykernel_launcher.py:2: SettingWithCopyWarning: \n",
            "A value is trying to be set on a copy of a slice from a DataFrame.\n",
            "Try using .loc[row_indexer,col_indexer] = value instead\n",
            "\n",
            "See the caveats in the documentation: https://pandas.pydata.org/pandas-docs/stable/user_guide/indexing.html#returning-a-view-versus-a-copy\n",
            "  \n"
          ],
          "name": "stderr"
        }
      ]
    },
    {
      "cell_type": "code",
      "metadata": {
        "id": "7x09DQQfEV45",
        "colab_type": "code",
        "colab": {
          "base_uri": "https://localhost:8080/",
          "height": 52
        },
        "outputId": "9e65a4d8-6bcd-4db0-be36-0c2a8696c2e0"
      },
      "source": [
        "Testdata2[\"properties_Mechanical_Material\"].value_counts()\n"
      ],
      "execution_count": 130,
      "outputs": [
        {
          "output_type": "execute_result",
          "data": {
            "text/plain": [
              "Carbon Steel    500\n",
              "Name: properties_Mechanical_Material, dtype: int64"
            ]
          },
          "metadata": {
            "tags": []
          },
          "execution_count": 130
        }
      ]
    },
    {
      "cell_type": "markdown",
      "metadata": {
        "id": "hUHnQOsyFlHs",
        "colab_type": "text"
      },
      "source": [
        "# Length Edition (second Part)"
      ]
    },
    {
      "cell_type": "code",
      "metadata": {
        "id": "IkOOQ3dgEcB5",
        "colab_type": "code",
        "colab": {}
      },
      "source": [
        "Testdata3=Testdata2.dropna(axis=0,subset=[\"properties_Dimensions_Length\"])"
      ],
      "execution_count": 131,
      "outputs": []
    },
    {
      "cell_type": "code",
      "metadata": {
        "id": "QbEOepyHFuGh",
        "colab_type": "code",
        "colab": {}
      },
      "source": [
        "Testdata3[\"properties_Dimensions_Length\"]= Testdata3[\"properties_Dimensions_Length\"].apply(lambda x: x.replace(\" ft\",\"\"))\n",
        "Testdata3[\"properties_Dimensions_Length\"]= Testdata3[\"properties_Dimensions_Length\"].apply(lambda x: x.replace(\"  ft\",\"\"))"
      ],
      "execution_count": 132,
      "outputs": []
    },
    {
      "cell_type": "code",
      "metadata": {
        "id": "TThxJ-zwF0EQ",
        "colab_type": "code",
        "colab": {}
      },
      "source": [
        "Testdata3[\"properties_Dimensions_Length\"]= Testdata3[\"properties_Dimensions_Length\"].apply(lambda x: float(x))"
      ],
      "execution_count": 134,
      "outputs": []
    },
    {
      "cell_type": "markdown",
      "metadata": {
        "id": "oy1kEtKmGWL5",
        "colab_type": "text"
      },
      "source": [
        "# Size Edition (second part)"
      ]
    },
    {
      "cell_type": "code",
      "metadata": {
        "id": "XFFHMEZSF54A",
        "colab_type": "code",
        "colab": {
          "base_uri": "https://localhost:8080/",
          "height": 121
        },
        "outputId": "a832f279-2a18-4ba0-e579-514bc773b984"
      },
      "source": [
        "Testdata3[\"properties_Dimensions_Size\"].value_counts().head(5)"
      ],
      "execution_count": 135,
      "outputs": [
        {
          "output_type": "execute_result",
          "data": {
            "text/plain": [
              "3\"ø        112\n",
              "6\"ø         83\n",
              "4\"ø         82\n",
              "1 1/2\"ø     75\n",
              "1 1/4\"ø     52\n",
              "Name: properties_Dimensions_Size, dtype: int64"
            ]
          },
          "metadata": {
            "tags": []
          },
          "execution_count": 135
        }
      ]
    },
    {
      "cell_type": "code",
      "metadata": {
        "id": "-qIQZeJUGcfI",
        "colab_type": "code",
        "colab": {}
      },
      "source": [
        "Testdata3[\"properties_Dimensions_Size\"]= Testdata3[\"properties_Dimensions_Size\"].apply(lambda x: x.replace(\"ø\",\"\"))"
      ],
      "execution_count": 136,
      "outputs": []
    },
    {
      "cell_type": "code",
      "metadata": {
        "id": "ZjDOpwk6Got4",
        "colab_type": "code",
        "colab": {}
      },
      "source": [
        "Testdata3[\"properties_Dimensions_Size\"]= Testdata3[\"properties_Dimensions_Size\"].apply(lambda x: x.strip())"
      ],
      "execution_count": 138,
      "outputs": []
    },
    {
      "cell_type": "code",
      "metadata": {
        "id": "dwTUpkS-Gujg",
        "colab_type": "code",
        "colab": {
          "base_uri": "https://localhost:8080/",
          "height": 242
        },
        "outputId": "5d9b9d6e-c5f4-45ee-a7ea-f42999477b38"
      },
      "source": [
        "Testdata3[\"properties_Dimensions_Size\"].value_counts()"
      ],
      "execution_count": 139,
      "outputs": [
        {
          "output_type": "execute_result",
          "data": {
            "text/plain": [
              "3\"        112\n",
              "6\"         83\n",
              "4\"         82\n",
              "1 1/2\"     75\n",
              "1 1/4\"     52\n",
              "2 1/2\"     24\n",
              "30\"        22\n",
              "3/4\"       18\n",
              "1\"         18\n",
              "2\"          8\n",
              "8\"          4\n",
              "36\"         2\n",
              "Name: properties_Dimensions_Size, dtype: int64"
            ]
          },
          "metadata": {
            "tags": []
          },
          "execution_count": 139
        }
      ]
    },
    {
      "cell_type": "code",
      "metadata": {
        "id": "1sgWnRWrHAWy",
        "colab_type": "code",
        "colab": {
          "base_uri": "https://localhost:8080/",
          "height": 329
        },
        "outputId": "9665f037-787a-4149-da0e-53554bd5dd1e"
      },
      "source": [
        "df3[\"properties_Dimensions_Size\"].value_counts()"
      ],
      "execution_count": 140,
      "outputs": [
        {
          "output_type": "execute_result",
          "data": {
            "text/plain": [
              "4\"        1070\n",
              "2\"         835\n",
              "3/4\"       727\n",
              "6\"         636\n",
              "3\"         592\n",
              "1\"         580\n",
              "2 1/2\"     316\n",
              "1 1/4\"     257\n",
              "1/2\"       241\n",
              "1 1/2\"     235\n",
              "16\"        146\n",
              "14\"         96\n",
              "8\"          84\n",
              "12\"         64\n",
              "10\"         60\n",
              "5\"          22\n",
              "1 3/8\"       2\n",
              "Name: properties_Dimensions_Size, dtype: int64"
            ]
          },
          "metadata": {
            "tags": []
          },
          "execution_count": 140
        }
      ]
    },
    {
      "cell_type": "markdown",
      "metadata": {
        "id": "lfdDF_SOHZDU",
        "colab_type": "text"
      },
      "source": [
        "we compare the two list of sizes, and can see that don´t have the 36\" diameter pipe, so we are going to drop these two rows (these have just 2 elemnts)"
      ]
    },
    {
      "cell_type": "markdown",
      "metadata": {
        "id": "do02ID0NIv2A",
        "colab_type": "text"
      },
      "source": [
        "# Enlist Materials (Second Part)"
      ]
    },
    {
      "cell_type": "markdown",
      "metadata": {
        "id": "Ww4zlYvqI6yd",
        "colab_type": "text"
      },
      "source": [
        "We will use the same numbers that we used in the first part"
      ]
    },
    {
      "cell_type": "code",
      "metadata": {
        "id": "6PbhWhjDHHk5",
        "colab_type": "code",
        "colab": {}
      },
      "source": [
        "Testdata3[\"Material_Number\"]=Testdata3[\"properties_Mechanical_Material\"].apply(lambda x: dicc[x])\n"
      ],
      "execution_count": 143,
      "outputs": []
    },
    {
      "cell_type": "markdown",
      "metadata": {
        "id": "VPadfLNNJgVk",
        "colab_type": "text"
      },
      "source": [
        "# Dummies Data (second part)"
      ]
    },
    {
      "cell_type": "code",
      "metadata": {
        "id": "tONABU7LJFMH",
        "colab_type": "code",
        "colab": {}
      },
      "source": [
        "classification= pd.get_dummies(Testdata3[\"properties_Mechanical_System Classification\"])"
      ],
      "execution_count": 144,
      "outputs": []
    },
    {
      "cell_type": "code",
      "metadata": {
        "id": "bSm8UZ0KJ7hw",
        "colab_type": "code",
        "colab": {}
      },
      "source": [
        "Dimensions_Size= pd.get_dummies(Testdata3[\"properties_Dimensions_Size\"])"
      ],
      "execution_count": 145,
      "outputs": []
    },
    {
      "cell_type": "code",
      "metadata": {
        "id": "KowVY-1RKIC-",
        "colab_type": "code",
        "colab": {
          "base_uri": "https://localhost:8080/",
          "height": 416
        },
        "outputId": "c66406fd-c3a9-450d-8bc5-baa9e082d48d"
      },
      "source": [
        "Dimensions_Size"
      ],
      "execution_count": 146,
      "outputs": [
        {
          "output_type": "execute_result",
          "data": {
            "text/html": [
              "<div>\n",
              "<style scoped>\n",
              "    .dataframe tbody tr th:only-of-type {\n",
              "        vertical-align: middle;\n",
              "    }\n",
              "\n",
              "    .dataframe tbody tr th {\n",
              "        vertical-align: top;\n",
              "    }\n",
              "\n",
              "    .dataframe thead th {\n",
              "        text-align: right;\n",
              "    }\n",
              "</style>\n",
              "<table border=\"1\" class=\"dataframe\">\n",
              "  <thead>\n",
              "    <tr style=\"text-align: right;\">\n",
              "      <th></th>\n",
              "      <th>1 1/2\"</th>\n",
              "      <th>1 1/4\"</th>\n",
              "      <th>1\"</th>\n",
              "      <th>2 1/2\"</th>\n",
              "      <th>2\"</th>\n",
              "      <th>3\"</th>\n",
              "      <th>3/4\"</th>\n",
              "      <th>30\"</th>\n",
              "      <th>36\"</th>\n",
              "      <th>4\"</th>\n",
              "      <th>6\"</th>\n",
              "      <th>8\"</th>\n",
              "    </tr>\n",
              "  </thead>\n",
              "  <tbody>\n",
              "    <tr>\n",
              "      <th>6000</th>\n",
              "      <td>1</td>\n",
              "      <td>0</td>\n",
              "      <td>0</td>\n",
              "      <td>0</td>\n",
              "      <td>0</td>\n",
              "      <td>0</td>\n",
              "      <td>0</td>\n",
              "      <td>0</td>\n",
              "      <td>0</td>\n",
              "      <td>0</td>\n",
              "      <td>0</td>\n",
              "      <td>0</td>\n",
              "    </tr>\n",
              "    <tr>\n",
              "      <th>6001</th>\n",
              "      <td>1</td>\n",
              "      <td>0</td>\n",
              "      <td>0</td>\n",
              "      <td>0</td>\n",
              "      <td>0</td>\n",
              "      <td>0</td>\n",
              "      <td>0</td>\n",
              "      <td>0</td>\n",
              "      <td>0</td>\n",
              "      <td>0</td>\n",
              "      <td>0</td>\n",
              "      <td>0</td>\n",
              "    </tr>\n",
              "    <tr>\n",
              "      <th>6002</th>\n",
              "      <td>1</td>\n",
              "      <td>0</td>\n",
              "      <td>0</td>\n",
              "      <td>0</td>\n",
              "      <td>0</td>\n",
              "      <td>0</td>\n",
              "      <td>0</td>\n",
              "      <td>0</td>\n",
              "      <td>0</td>\n",
              "      <td>0</td>\n",
              "      <td>0</td>\n",
              "      <td>0</td>\n",
              "    </tr>\n",
              "    <tr>\n",
              "      <th>6003</th>\n",
              "      <td>0</td>\n",
              "      <td>0</td>\n",
              "      <td>0</td>\n",
              "      <td>0</td>\n",
              "      <td>0</td>\n",
              "      <td>1</td>\n",
              "      <td>0</td>\n",
              "      <td>0</td>\n",
              "      <td>0</td>\n",
              "      <td>0</td>\n",
              "      <td>0</td>\n",
              "      <td>0</td>\n",
              "    </tr>\n",
              "    <tr>\n",
              "      <th>6004</th>\n",
              "      <td>0</td>\n",
              "      <td>0</td>\n",
              "      <td>0</td>\n",
              "      <td>0</td>\n",
              "      <td>0</td>\n",
              "      <td>1</td>\n",
              "      <td>0</td>\n",
              "      <td>0</td>\n",
              "      <td>0</td>\n",
              "      <td>0</td>\n",
              "      <td>0</td>\n",
              "      <td>0</td>\n",
              "    </tr>\n",
              "    <tr>\n",
              "      <th>...</th>\n",
              "      <td>...</td>\n",
              "      <td>...</td>\n",
              "      <td>...</td>\n",
              "      <td>...</td>\n",
              "      <td>...</td>\n",
              "      <td>...</td>\n",
              "      <td>...</td>\n",
              "      <td>...</td>\n",
              "      <td>...</td>\n",
              "      <td>...</td>\n",
              "      <td>...</td>\n",
              "      <td>...</td>\n",
              "    </tr>\n",
              "    <tr>\n",
              "      <th>6495</th>\n",
              "      <td>0</td>\n",
              "      <td>0</td>\n",
              "      <td>0</td>\n",
              "      <td>0</td>\n",
              "      <td>0</td>\n",
              "      <td>1</td>\n",
              "      <td>0</td>\n",
              "      <td>0</td>\n",
              "      <td>0</td>\n",
              "      <td>0</td>\n",
              "      <td>0</td>\n",
              "      <td>0</td>\n",
              "    </tr>\n",
              "    <tr>\n",
              "      <th>6496</th>\n",
              "      <td>0</td>\n",
              "      <td>0</td>\n",
              "      <td>0</td>\n",
              "      <td>0</td>\n",
              "      <td>0</td>\n",
              "      <td>1</td>\n",
              "      <td>0</td>\n",
              "      <td>0</td>\n",
              "      <td>0</td>\n",
              "      <td>0</td>\n",
              "      <td>0</td>\n",
              "      <td>0</td>\n",
              "    </tr>\n",
              "    <tr>\n",
              "      <th>6497</th>\n",
              "      <td>0</td>\n",
              "      <td>0</td>\n",
              "      <td>0</td>\n",
              "      <td>0</td>\n",
              "      <td>0</td>\n",
              "      <td>1</td>\n",
              "      <td>0</td>\n",
              "      <td>0</td>\n",
              "      <td>0</td>\n",
              "      <td>0</td>\n",
              "      <td>0</td>\n",
              "      <td>0</td>\n",
              "    </tr>\n",
              "    <tr>\n",
              "      <th>6498</th>\n",
              "      <td>0</td>\n",
              "      <td>0</td>\n",
              "      <td>0</td>\n",
              "      <td>0</td>\n",
              "      <td>0</td>\n",
              "      <td>1</td>\n",
              "      <td>0</td>\n",
              "      <td>0</td>\n",
              "      <td>0</td>\n",
              "      <td>0</td>\n",
              "      <td>0</td>\n",
              "      <td>0</td>\n",
              "    </tr>\n",
              "    <tr>\n",
              "      <th>6499</th>\n",
              "      <td>0</td>\n",
              "      <td>0</td>\n",
              "      <td>0</td>\n",
              "      <td>0</td>\n",
              "      <td>0</td>\n",
              "      <td>0</td>\n",
              "      <td>0</td>\n",
              "      <td>0</td>\n",
              "      <td>0</td>\n",
              "      <td>0</td>\n",
              "      <td>1</td>\n",
              "      <td>0</td>\n",
              "    </tr>\n",
              "  </tbody>\n",
              "</table>\n",
              "<p>500 rows × 12 columns</p>\n",
              "</div>"
            ],
            "text/plain": [
              "      1 1/2\"  1 1/4\"  1\"  2 1/2\"  2\"  3\"  3/4\"  30\"  36\"  4\"  6\"  8\"\n",
              "6000       1       0   0       0   0   0     0    0    0   0   0   0\n",
              "6001       1       0   0       0   0   0     0    0    0   0   0   0\n",
              "6002       1       0   0       0   0   0     0    0    0   0   0   0\n",
              "6003       0       0   0       0   0   1     0    0    0   0   0   0\n",
              "6004       0       0   0       0   0   1     0    0    0   0   0   0\n",
              "...      ...     ...  ..     ...  ..  ..   ...  ...  ...  ..  ..  ..\n",
              "6495       0       0   0       0   0   1     0    0    0   0   0   0\n",
              "6496       0       0   0       0   0   1     0    0    0   0   0   0\n",
              "6497       0       0   0       0   0   1     0    0    0   0   0   0\n",
              "6498       0       0   0       0   0   1     0    0    0   0   0   0\n",
              "6499       0       0   0       0   0   0     0    0    0   0   1   0\n",
              "\n",
              "[500 rows x 12 columns]"
            ]
          },
          "metadata": {
            "tags": []
          },
          "execution_count": 146
        }
      ]
    },
    {
      "cell_type": "code",
      "metadata": {
        "id": "ymp9X9nEKMi-",
        "colab_type": "code",
        "colab": {}
      },
      "source": [
        "Testdata4 = pd.concat([Testdata3,classification,Dimensions_Size],axis=1)"
      ],
      "execution_count": 147,
      "outputs": []
    },
    {
      "cell_type": "code",
      "metadata": {
        "id": "czzwdQoIKlxI",
        "colab_type": "code",
        "colab": {}
      },
      "source": [
        "droplist=[\"Category\",\"properties_Mechanical_System Classification\",\"properties_Mechanical_Material\",\"properties_Dimensions_Size\", \"projectId\", \"modelId\",\"_id.$oid\"]\n",
        "Testdata5=Testdata4.drop(droplist, axis=1)"
      ],
      "execution_count": 149,
      "outputs": []
    },
    {
      "cell_type": "code",
      "metadata": {
        "id": "G75v7stnLkAO",
        "colab_type": "code",
        "colab": {
          "base_uri": "https://localhost:8080/",
          "height": 202
        },
        "outputId": "53b66cbe-aae9-4d77-afb0-e912998a3a02"
      },
      "source": [
        "Testdata5.head()"
      ],
      "execution_count": 150,
      "outputs": [
        {
          "output_type": "execute_result",
          "data": {
            "text/html": [
              "<div>\n",
              "<style scoped>\n",
              "    .dataframe tbody tr th:only-of-type {\n",
              "        vertical-align: middle;\n",
              "    }\n",
              "\n",
              "    .dataframe tbody tr th {\n",
              "        vertical-align: top;\n",
              "    }\n",
              "\n",
              "    .dataframe thead th {\n",
              "        text-align: right;\n",
              "    }\n",
              "</style>\n",
              "<table border=\"1\" class=\"dataframe\">\n",
              "  <thead>\n",
              "    <tr style=\"text-align: right;\">\n",
              "      <th></th>\n",
              "      <th>properties_Dimensions_Length</th>\n",
              "      <th>Material_Number</th>\n",
              "      <th>Domestic Cold Water</th>\n",
              "      <th>Hydronic Return</th>\n",
              "      <th>Hydronic Supply</th>\n",
              "      <th>1 1/2\"</th>\n",
              "      <th>1 1/4\"</th>\n",
              "      <th>1\"</th>\n",
              "      <th>2 1/2\"</th>\n",
              "      <th>2\"</th>\n",
              "      <th>3\"</th>\n",
              "      <th>3/4\"</th>\n",
              "      <th>30\"</th>\n",
              "      <th>36\"</th>\n",
              "      <th>4\"</th>\n",
              "      <th>6\"</th>\n",
              "      <th>8\"</th>\n",
              "    </tr>\n",
              "  </thead>\n",
              "  <tbody>\n",
              "    <tr>\n",
              "      <th>6000</th>\n",
              "      <td>18.709</td>\n",
              "      <td>8</td>\n",
              "      <td>0</td>\n",
              "      <td>1</td>\n",
              "      <td>0</td>\n",
              "      <td>1</td>\n",
              "      <td>0</td>\n",
              "      <td>0</td>\n",
              "      <td>0</td>\n",
              "      <td>0</td>\n",
              "      <td>0</td>\n",
              "      <td>0</td>\n",
              "      <td>0</td>\n",
              "      <td>0</td>\n",
              "      <td>0</td>\n",
              "      <td>0</td>\n",
              "      <td>0</td>\n",
              "    </tr>\n",
              "    <tr>\n",
              "      <th>6001</th>\n",
              "      <td>18.709</td>\n",
              "      <td>8</td>\n",
              "      <td>0</td>\n",
              "      <td>0</td>\n",
              "      <td>1</td>\n",
              "      <td>1</td>\n",
              "      <td>0</td>\n",
              "      <td>0</td>\n",
              "      <td>0</td>\n",
              "      <td>0</td>\n",
              "      <td>0</td>\n",
              "      <td>0</td>\n",
              "      <td>0</td>\n",
              "      <td>0</td>\n",
              "      <td>0</td>\n",
              "      <td>0</td>\n",
              "      <td>0</td>\n",
              "    </tr>\n",
              "    <tr>\n",
              "      <th>6002</th>\n",
              "      <td>18.709</td>\n",
              "      <td>8</td>\n",
              "      <td>0</td>\n",
              "      <td>0</td>\n",
              "      <td>1</td>\n",
              "      <td>1</td>\n",
              "      <td>0</td>\n",
              "      <td>0</td>\n",
              "      <td>0</td>\n",
              "      <td>0</td>\n",
              "      <td>0</td>\n",
              "      <td>0</td>\n",
              "      <td>0</td>\n",
              "      <td>0</td>\n",
              "      <td>0</td>\n",
              "      <td>0</td>\n",
              "      <td>0</td>\n",
              "    </tr>\n",
              "    <tr>\n",
              "      <th>6003</th>\n",
              "      <td>18.501</td>\n",
              "      <td>8</td>\n",
              "      <td>0</td>\n",
              "      <td>1</td>\n",
              "      <td>0</td>\n",
              "      <td>0</td>\n",
              "      <td>0</td>\n",
              "      <td>0</td>\n",
              "      <td>0</td>\n",
              "      <td>0</td>\n",
              "      <td>1</td>\n",
              "      <td>0</td>\n",
              "      <td>0</td>\n",
              "      <td>0</td>\n",
              "      <td>0</td>\n",
              "      <td>0</td>\n",
              "      <td>0</td>\n",
              "    </tr>\n",
              "    <tr>\n",
              "      <th>6004</th>\n",
              "      <td>18.501</td>\n",
              "      <td>8</td>\n",
              "      <td>0</td>\n",
              "      <td>1</td>\n",
              "      <td>0</td>\n",
              "      <td>0</td>\n",
              "      <td>0</td>\n",
              "      <td>0</td>\n",
              "      <td>0</td>\n",
              "      <td>0</td>\n",
              "      <td>1</td>\n",
              "      <td>0</td>\n",
              "      <td>0</td>\n",
              "      <td>0</td>\n",
              "      <td>0</td>\n",
              "      <td>0</td>\n",
              "      <td>0</td>\n",
              "    </tr>\n",
              "  </tbody>\n",
              "</table>\n",
              "</div>"
            ],
            "text/plain": [
              "      properties_Dimensions_Length  Material_Number  ...  6\"  8\"\n",
              "6000                        18.709                8  ...   0   0\n",
              "6001                        18.709                8  ...   0   0\n",
              "6002                        18.709                8  ...   0   0\n",
              "6003                        18.501                8  ...   0   0\n",
              "6004                        18.501                8  ...   0   0\n",
              "\n",
              "[5 rows x 17 columns]"
            ]
          },
          "metadata": {
            "tags": []
          },
          "execution_count": 150
        }
      ]
    },
    {
      "cell_type": "code",
      "metadata": {
        "id": "hRHP_8y3MRoP",
        "colab_type": "code",
        "colab": {
          "base_uri": "https://localhost:8080/",
          "height": 34
        },
        "outputId": "e57c7e8a-3657-484c-8bf8-66f92e87eace"
      },
      "source": [
        "firstpartcol=df5.columns\n",
        "secondpartcol=Testdata5.columns\n",
        "len(secondpartcol)"
      ],
      "execution_count": 161,
      "outputs": [
        {
          "output_type": "execute_result",
          "data": {
            "text/plain": [
              "17"
            ]
          },
          "metadata": {
            "tags": []
          },
          "execution_count": 161
        }
      ]
    },
    {
      "cell_type": "code",
      "metadata": {
        "id": "nxDMGF2IPy_3",
        "colab_type": "code",
        "colab": {
          "base_uri": "https://localhost:8080/",
          "height": 34
        },
        "outputId": "c0a87d86-1644-46e9-ad8c-b00c6d58068c"
      },
      "source": [
        "len(firstpartcol)"
      ],
      "execution_count": 172,
      "outputs": [
        {
          "output_type": "execute_result",
          "data": {
            "text/plain": [
              "28"
            ]
          },
          "metadata": {
            "tags": []
          },
          "execution_count": 172
        }
      ]
    },
    {
      "cell_type": "code",
      "metadata": {
        "id": "VRcaQ3fuP5O1",
        "colab_type": "code",
        "colab": {
          "base_uri": "https://localhost:8080/",
          "height": 242
        },
        "outputId": "55dc7c46-fdb6-47f5-c8a8-16dc0b960c95"
      },
      "source": [
        "li_toel=[]\n",
        "li_toapp=[]\n",
        "i=0\n",
        "for i in range(0,28):\n",
        "  if firstpartcol[i] in secondpartcol:\n",
        "    li_toel.append(firstpartcol[i])\n",
        "  else:\n",
        "    li_toapp.append(firstpartcol[i])\n",
        "li_toapp"
      ],
      "execution_count": 178,
      "outputs": [
        {
          "output_type": "execute_result",
          "data": {
            "text/plain": [
              "['Domestic Hot Water',\n",
              " 'Fire Protection Dry',\n",
              " 'Fire Protection Wet',\n",
              " 'Other',\n",
              " 'Sanitary',\n",
              " 'Vent',\n",
              " '1 3/8\"',\n",
              " '1/2\"',\n",
              " '10\"',\n",
              " '12\"',\n",
              " '14\"',\n",
              " '16\"',\n",
              " '5\"']"
            ]
          },
          "metadata": {
            "tags": []
          },
          "execution_count": 178
        }
      ]
    },
    {
      "cell_type": "code",
      "metadata": {
        "id": "9FyWMQu5MpxA",
        "colab_type": "code",
        "colab": {
          "base_uri": "https://localhost:8080/",
          "height": 34
        },
        "outputId": "3a5db233-8a81-41da-9bc1-4e3f241f17b1"
      },
      "source": [
        "liapp=[]\n",
        "lipop=[]\n",
        "\n",
        "i=0\n",
        "for i in range(0,17):\n",
        "  if secondpartcol[i] in firstpartcol:\n",
        "    liapp.append(secondpartcol[i])\n",
        "  else:\n",
        "    lipop.append(secondpartcol[i])\n",
        "lipop"
      ],
      "execution_count": 181,
      "outputs": [
        {
          "output_type": "execute_result",
          "data": {
            "text/plain": [
              "['30\"', '36\"']"
            ]
          },
          "metadata": {
            "tags": []
          },
          "execution_count": 181
        }
      ]
    },
    {
      "cell_type": "code",
      "metadata": {
        "id": "G2Jy18hXNsjo",
        "colab_type": "code",
        "colab": {
          "base_uri": "https://localhost:8080/",
          "height": 416
        },
        "outputId": "d493d6f5-7b0b-44ea-e6a9-16d0bf1aa5ce"
      },
      "source": [
        "Testdata5.drop(lipop,axis=1,inplace=True)\n",
        "Testdata5"
      ],
      "execution_count": 171,
      "outputs": [
        {
          "output_type": "execute_result",
          "data": {
            "text/html": [
              "<div>\n",
              "<style scoped>\n",
              "    .dataframe tbody tr th:only-of-type {\n",
              "        vertical-align: middle;\n",
              "    }\n",
              "\n",
              "    .dataframe tbody tr th {\n",
              "        vertical-align: top;\n",
              "    }\n",
              "\n",
              "    .dataframe thead th {\n",
              "        text-align: right;\n",
              "    }\n",
              "</style>\n",
              "<table border=\"1\" class=\"dataframe\">\n",
              "  <thead>\n",
              "    <tr style=\"text-align: right;\">\n",
              "      <th></th>\n",
              "      <th>properties_Dimensions_Length</th>\n",
              "      <th>Material_Number</th>\n",
              "      <th>Domestic Cold Water</th>\n",
              "      <th>Hydronic Return</th>\n",
              "      <th>Hydronic Supply</th>\n",
              "      <th>1 1/2\"</th>\n",
              "      <th>1 1/4\"</th>\n",
              "      <th>1\"</th>\n",
              "      <th>2 1/2\"</th>\n",
              "      <th>2\"</th>\n",
              "      <th>3\"</th>\n",
              "      <th>3/4\"</th>\n",
              "      <th>4\"</th>\n",
              "      <th>6\"</th>\n",
              "      <th>8\"</th>\n",
              "    </tr>\n",
              "  </thead>\n",
              "  <tbody>\n",
              "    <tr>\n",
              "      <th>6000</th>\n",
              "      <td>18.709</td>\n",
              "      <td>8</td>\n",
              "      <td>0</td>\n",
              "      <td>1</td>\n",
              "      <td>0</td>\n",
              "      <td>1</td>\n",
              "      <td>0</td>\n",
              "      <td>0</td>\n",
              "      <td>0</td>\n",
              "      <td>0</td>\n",
              "      <td>0</td>\n",
              "      <td>0</td>\n",
              "      <td>0</td>\n",
              "      <td>0</td>\n",
              "      <td>0</td>\n",
              "    </tr>\n",
              "    <tr>\n",
              "      <th>6001</th>\n",
              "      <td>18.709</td>\n",
              "      <td>8</td>\n",
              "      <td>0</td>\n",
              "      <td>0</td>\n",
              "      <td>1</td>\n",
              "      <td>1</td>\n",
              "      <td>0</td>\n",
              "      <td>0</td>\n",
              "      <td>0</td>\n",
              "      <td>0</td>\n",
              "      <td>0</td>\n",
              "      <td>0</td>\n",
              "      <td>0</td>\n",
              "      <td>0</td>\n",
              "      <td>0</td>\n",
              "    </tr>\n",
              "    <tr>\n",
              "      <th>6002</th>\n",
              "      <td>18.709</td>\n",
              "      <td>8</td>\n",
              "      <td>0</td>\n",
              "      <td>0</td>\n",
              "      <td>1</td>\n",
              "      <td>1</td>\n",
              "      <td>0</td>\n",
              "      <td>0</td>\n",
              "      <td>0</td>\n",
              "      <td>0</td>\n",
              "      <td>0</td>\n",
              "      <td>0</td>\n",
              "      <td>0</td>\n",
              "      <td>0</td>\n",
              "      <td>0</td>\n",
              "    </tr>\n",
              "    <tr>\n",
              "      <th>6003</th>\n",
              "      <td>18.501</td>\n",
              "      <td>8</td>\n",
              "      <td>0</td>\n",
              "      <td>1</td>\n",
              "      <td>0</td>\n",
              "      <td>0</td>\n",
              "      <td>0</td>\n",
              "      <td>0</td>\n",
              "      <td>0</td>\n",
              "      <td>0</td>\n",
              "      <td>1</td>\n",
              "      <td>0</td>\n",
              "      <td>0</td>\n",
              "      <td>0</td>\n",
              "      <td>0</td>\n",
              "    </tr>\n",
              "    <tr>\n",
              "      <th>6004</th>\n",
              "      <td>18.501</td>\n",
              "      <td>8</td>\n",
              "      <td>0</td>\n",
              "      <td>1</td>\n",
              "      <td>0</td>\n",
              "      <td>0</td>\n",
              "      <td>0</td>\n",
              "      <td>0</td>\n",
              "      <td>0</td>\n",
              "      <td>0</td>\n",
              "      <td>1</td>\n",
              "      <td>0</td>\n",
              "      <td>0</td>\n",
              "      <td>0</td>\n",
              "      <td>0</td>\n",
              "    </tr>\n",
              "    <tr>\n",
              "      <th>...</th>\n",
              "      <td>...</td>\n",
              "      <td>...</td>\n",
              "      <td>...</td>\n",
              "      <td>...</td>\n",
              "      <td>...</td>\n",
              "      <td>...</td>\n",
              "      <td>...</td>\n",
              "      <td>...</td>\n",
              "      <td>...</td>\n",
              "      <td>...</td>\n",
              "      <td>...</td>\n",
              "      <td>...</td>\n",
              "      <td>...</td>\n",
              "      <td>...</td>\n",
              "      <td>...</td>\n",
              "    </tr>\n",
              "    <tr>\n",
              "      <th>6495</th>\n",
              "      <td>4.218</td>\n",
              "      <td>8</td>\n",
              "      <td>0</td>\n",
              "      <td>1</td>\n",
              "      <td>0</td>\n",
              "      <td>0</td>\n",
              "      <td>0</td>\n",
              "      <td>0</td>\n",
              "      <td>0</td>\n",
              "      <td>0</td>\n",
              "      <td>1</td>\n",
              "      <td>0</td>\n",
              "      <td>0</td>\n",
              "      <td>0</td>\n",
              "      <td>0</td>\n",
              "    </tr>\n",
              "    <tr>\n",
              "      <th>6496</th>\n",
              "      <td>4.218</td>\n",
              "      <td>8</td>\n",
              "      <td>0</td>\n",
              "      <td>1</td>\n",
              "      <td>0</td>\n",
              "      <td>0</td>\n",
              "      <td>0</td>\n",
              "      <td>0</td>\n",
              "      <td>0</td>\n",
              "      <td>0</td>\n",
              "      <td>1</td>\n",
              "      <td>0</td>\n",
              "      <td>0</td>\n",
              "      <td>0</td>\n",
              "      <td>0</td>\n",
              "    </tr>\n",
              "    <tr>\n",
              "      <th>6497</th>\n",
              "      <td>1.078</td>\n",
              "      <td>8</td>\n",
              "      <td>0</td>\n",
              "      <td>1</td>\n",
              "      <td>0</td>\n",
              "      <td>0</td>\n",
              "      <td>0</td>\n",
              "      <td>0</td>\n",
              "      <td>0</td>\n",
              "      <td>0</td>\n",
              "      <td>1</td>\n",
              "      <td>0</td>\n",
              "      <td>0</td>\n",
              "      <td>0</td>\n",
              "      <td>0</td>\n",
              "    </tr>\n",
              "    <tr>\n",
              "      <th>6498</th>\n",
              "      <td>1.078</td>\n",
              "      <td>8</td>\n",
              "      <td>0</td>\n",
              "      <td>1</td>\n",
              "      <td>0</td>\n",
              "      <td>0</td>\n",
              "      <td>0</td>\n",
              "      <td>0</td>\n",
              "      <td>0</td>\n",
              "      <td>0</td>\n",
              "      <td>1</td>\n",
              "      <td>0</td>\n",
              "      <td>0</td>\n",
              "      <td>0</td>\n",
              "      <td>0</td>\n",
              "    </tr>\n",
              "    <tr>\n",
              "      <th>6499</th>\n",
              "      <td>4.960</td>\n",
              "      <td>8</td>\n",
              "      <td>0</td>\n",
              "      <td>1</td>\n",
              "      <td>0</td>\n",
              "      <td>0</td>\n",
              "      <td>0</td>\n",
              "      <td>0</td>\n",
              "      <td>0</td>\n",
              "      <td>0</td>\n",
              "      <td>0</td>\n",
              "      <td>0</td>\n",
              "      <td>0</td>\n",
              "      <td>1</td>\n",
              "      <td>0</td>\n",
              "    </tr>\n",
              "  </tbody>\n",
              "</table>\n",
              "<p>500 rows × 15 columns</p>\n",
              "</div>"
            ],
            "text/plain": [
              "      properties_Dimensions_Length  Material_Number  ...  6\"  8\"\n",
              "6000                        18.709                8  ...   0   0\n",
              "6001                        18.709                8  ...   0   0\n",
              "6002                        18.709                8  ...   0   0\n",
              "6003                        18.501                8  ...   0   0\n",
              "6004                        18.501                8  ...   0   0\n",
              "...                            ...              ...  ...  ..  ..\n",
              "6495                         4.218                8  ...   0   0\n",
              "6496                         4.218                8  ...   0   0\n",
              "6497                         1.078                8  ...   0   0\n",
              "6498                         1.078                8  ...   0   0\n",
              "6499                         4.960                8  ...   1   0\n",
              "\n",
              "[500 rows x 15 columns]"
            ]
          },
          "metadata": {
            "tags": []
          },
          "execution_count": 171
        }
      ]
    },
    {
      "cell_type": "code",
      "metadata": {
        "id": "i-Q1SR7NPcjX",
        "colab_type": "code",
        "colab": {
          "base_uri": "https://localhost:8080/",
          "height": 328
        },
        "outputId": "e7dcefdd-4331-4ad3-f55e-b6a547630aa3"
      },
      "source": [
        "Testdata6=Testdata5\n",
        "Testdata6[reshaped_array]=0"
      ],
      "execution_count": 191,
      "outputs": [
        {
          "output_type": "error",
          "ename": "ValueError",
          "evalue": "ignored",
          "traceback": [
            "\u001b[0;31m---------------------------------------------------------------------------\u001b[0m",
            "\u001b[0;31mValueError\u001b[0m                                Traceback (most recent call last)",
            "\u001b[0;32m<ipython-input-191-1bc566bc25b7>\u001b[0m in \u001b[0;36m<module>\u001b[0;34m()\u001b[0m\n\u001b[1;32m      1\u001b[0m \u001b[0mTestdata6\u001b[0m\u001b[0;34m=\u001b[0m\u001b[0mTestdata5\u001b[0m\u001b[0;34m\u001b[0m\u001b[0;34m\u001b[0m\u001b[0m\n\u001b[0;32m----> 2\u001b[0;31m \u001b[0mTestdata6\u001b[0m\u001b[0;34m[\u001b[0m\u001b[0mreshaped_array\u001b[0m\u001b[0;34m]\u001b[0m\u001b[0;34m=\u001b[0m\u001b[0;36m0\u001b[0m\u001b[0;34m\u001b[0m\u001b[0;34m\u001b[0m\u001b[0m\n\u001b[0m",
            "\u001b[0;32m/usr/local/lib/python3.6/dist-packages/pandas/core/frame.py\u001b[0m in \u001b[0;36m__setitem__\u001b[0;34m(self, key, value)\u001b[0m\n\u001b[1;32m   2931\u001b[0m \u001b[0;34m\u001b[0m\u001b[0m\n\u001b[1;32m   2932\u001b[0m         \u001b[0;32mif\u001b[0m \u001b[0misinstance\u001b[0m\u001b[0;34m(\u001b[0m\u001b[0mkey\u001b[0m\u001b[0;34m,\u001b[0m \u001b[0mDataFrame\u001b[0m\u001b[0;34m)\u001b[0m \u001b[0;32mor\u001b[0m \u001b[0mgetattr\u001b[0m\u001b[0;34m(\u001b[0m\u001b[0mkey\u001b[0m\u001b[0;34m,\u001b[0m \u001b[0;34m\"ndim\"\u001b[0m\u001b[0;34m,\u001b[0m \u001b[0;32mNone\u001b[0m\u001b[0;34m)\u001b[0m \u001b[0;34m==\u001b[0m \u001b[0;36m2\u001b[0m\u001b[0;34m:\u001b[0m\u001b[0;34m\u001b[0m\u001b[0;34m\u001b[0m\u001b[0m\n\u001b[0;32m-> 2933\u001b[0;31m             \u001b[0mself\u001b[0m\u001b[0;34m.\u001b[0m\u001b[0m_setitem_frame\u001b[0m\u001b[0;34m(\u001b[0m\u001b[0mkey\u001b[0m\u001b[0;34m,\u001b[0m \u001b[0mvalue\u001b[0m\u001b[0;34m)\u001b[0m\u001b[0;34m\u001b[0m\u001b[0;34m\u001b[0m\u001b[0m\n\u001b[0m\u001b[1;32m   2934\u001b[0m         \u001b[0;32melif\u001b[0m \u001b[0misinstance\u001b[0m\u001b[0;34m(\u001b[0m\u001b[0mkey\u001b[0m\u001b[0;34m,\u001b[0m \u001b[0;34m(\u001b[0m\u001b[0mSeries\u001b[0m\u001b[0;34m,\u001b[0m \u001b[0mnp\u001b[0m\u001b[0;34m.\u001b[0m\u001b[0mndarray\u001b[0m\u001b[0;34m,\u001b[0m \u001b[0mlist\u001b[0m\u001b[0;34m,\u001b[0m \u001b[0mIndex\u001b[0m\u001b[0;34m)\u001b[0m\u001b[0;34m)\u001b[0m\u001b[0;34m:\u001b[0m\u001b[0;34m\u001b[0m\u001b[0;34m\u001b[0m\u001b[0m\n\u001b[1;32m   2935\u001b[0m             \u001b[0mself\u001b[0m\u001b[0;34m.\u001b[0m\u001b[0m_setitem_array\u001b[0m\u001b[0;34m(\u001b[0m\u001b[0mkey\u001b[0m\u001b[0;34m,\u001b[0m \u001b[0mvalue\u001b[0m\u001b[0;34m)\u001b[0m\u001b[0;34m\u001b[0m\u001b[0;34m\u001b[0m\u001b[0m\n",
            "\u001b[0;32m/usr/local/lib/python3.6/dist-packages/pandas/core/frame.py\u001b[0m in \u001b[0;36m_setitem_frame\u001b[0;34m(self, key, value)\u001b[0m\n\u001b[1;32m   2974\u001b[0m         \u001b[0;32mif\u001b[0m \u001b[0misinstance\u001b[0m\u001b[0;34m(\u001b[0m\u001b[0mkey\u001b[0m\u001b[0;34m,\u001b[0m \u001b[0mnp\u001b[0m\u001b[0;34m.\u001b[0m\u001b[0mndarray\u001b[0m\u001b[0;34m)\u001b[0m\u001b[0;34m:\u001b[0m\u001b[0;34m\u001b[0m\u001b[0;34m\u001b[0m\u001b[0m\n\u001b[1;32m   2975\u001b[0m             \u001b[0;32mif\u001b[0m \u001b[0mkey\u001b[0m\u001b[0;34m.\u001b[0m\u001b[0mshape\u001b[0m \u001b[0;34m!=\u001b[0m \u001b[0mself\u001b[0m\u001b[0;34m.\u001b[0m\u001b[0mshape\u001b[0m\u001b[0;34m:\u001b[0m\u001b[0;34m\u001b[0m\u001b[0;34m\u001b[0m\u001b[0m\n\u001b[0;32m-> 2976\u001b[0;31m                 \u001b[0;32mraise\u001b[0m \u001b[0mValueError\u001b[0m\u001b[0;34m(\u001b[0m\u001b[0;34m\"Array conditional must be same shape as self\"\u001b[0m\u001b[0;34m)\u001b[0m\u001b[0;34m\u001b[0m\u001b[0;34m\u001b[0m\u001b[0m\n\u001b[0m\u001b[1;32m   2977\u001b[0m             \u001b[0mkey\u001b[0m \u001b[0;34m=\u001b[0m \u001b[0mself\u001b[0m\u001b[0;34m.\u001b[0m\u001b[0m_constructor\u001b[0m\u001b[0;34m(\u001b[0m\u001b[0mkey\u001b[0m\u001b[0;34m,\u001b[0m \u001b[0;34m**\u001b[0m\u001b[0mself\u001b[0m\u001b[0;34m.\u001b[0m\u001b[0m_construct_axes_dict\u001b[0m\u001b[0;34m(\u001b[0m\u001b[0;34m)\u001b[0m\u001b[0;34m)\u001b[0m\u001b[0;34m\u001b[0m\u001b[0;34m\u001b[0m\u001b[0m\n\u001b[1;32m   2978\u001b[0m \u001b[0;34m\u001b[0m\u001b[0m\n",
            "\u001b[0;31mValueError\u001b[0m: Array conditional must be same shape as self"
          ]
        }
      ]
    },
    {
      "cell_type": "code",
      "metadata": {
        "id": "3NNi5LGNQvnE",
        "colab_type": "code",
        "colab": {}
      },
      "source": [
        "li_toapp\n",
        "# convert list to numpy array\n",
        "np_array=np.asarray(li_toapp)\n",
        "# reshape array into 4 rows x 2 columns, and transpose the result\n",
        "reshaped_array = np_array.reshape(1,13)\n",
        "\n"
      ],
      "execution_count": 189,
      "outputs": []
    },
    {
      "cell_type": "code",
      "metadata": {
        "id": "OQv8anPfSTWV",
        "colab_type": "code",
        "colab": {
          "base_uri": "https://localhost:8080/",
          "height": 69
        },
        "outputId": "105b5bcf-7853-42fb-aff8-3bd1283b89aa"
      },
      "source": [
        "reshaped_array"
      ],
      "execution_count": 190,
      "outputs": [
        {
          "output_type": "execute_result",
          "data": {
            "text/plain": [
              "array([['Domestic Hot Water', 'Fire Protection Dry',\n",
              "        'Fire Protection Wet', 'Other', 'Sanitary', 'Vent', '1 3/8\"',\n",
              "        '1/2\"', '10\"', '12\"', '14\"', '16\"', '5\"']], dtype='<U19')"
            ]
          },
          "metadata": {
            "tags": []
          },
          "execution_count": 190
        }
      ]
    },
    {
      "cell_type": "code",
      "metadata": {
        "id": "jYiD1OwQSbBb",
        "colab_type": "code",
        "colab": {}
      },
      "source": [
        ""
      ],
      "execution_count": null,
      "outputs": []
    }
  ]
}