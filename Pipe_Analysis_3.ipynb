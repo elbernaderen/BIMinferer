{
  "nbformat": 4,
  "nbformat_minor": 0,
  "metadata": {
    "colab": {
      "name": "Copia de Pipe Analysis 2.ipynb",
      "provenance": [],
      "collapsed_sections": [],
      "toc_visible": true,
      "authorship_tag": "ABX9TyNnpIkN7XWHz+XlWBe8KThs",
      "include_colab_link": true
    },
    "kernelspec": {
      "name": "python3",
      "display_name": "Python 3"
    }
  },
  "cells": [
    {
      "cell_type": "markdown",
      "metadata": {
        "id": "view-in-github",
        "colab_type": "text"
      },
      "source": [
        "<a href=\"https://colab.research.google.com/github/pabloderen/BIMinferer/blob/master/Pipe_Analysis_3.ipynb\" target=\"_parent\"><img src=\"https://colab.research.google.com/assets/colab-badge.svg\" alt=\"Open In Colab\"/></a>"
      ]
    },
    {
      "cell_type": "markdown",
      "metadata": {
        "id": "HeBe9Qe18MzP",
        "colab_type": "text"
      },
      "source": [
        "# Import Libraries"
      ]
    },
    {
      "cell_type": "code",
      "metadata": {
        "id": "MHjuBxluIVMr",
        "colab_type": "code",
        "colab": {
          "base_uri": "https://localhost:8080/",
          "height": 70
        },
        "outputId": "66f3ebb5-0a24-473d-8066-2c438cfc9112"
      },
      "source": [
        "import pandas as pd\n",
        "import json\n",
        "import urllib\n",
        "import matplotlib.pyplot as plt\n",
        "import seaborn as sns\n",
        "from sklearn.model_selection import train_test_split\n",
        "from sklearn.ensemble import RandomForestClassifier\n",
        "from sklearn.metrics import mean_absolute_error\n",
        "import numpy as np\n",
        "\n",
        "import joblib"
      ],
      "execution_count": 1,
      "outputs": [
        {
          "output_type": "stream",
          "text": [
            "/usr/local/lib/python3.6/dist-packages/statsmodels/tools/_testing.py:19: FutureWarning: pandas.util.testing is deprecated. Use the functions in the public API at pandas.testing instead.\n",
            "  import pandas.util.testing as tm\n"
          ],
          "name": "stderr"
        }
      ]
    },
    {
      "cell_type": "markdown",
      "metadata": {
        "id": "tho_BSd-8ZPH",
        "colab_type": "text"
      },
      "source": [
        "# Download the Data"
      ]
    },
    {
      "cell_type": "markdown",
      "metadata": {
        "id": "lUK3RdE1uwiK",
        "colab_type": "text"
      },
      "source": [
        "We download from de API in Flasgger (http://3.14.88.102:5000/apidocs/) the Pipe list item and it´s parameters\n"
      ]
    },
    {
      "cell_type": "code",
      "metadata": {
        "id": "c8evbTkGaURM",
        "colab_type": "code",
        "colab": {}
      },
      "source": [
        "jsonfile = urllib.request.urlopen(\"http://3.14.88.102:5000/api/1/elements/pipes/?limit=6500\").read().decode()\n",
        "j=json.loads(jsonfile)"
      ],
      "execution_count": 2,
      "outputs": []
    },
    {
      "cell_type": "markdown",
      "metadata": {
        "id": "xZAw2F-Mu2KX",
        "colab_type": "text"
      },
      "source": [
        "Then we make a Data Frame with the json file"
      ]
    },
    {
      "cell_type": "markdown",
      "metadata": {
        "id": "dfjKOj7w8g1h",
        "colab_type": "text"
      },
      "source": [
        "# Create the DataFrame"
      ]
    },
    {
      "cell_type": "code",
      "metadata": {
        "id": "XDuejJ1WaoY_",
        "colab_type": "code",
        "colab": {
          "base_uri": "https://localhost:8080/",
          "height": 316
        },
        "outputId": "6ff5d433-0590-4259-c7b2-27115fc3ea3f"
      },
      "source": [
        "df= pd.json_normalize(j)\n",
        "df.head(3)"
      ],
      "execution_count": 3,
      "outputs": [
        {
          "output_type": "execute_result",
          "data": {
            "text/html": [
              "<div>\n",
              "<style scoped>\n",
              "    .dataframe tbody tr th:only-of-type {\n",
              "        vertical-align: middle;\n",
              "    }\n",
              "\n",
              "    .dataframe tbody tr th {\n",
              "        vertical-align: top;\n",
              "    }\n",
              "\n",
              "    .dataframe thead th {\n",
              "        text-align: right;\n",
              "    }\n",
              "</style>\n",
              "<table border=\"1\" class=\"dataframe\">\n",
              "  <thead>\n",
              "    <tr style=\"text-align: right;\">\n",
              "      <th></th>\n",
              "      <th>projectId</th>\n",
              "      <th>Category</th>\n",
              "      <th>modelId</th>\n",
              "      <th>_id.$oid</th>\n",
              "      <th>properties_Dimensions_Length</th>\n",
              "      <th>properties_Dimensions_Size</th>\n",
              "      <th>properties_Mechanical_Material</th>\n",
              "      <th>properties_Mechanical_System Classification</th>\n",
              "    </tr>\n",
              "  </thead>\n",
              "  <tbody>\n",
              "    <tr>\n",
              "      <th>0</th>\n",
              "      <td>b.c94f85e5-88fb-402c-bc60-72622f5f85b6</td>\n",
              "      <td>Pipes</td>\n",
              "      <td>d4ea3308-4b3f-d382-cacb-9791f772042b</td>\n",
              "      <td>5eee8651cb573f2fc2216a82</td>\n",
              "      <td>NaN</td>\n",
              "      <td>NaN</td>\n",
              "      <td>NaN</td>\n",
              "      <td>NaN</td>\n",
              "    </tr>\n",
              "    <tr>\n",
              "      <th>1</th>\n",
              "      <td>b.c94f85e5-88fb-402c-bc60-72622f5f85b6</td>\n",
              "      <td>Pipes</td>\n",
              "      <td>d4ea3308-4b3f-d382-cacb-9791f772042b</td>\n",
              "      <td>5eee8651cb573f2fc2216a83</td>\n",
              "      <td>NaN</td>\n",
              "      <td>NaN</td>\n",
              "      <td>NaN</td>\n",
              "      <td>NaN</td>\n",
              "    </tr>\n",
              "    <tr>\n",
              "      <th>2</th>\n",
              "      <td>b.c94f85e5-88fb-402c-bc60-72622f5f85b6</td>\n",
              "      <td>Pipes</td>\n",
              "      <td>d4ea3308-4b3f-d382-cacb-9791f772042b</td>\n",
              "      <td>5eee8651cb573f2fc2216a84</td>\n",
              "      <td>0.398 ft</td>\n",
              "      <td>2 1/2\"</td>\n",
              "      <td>Copper</td>\n",
              "      <td>Sanitary</td>\n",
              "    </tr>\n",
              "  </tbody>\n",
              "</table>\n",
              "</div>"
            ],
            "text/plain": [
              "                                projectId  ... properties_Mechanical_System Classification\n",
              "0  b.c94f85e5-88fb-402c-bc60-72622f5f85b6  ...                                         NaN\n",
              "1  b.c94f85e5-88fb-402c-bc60-72622f5f85b6  ...                                         NaN\n",
              "2  b.c94f85e5-88fb-402c-bc60-72622f5f85b6  ...                                    Sanitary\n",
              "\n",
              "[3 rows x 8 columns]"
            ]
          },
          "metadata": {
            "tags": []
          },
          "execution_count": 3
        }
      ]
    },
    {
      "cell_type": "markdown",
      "metadata": {
        "id": "QRqkmUdp9AgZ",
        "colab_type": "text"
      },
      "source": [
        "# Material Edition"
      ]
    },
    {
      "cell_type": "markdown",
      "metadata": {
        "id": "mhPq5G4TvKTg",
        "colab_type": "text"
      },
      "source": [
        "we can see how many different materials we have, so then we will \n",
        "group by PVC, Copper and Steel"
      ]
    },
    {
      "cell_type": "code",
      "metadata": {
        "id": "YgAbL4g_bzz-",
        "colab_type": "code",
        "colab": {
          "base_uri": "https://localhost:8080/",
          "height": 115
        },
        "outputId": "1ed0cf77-c2f2-4053-a4e8-ad3df75eeee6"
      },
      "source": [
        "df[\"properties_Mechanical_Material\"].unique()"
      ],
      "execution_count": 4,
      "outputs": [
        {
          "output_type": "execute_result",
          "data": {
            "text/plain": [
              "array([nan, 'Copper', 'Steel, Carbon', '<By Category>',\n",
              "       'Polyvinyl Chloride - Rigid', 'CP_PI - Copper - ASTM B88 H.D.',\n",
              "       'CP_PI - Steel - ASTM A53-B', 'CP_PI - PVC', 'Cast Iron',\n",
              "       'Black Steel', 'Carbon Steel', 'Ductile Iron',\n",
              "       'Polyvinyl Chloride, Rigid', 'Carbon Steel - ASTM A53 B'],\n",
              "      dtype=object)"
            ]
          },
          "metadata": {
            "tags": []
          },
          "execution_count": 4
        }
      ]
    },
    {
      "cell_type": "markdown",
      "metadata": {
        "id": "OgBVVzDvvX9G",
        "colab_type": "text"
      },
      "source": [
        "To make such a grouping, we define a function that search in the \"properties_Mechanical_Material\" and change each row that has another different name for the same material"
      ]
    },
    {
      "cell_type": "code",
      "metadata": {
        "id": "UTHogQgzb2l2",
        "colab_type": "code",
        "colab": {}
      },
      "source": [
        "def search(data):\n",
        "   \n",
        "    if \"A53\" in data.upper():\n",
        "        return \"Carbon Steel - ASTM A53 B\"\n",
        "    if \"CATEGORY\" in data.upper():\n",
        "        return \"NaN\"\n",
        "    if \"POLYVINYL\" in data.upper():\n",
        "        return \"PVC\"\n",
        "    if \"PVC\" in data.upper():\n",
        "        return \"PVC\"\n",
        "    if \"NAN\" in data.upper():\n",
        "        return \"NaN\"\n",
        "    else:\n",
        "        return data"
      ],
      "execution_count": 5,
      "outputs": []
    },
    {
      "cell_type": "markdown",
      "metadata": {
        "id": "ybOsaokEvXE9",
        "colab_type": "text"
      },
      "source": [
        "For practical purpuses, we will make a copy of the DataFrame, \n",
        "then apply the function in each row of the \"properties_Mechanical_Material\" column."
      ]
    },
    {
      "cell_type": "code",
      "metadata": {
        "id": "plRdbEgthiWL",
        "colab_type": "code",
        "colab": {}
      },
      "source": [
        "df2=df\n",
        "df2[\"properties_Mechanical_Material\"]=df2[\"properties_Mechanical_Material\"].apply(lambda x: search(str(x)))\n"
      ],
      "execution_count": 6,
      "outputs": []
    },
    {
      "cell_type": "markdown",
      "metadata": {
        "id": "wOwwSG9NvlL6",
        "colab_type": "text"
      },
      "source": [
        "here is the amount of each material kind"
      ]
    },
    {
      "cell_type": "code",
      "metadata": {
        "id": "iT4kvHHviEZA",
        "colab_type": "code",
        "colab": {
          "base_uri": "https://localhost:8080/",
          "height": 196
        },
        "outputId": "4287fa45-edc1-4fe0-d876-8b9fb27550d7"
      },
      "source": [
        "\n",
        "df2[\"properties_Mechanical_Material\"].value_counts()\n"
      ],
      "execution_count": 7,
      "outputs": [
        {
          "output_type": "execute_result",
          "data": {
            "text/plain": [
              "PVC                               1745\n",
              "Carbon Steel                      1737\n",
              "Carbon Steel - ASTM A53 B         1322\n",
              "Copper                            1102\n",
              "CP_PI - Copper - ASTM B88 H.D.     424\n",
              "Steel, Carbon                      121\n",
              "NaN                                 41\n",
              "Black Steel                          4\n",
              "Cast Iron                            2\n",
              "Ductile Iron                         2\n",
              "Name: properties_Mechanical_Material, dtype: int64"
            ]
          },
          "metadata": {
            "tags": []
          },
          "execution_count": 7
        }
      ]
    },
    {
      "cell_type": "markdown",
      "metadata": {
        "id": "RWwVmgDth6Z0",
        "colab_type": "text"
      },
      "source": [
        "Here we can see a graphic of the different amount of each materials:"
      ]
    },
    {
      "cell_type": "markdown",
      "metadata": {
        "id": "kFswPbNH843V",
        "colab_type": "text"
      },
      "source": [
        "# Graphics"
      ]
    },
    {
      "cell_type": "code",
      "metadata": {
        "id": "wPtZ6q2UZydL",
        "colab_type": "code",
        "colab": {
          "base_uri": "https://localhost:8080/",
          "height": 288
        },
        "outputId": "eaccfcea-5264-4385-8727-257aeac03e73"
      },
      "source": [
        "\n",
        "plt.figure(figsize=(20,4))\n",
        "ax=sns.countplot(y=\"properties_Mechanical_Material\",data=df2,order=df2[\"properties_Mechanical_Material\"].value_counts().index)\n",
        "ax.set( ylabel=\"Material\")"
      ],
      "execution_count": 8,
      "outputs": [
        {
          "output_type": "execute_result",
          "data": {
            "text/plain": [
              "[Text(0, 0.5, 'Material')]"
            ]
          },
          "metadata": {
            "tags": []
          },
          "execution_count": 8
        },
        {
          "output_type": "display_data",
          "data": {
            "image/png": "[encoded data removed]",
            "text/plain": [
              "<Figure size 1440x288 with 1 Axes>"
            ]
          },
          "metadata": {
            "tags": [],
            "needs_background": "light"
          }
        }
      ]
    },
    {
      "cell_type": "code",
      "metadata": {
        "id": "BYFuxyS8i3ww",
        "colab_type": "code",
        "colab": {
          "base_uri": "https://localhost:8080/",
          "height": 180
        },
        "outputId": "e3f4d17d-9314-4135-bbdf-38643ce202eb"
      },
      "source": [
        "df2[\"properties_Mechanical_System Classification\"].value_counts()"
      ],
      "execution_count": 9,
      "outputs": [
        {
          "output_type": "execute_result",
          "data": {
            "text/plain": [
              "Hydronic Supply        1668\n",
              "Hydronic Return        1523\n",
              "Sanitary               1499\n",
              "Domestic Cold Water     730\n",
              "Vent                    417\n",
              "Domestic Hot Water      321\n",
              "Other                   187\n",
              "Fire Protection Dry     116\n",
              "Fire Protection Wet       2\n",
              "Name: properties_Mechanical_System Classification, dtype: int64"
            ]
          },
          "metadata": {
            "tags": []
          },
          "execution_count": 9
        }
      ]
    },
    {
      "cell_type": "code",
      "metadata": {
        "id": "785lV-VNamPz",
        "colab_type": "code",
        "colab": {}
      },
      "source": [
        ""
      ],
      "execution_count": null,
      "outputs": []
    },
    {
      "cell_type": "markdown",
      "metadata": {
        "id": "l064bxxYqmhp",
        "colab_type": "text"
      },
      "source": [
        "Here we have an graphic of the system"
      ]
    },
    {
      "cell_type": "code",
      "metadata": {
        "id": "x4IMTSsYlD3z",
        "colab_type": "code",
        "colab": {
          "base_uri": "https://localhost:8080/",
          "height": 295
        },
        "outputId": "2e89d648-085d-44ac-b887-bf80bba6a7cb"
      },
      "source": [
        "plt.figure(figsize=(20,4))\n",
        "ax=sns.countplot(y=\"properties_Mechanical_System Classification\",data=df2,order=df2[\"properties_Mechanical_System Classification\"].value_counts().index)\n",
        "ax.set( ylabel=\"System Classification\")"
      ],
      "execution_count": 10,
      "outputs": [
        {
          "output_type": "execute_result",
          "data": {
            "text/plain": [
              "[Text(0, 0.5, 'System Classification')]"
            ]
          },
          "metadata": {
            "tags": []
          },
          "execution_count": 10
        },
        {
          "output_type": "display_data",
          "data": {
            "image/png": "[encoded data removed]",
            "text/plain": [
              "<Figure size 1440x288 with 1 Axes>"
            ]
          },
          "metadata": {
            "tags": [],
            "needs_background": "light"
          }
        }
      ]
    },
    {
      "cell_type": "markdown",
      "metadata": {
        "id": "WaVPOze3952n",
        "colab_type": "text"
      },
      "source": [
        "# Length Edition"
      ]
    },
    {
      "cell_type": "markdown",
      "metadata": {
        "id": "T3BhD3XMvrpr",
        "colab_type": "text"
      },
      "source": [
        "We drop the rows with properties_Dimensions_Length NaN values."
      ]
    },
    {
      "cell_type": "code",
      "metadata": {
        "id": "M75QW1_8neCa",
        "colab_type": "code",
        "colab": {}
      },
      "source": [
        "df3=df2.dropna(axis=0,subset=[\"properties_Dimensions_Length\"])\n"
      ],
      "execution_count": 11,
      "outputs": []
    },
    {
      "cell_type": "markdown",
      "metadata": {
        "id": "JcNUU0BYvwqm",
        "colab_type": "text"
      },
      "source": [
        "Her we start to convert the properties_Dimensions_Length from string to float \n",
        "(we use x.replace(\" ft\",\"\") and x.replace(\"  ft\",\"\"), notice the spaces in each case)\n",
        "\n"
      ]
    },
    {
      "cell_type": "code",
      "metadata": {
        "id": "iNgt0y4mlQti",
        "colab_type": "code",
        "colab": {
          "base_uri": "https://localhost:8080/",
          "height": 212
        },
        "outputId": "0383628f-ac33-40ba-84f7-e6813fafcd8b"
      },
      "source": [
        "df3[\"properties_Dimensions_Length\"]= df3[\"properties_Dimensions_Length\"].apply(lambda x: x.replace(\" ft\",\"\"))\n",
        "df3[\"properties_Dimensions_Length\"]= df3[\"properties_Dimensions_Length\"].apply(lambda x: x.replace(\"  ft\",\"\"))"
      ],
      "execution_count": 12,
      "outputs": [
        {
          "output_type": "stream",
          "text": [
            "/usr/local/lib/python3.6/dist-packages/ipykernel_launcher.py:1: SettingWithCopyWarning: \n",
            "A value is trying to be set on a copy of a slice from a DataFrame.\n",
            "Try using .loc[row_indexer,col_indexer] = value instead\n",
            "\n",
            "See the caveats in the documentation: https://pandas.pydata.org/pandas-docs/stable/user_guide/indexing.html#returning-a-view-versus-a-copy\n",
            "  \"\"\"Entry point for launching an IPython kernel.\n",
            "/usr/local/lib/python3.6/dist-packages/ipykernel_launcher.py:2: SettingWithCopyWarning: \n",
            "A value is trying to be set on a copy of a slice from a DataFrame.\n",
            "Try using .loc[row_indexer,col_indexer] = value instead\n",
            "\n",
            "See the caveats in the documentation: https://pandas.pydata.org/pandas-docs/stable/user_guide/indexing.html#returning-a-view-versus-a-copy\n",
            "  \n"
          ],
          "name": "stderr"
        }
      ]
    },
    {
      "cell_type": "code",
      "metadata": {
        "id": "kHkyOp41o4ai",
        "colab_type": "code",
        "colab": {
          "base_uri": "https://localhost:8080/",
          "height": 115
        },
        "outputId": "974b83ad-75cd-4f0c-ba8c-be2ee3a6b984"
      },
      "source": [
        "df3[\"properties_Dimensions_Length\"]= df3[\"properties_Dimensions_Length\"].apply(lambda x: float(x))"
      ],
      "execution_count": 13,
      "outputs": [
        {
          "output_type": "stream",
          "text": [
            "/usr/local/lib/python3.6/dist-packages/ipykernel_launcher.py:1: SettingWithCopyWarning: \n",
            "A value is trying to be set on a copy of a slice from a DataFrame.\n",
            "Try using .loc[row_indexer,col_indexer] = value instead\n",
            "\n",
            "See the caveats in the documentation: https://pandas.pydata.org/pandas-docs/stable/user_guide/indexing.html#returning-a-view-versus-a-copy\n",
            "  \"\"\"Entry point for launching an IPython kernel.\n"
          ],
          "name": "stderr"
        }
      ]
    },
    {
      "cell_type": "markdown",
      "metadata": {
        "id": "ZDqTjUIQ-TO0",
        "colab_type": "text"
      },
      "source": [
        "# Size Edition"
      ]
    },
    {
      "cell_type": "markdown",
      "metadata": {
        "id": "SDSSSckRv-Nv",
        "colab_type": "text"
      },
      "source": [
        "we are analazing pipes, so we know that the dimensions Sizes are the diameter sizes. Then we can see that because a Size has the diameter simbol, creates another dimension. So we will take of the diameter simbol of all the column."
      ]
    },
    {
      "cell_type": "code",
      "metadata": {
        "id": "LGjqjizjo7Xx",
        "colab_type": "code",
        "colab": {
          "base_uri": "https://localhost:8080/",
          "height": 115
        },
        "outputId": "d46935b3-4d8b-4ebb-976d-e2f51c8d9a6c"
      },
      "source": [
        "df3[\"properties_Dimensions_Size\"].value_counts().head(5)"
      ],
      "execution_count": 14,
      "outputs": [
        {
          "output_type": "execute_result",
          "data": {
            "text/plain": [
              "2\"     643\n",
              "4\"ø    612\n",
              "6\"ø    549\n",
              "4\"     522\n",
              "3\"     436\n",
              "Name: properties_Dimensions_Size, dtype: int64"
            ]
          },
          "metadata": {
            "tags": []
          },
          "execution_count": 14
        }
      ]
    },
    {
      "cell_type": "code",
      "metadata": {
        "id": "CPl-4Ya6qSIj",
        "colab_type": "code",
        "colab": {
          "base_uri": "https://localhost:8080/",
          "height": 115
        },
        "outputId": "646cfa87-99a4-42d3-fec5-09701f896549"
      },
      "source": [
        "df3[\"properties_Dimensions_Size\"]= df3[\"properties_Dimensions_Size\"].apply(lambda x: x.replace(\"ø\",\"\"))"
      ],
      "execution_count": 15,
      "outputs": [
        {
          "output_type": "stream",
          "text": [
            "/usr/local/lib/python3.6/dist-packages/ipykernel_launcher.py:1: SettingWithCopyWarning: \n",
            "A value is trying to be set on a copy of a slice from a DataFrame.\n",
            "Try using .loc[row_indexer,col_indexer] = value instead\n",
            "\n",
            "See the caveats in the documentation: https://pandas.pydata.org/pandas-docs/stable/user_guide/indexing.html#returning-a-view-versus-a-copy\n",
            "  \"\"\"Entry point for launching an IPython kernel.\n"
          ],
          "name": "stderr"
        }
      ]
    },
    {
      "cell_type": "markdown",
      "metadata": {
        "id": "2na5JNpnwHjp",
        "colab_type": "text"
      },
      "source": [
        "Here we eliminate any leading and trailing whitespaces"
      ]
    },
    {
      "cell_type": "code",
      "metadata": {
        "id": "5oBxJ0zxsBcc",
        "colab_type": "code",
        "colab": {
          "base_uri": "https://localhost:8080/",
          "height": 115
        },
        "outputId": "368535ba-c616-445e-b1a1-c0cf0cd0e6bb"
      },
      "source": [
        "df3[\"properties_Dimensions_Size\"]= df3[\"properties_Dimensions_Size\"].apply(lambda x: x.strip())"
      ],
      "execution_count": 16,
      "outputs": [
        {
          "output_type": "stream",
          "text": [
            "/usr/local/lib/python3.6/dist-packages/ipykernel_launcher.py:1: SettingWithCopyWarning: \n",
            "A value is trying to be set on a copy of a slice from a DataFrame.\n",
            "Try using .loc[row_indexer,col_indexer] = value instead\n",
            "\n",
            "See the caveats in the documentation: https://pandas.pydata.org/pandas-docs/stable/user_guide/indexing.html#returning-a-view-versus-a-copy\n",
            "  \"\"\"Entry point for launching an IPython kernel.\n"
          ],
          "name": "stderr"
        }
      ]
    },
    {
      "cell_type": "code",
      "metadata": {
        "id": "cU7zWrMusOSS",
        "colab_type": "code",
        "colab": {
          "base_uri": "https://localhost:8080/",
          "height": 342
        },
        "outputId": "6e5a87eb-206d-49f8-ca27-a3739f7189cc"
      },
      "source": [
        "df3[\"properties_Dimensions_Size\"].value_counts()"
      ],
      "execution_count": 17,
      "outputs": [
        {
          "output_type": "execute_result",
          "data": {
            "text/plain": [
              "4\"        1152\n",
              "2\"         843\n",
              "3/4\"       745\n",
              "6\"         719\n",
              "3\"         704\n",
              "1\"         598\n",
              "2 1/2\"     340\n",
              "1 1/2\"     310\n",
              "1 1/4\"     309\n",
              "1/2\"       241\n",
              "16\"        146\n",
              "14\"         96\n",
              "8\"          88\n",
              "12\"         64\n",
              "10\"         60\n",
              "5\"          22\n",
              "30\"         22\n",
              "36\"          2\n",
              "1 3/8\"       2\n",
              "Name: properties_Dimensions_Size, dtype: int64"
            ]
          },
          "metadata": {
            "tags": []
          },
          "execution_count": 17
        }
      ]
    },
    {
      "cell_type": "code",
      "metadata": {
        "id": "m17CZx9CpzrU",
        "colab_type": "code",
        "colab": {
          "base_uri": "https://localhost:8080/",
          "height": 298
        },
        "outputId": "2d0fbb43-9fb3-40c4-d747-0c6bf7e61c37"
      },
      "source": [
        "plt.figure(figsize=(20,4))\n",
        "ax=sns.countplot(x=\"properties_Dimensions_Size\",data=df3,order=df3[\"properties_Dimensions_Size\"].value_counts().index)\n",
        "ax.set( xlabel= \"Dimensions Size\")"
      ],
      "execution_count": 18,
      "outputs": [
        {
          "output_type": "execute_result",
          "data": {
            "text/plain": [
              "[Text(0.5, 0, 'Dimensions Size')]"
            ]
          },
          "metadata": {
            "tags": []
          },
          "execution_count": 18
        },
        {
          "output_type": "display_data",
          "data": {
            "image/png": "[encoded data removed]",
            "text/plain": [
              "<Figure size 1440x288 with 1 Axes>"
            ]
          },
          "metadata": {
            "tags": [],
            "needs_background": "light"
          }
        }
      ]
    },
    {
      "cell_type": "code",
      "metadata": {
        "id": "Dn1gNV3CYFBx",
        "colab_type": "code",
        "colab": {
          "base_uri": "https://localhost:8080/",
          "height": 115
        },
        "outputId": "8ff9ac08-9e97-47c6-8d09-1a1e39e89f25"
      },
      "source": [
        "df3[\"Size_F\"]= df3[\"properties_Dimensions_Size\"].apply(lambda x: x.replace('\"',\"\"))"
      ],
      "execution_count": 58,
      "outputs": [
        {
          "output_type": "stream",
          "text": [
            "/usr/local/lib/python3.6/dist-packages/ipykernel_launcher.py:1: SettingWithCopyWarning: \n",
            "A value is trying to be set on a copy of a slice from a DataFrame.\n",
            "Try using .loc[row_indexer,col_indexer] = value instead\n",
            "\n",
            "See the caveats in the documentation: https://pandas.pydata.org/pandas-docs/stable/user_guide/indexing.html#returning-a-view-versus-a-copy\n",
            "  \"\"\"Entry point for launching an IPython kernel.\n"
          ],
          "name": "stderr"
        }
      ]
    },
    {
      "cell_type": "code",
      "metadata": {
        "id": "oyB3roHBXmKm",
        "colab_type": "code",
        "colab": {}
      },
      "source": [
        "def convert_to_float(frac_str):\n",
        "    try:\n",
        "        return float(frac_str)\n",
        "    except ValueError:\n",
        "        try:\n",
        "            num, denom = frac_str.split('/')\n",
        "        except ValueError:\n",
        "            return None\n",
        "        try:\n",
        "            leading, num = num.split(' ')\n",
        "        except ValueError:\n",
        "            return float(num) / float(denom)        \n",
        "        if float(leading) < 0:\n",
        "            sign_mult = -1\n",
        "        else:\n",
        "            sign_mult = 1\n",
        "        return float(leading) + sign_mult * (float(num) / float(denom))"
      ],
      "execution_count": 55,
      "outputs": []
    },
    {
      "cell_type": "code",
      "metadata": {
        "id": "N-VuBHv0X1N2",
        "colab_type": "code",
        "colab": {
          "base_uri": "https://localhost:8080/",
          "height": 115
        },
        "outputId": "e1beba9a-acd9-4cb2-fb88-86f53f391fb1"
      },
      "source": [
        "df3[\"Size_F\"]= df3[\"Size_F\"].apply(lambda x: convert_to_float(x))"
      ],
      "execution_count": 60,
      "outputs": [
        {
          "output_type": "stream",
          "text": [
            "/usr/local/lib/python3.6/dist-packages/ipykernel_launcher.py:1: SettingWithCopyWarning: \n",
            "A value is trying to be set on a copy of a slice from a DataFrame.\n",
            "Try using .loc[row_indexer,col_indexer] = value instead\n",
            "\n",
            "See the caveats in the documentation: https://pandas.pydata.org/pandas-docs/stable/user_guide/indexing.html#returning-a-view-versus-a-copy\n",
            "  \"\"\"Entry point for launching an IPython kernel.\n"
          ],
          "name": "stderr"
        }
      ]
    },
    {
      "cell_type": "code",
      "metadata": {
        "id": "c9tVJ3bzYVO-",
        "colab_type": "code",
        "colab": {
          "base_uri": "https://localhost:8080/",
          "height": 391
        },
        "outputId": "8839c0b3-8933-45b8-c9ca-f7af2be542eb"
      },
      "source": [
        "df_3d=df3[[\"Size_F\",\"properties_Dimensions_Length\",\"properties_Mechanical_System Classification\",\"properties_Mechanical_Material\"]]\n",
        "df_3d"
      ],
      "execution_count": 72,
      "outputs": [
        {
          "output_type": "execute_result",
          "data": {
            "text/html": [
              "<div>\n",
              "<style scoped>\n",
              "    .dataframe tbody tr th:only-of-type {\n",
              "        vertical-align: middle;\n",
              "    }\n",
              "\n",
              "    .dataframe tbody tr th {\n",
              "        vertical-align: top;\n",
              "    }\n",
              "\n",
              "    .dataframe thead th {\n",
              "        text-align: right;\n",
              "    }\n",
              "</style>\n",
              "<table border=\"1\" class=\"dataframe\">\n",
              "  <thead>\n",
              "    <tr style=\"text-align: right;\">\n",
              "      <th></th>\n",
              "      <th>Size_F</th>\n",
              "      <th>properties_Dimensions_Length</th>\n",
              "      <th>properties_Mechanical_System Classification</th>\n",
              "      <th>properties_Mechanical_Material</th>\n",
              "    </tr>\n",
              "  </thead>\n",
              "  <tbody>\n",
              "    <tr>\n",
              "      <th>2</th>\n",
              "      <td>2.5</td>\n",
              "      <td>0.398</td>\n",
              "      <td>Sanitary</td>\n",
              "      <td>Copper</td>\n",
              "    </tr>\n",
              "    <tr>\n",
              "      <th>4</th>\n",
              "      <td>2.5</td>\n",
              "      <td>2.536</td>\n",
              "      <td>Sanitary</td>\n",
              "      <td>Steel, Carbon</td>\n",
              "    </tr>\n",
              "    <tr>\n",
              "      <th>5</th>\n",
              "      <td>2.5</td>\n",
              "      <td>0.031</td>\n",
              "      <td>Sanitary</td>\n",
              "      <td>NaN</td>\n",
              "    </tr>\n",
              "    <tr>\n",
              "      <th>6</th>\n",
              "      <td>2.5</td>\n",
              "      <td>0.031</td>\n",
              "      <td>Sanitary</td>\n",
              "      <td>NaN</td>\n",
              "    </tr>\n",
              "    <tr>\n",
              "      <th>7</th>\n",
              "      <td>2.5</td>\n",
              "      <td>0.736</td>\n",
              "      <td>Other</td>\n",
              "      <td>Steel, Carbon</td>\n",
              "    </tr>\n",
              "    <tr>\n",
              "      <th>...</th>\n",
              "      <td>...</td>\n",
              "      <td>...</td>\n",
              "      <td>...</td>\n",
              "      <td>...</td>\n",
              "    </tr>\n",
              "    <tr>\n",
              "      <th>6495</th>\n",
              "      <td>3.0</td>\n",
              "      <td>4.218</td>\n",
              "      <td>Hydronic Return</td>\n",
              "      <td>Carbon Steel</td>\n",
              "    </tr>\n",
              "    <tr>\n",
              "      <th>6496</th>\n",
              "      <td>3.0</td>\n",
              "      <td>4.218</td>\n",
              "      <td>Hydronic Return</td>\n",
              "      <td>Carbon Steel</td>\n",
              "    </tr>\n",
              "    <tr>\n",
              "      <th>6497</th>\n",
              "      <td>3.0</td>\n",
              "      <td>1.078</td>\n",
              "      <td>Hydronic Return</td>\n",
              "      <td>Carbon Steel</td>\n",
              "    </tr>\n",
              "    <tr>\n",
              "      <th>6498</th>\n",
              "      <td>3.0</td>\n",
              "      <td>1.078</td>\n",
              "      <td>Hydronic Return</td>\n",
              "      <td>Carbon Steel</td>\n",
              "    </tr>\n",
              "    <tr>\n",
              "      <th>6499</th>\n",
              "      <td>6.0</td>\n",
              "      <td>4.960</td>\n",
              "      <td>Hydronic Return</td>\n",
              "      <td>Carbon Steel</td>\n",
              "    </tr>\n",
              "  </tbody>\n",
              "</table>\n",
              "<p>6463 rows × 4 columns</p>\n",
              "</div>"
            ],
            "text/plain": [
              "      Size_F  ...  properties_Mechanical_Material\n",
              "2        2.5  ...                          Copper\n",
              "4        2.5  ...                   Steel, Carbon\n",
              "5        2.5  ...                             NaN\n",
              "6        2.5  ...                             NaN\n",
              "7        2.5  ...                   Steel, Carbon\n",
              "...      ...  ...                             ...\n",
              "6495     3.0  ...                    Carbon Steel\n",
              "6496     3.0  ...                    Carbon Steel\n",
              "6497     3.0  ...                    Carbon Steel\n",
              "6498     3.0  ...                    Carbon Steel\n",
              "6499     6.0  ...                    Carbon Steel\n",
              "\n",
              "[6463 rows x 4 columns]"
            ]
          },
          "metadata": {
            "tags": []
          },
          "execution_count": 72
        }
      ]
    },
    {
      "cell_type": "code",
      "metadata": {
        "id": "QdaOoBGkasMI",
        "colab_type": "code",
        "colab": {}
      },
      "source": [
        "df2[\"properties_Mechanical_System Classification\"].value_counts().index\n",
        "Class_1={}\n",
        "j=1\n",
        "for i in df2[\"properties_Mechanical_System Classification\"].value_counts().index:\n",
        "  Class_1[i]=j\n",
        "  j=j+1"
      ],
      "execution_count": 87,
      "outputs": []
    },
    {
      "cell_type": "code",
      "metadata": {
        "id": "MJaffvUpbiL_",
        "colab_type": "code",
        "colab": {
          "base_uri": "https://localhost:8080/",
          "height": 163
        },
        "outputId": "55f7b56c-54d0-4607-ac3c-5b063380dee7"
      },
      "source": [
        "Class_1"
      ],
      "execution_count": 88,
      "outputs": [
        {
          "output_type": "execute_result",
          "data": {
            "text/plain": [
              "{'Domestic Cold Water': 4,\n",
              " 'Domestic Hot Water': 6,\n",
              " 'Fire Protection Dry': 8,\n",
              " 'Fire Protection Wet': 9,\n",
              " 'Hydronic Return': 2,\n",
              " 'Hydronic Supply': 1,\n",
              " 'Other': 7,\n",
              " 'Sanitary': 3,\n",
              " 'Vent': 5}"
            ]
          },
          "metadata": {
            "tags": []
          },
          "execution_count": 88
        }
      ]
    },
    {
      "cell_type": "code",
      "metadata": {
        "id": "q1kLzoBlb1fv",
        "colab_type": "code",
        "colab": {
          "base_uri": "https://localhost:8080/",
          "height": 115
        },
        "outputId": "2966f173-deb1-48ef-a4dd-3c843cfc071a"
      },
      "source": [
        "df_3d[\"Classification\"]= df_3d[\"properties_Mechanical_System Classification\"].apply(lambda x: Class_1[x])"
      ],
      "execution_count": 91,
      "outputs": [
        {
          "output_type": "stream",
          "text": [
            "/usr/local/lib/python3.6/dist-packages/ipykernel_launcher.py:1: SettingWithCopyWarning: \n",
            "A value is trying to be set on a copy of a slice from a DataFrame.\n",
            "Try using .loc[row_indexer,col_indexer] = value instead\n",
            "\n",
            "See the caveats in the documentation: https://pandas.pydata.org/pandas-docs/stable/user_guide/indexing.html#returning-a-view-versus-a-copy\n",
            "  \"\"\"Entry point for launching an IPython kernel.\n"
          ],
          "name": "stderr"
        }
      ]
    },
    {
      "cell_type": "code",
      "metadata": {
        "id": "Tr_aE7yLkruf",
        "colab_type": "code",
        "colab": {
          "base_uri": "https://localhost:8080/",
          "height": 115
        },
        "outputId": "dc7fed79-75b3-4084-f57a-90ba0955ad53"
      },
      "source": [
        "dicc\n",
        "df_3d[\"Mate_n\"]= df_3d[\"properties_Mechanical_Material\"].apply(lambda x: dicc[x])"
      ],
      "execution_count": 106,
      "outputs": [
        {
          "output_type": "stream",
          "text": [
            "/usr/local/lib/python3.6/dist-packages/ipykernel_launcher.py:2: SettingWithCopyWarning: \n",
            "A value is trying to be set on a copy of a slice from a DataFrame.\n",
            "Try using .loc[row_indexer,col_indexer] = value instead\n",
            "\n",
            "See the caveats in the documentation: https://pandas.pydata.org/pandas-docs/stable/user_guide/indexing.html#returning-a-view-versus-a-copy\n",
            "  \n"
          ],
          "name": "stderr"
        }
      ]
    },
    {
      "cell_type": "code",
      "metadata": {
        "id": "uPcjU791gtfF",
        "colab_type": "code",
        "colab": {
          "base_uri": "https://localhost:8080/",
          "height": 342
        },
        "outputId": "b2aa4f7e-2561-48d8-95d1-4cc024cd5243"
      },
      "source": [
        "df_3d[\"Size_F\"].value_counts()"
      ],
      "execution_count": 136,
      "outputs": [
        {
          "output_type": "execute_result",
          "data": {
            "text/plain": [
              "4.000     1152\n",
              "2.000      843\n",
              "0.750      745\n",
              "6.000      719\n",
              "3.000      704\n",
              "1.000      598\n",
              "2.500      340\n",
              "1.500      310\n",
              "1.250      309\n",
              "0.500      241\n",
              "16.000     146\n",
              "14.000      96\n",
              "8.000       88\n",
              "12.000      64\n",
              "10.000      60\n",
              "30.000      22\n",
              "5.000       22\n",
              "1.375        2\n",
              "36.000       2\n",
              "Name: Size_F, dtype: int64"
            ]
          },
          "metadata": {
            "tags": []
          },
          "execution_count": 136
        }
      ]
    },
    {
      "cell_type": "markdown",
      "metadata": {
        "id": "xTpx7YHJZrvW",
        "colab_type": "text"
      },
      "source": [
        "# 3DGraphic"
      ]
    },
    {
      "cell_type": "code",
      "metadata": {
        "id": "S83ozeDZZyb8",
        "colab_type": "code",
        "colab": {
          "base_uri": "https://localhost:8080/",
          "height": 862
        },
        "outputId": "dbdbc542-a5c6-4432-c80d-1bba18b80af0"
      },
      "source": [
        "from mpl_toolkits.mplot3d import Axes3D\n",
        "group=(1,2,3,4,5,6,7,8,9)\n",
        "fig = plt.figure(figsize=(15,15))\n",
        "ax = fig.add_subplot(projection='3d')\n",
        "cb=ax.scatter(df_3d.Size_F, df_3d.properties_Dimensions_Length, df_3d.Classification,c=df_3d.Mate_n, linewidth=0.1,label=group)\n",
        "ax.set_xlabel('Size [inches]')\n",
        "ax.set_ylabel('Lenght [ft]')\n",
        "ax.set_zlabel('Classification')\n"
      ],
      "execution_count": 154,
      "outputs": [
        {
          "output_type": "execute_result",
          "data": {
            "text/plain": [
              "Text(0.5, 0, 'Classification')"
            ]
          },
          "metadata": {
            "tags": []
          },
          "execution_count": 154
        },
        {
          "output_type": "display_data",
          "data": {
            "image/png": "[encoded data removed]",
            "text/plain": [
              "<Figure size 1080x1080 with 1 Axes>"
            ]
          },
          "metadata": {
            "tags": []
          }
        }
      ]
    },
    {
      "cell_type": "code",
      "metadata": {
        "id": "xZi9uQtymMqk",
        "colab_type": "code",
        "colab": {
          "base_uri": "https://localhost:8080/",
          "height": 196
        },
        "outputId": "dee518e8-7cd6-45ed-fc3c-2da18633ca21"
      },
      "source": [
        "\n",
        "df2[\"properties_Mechanical_Material\"].value_counts()\n"
      ],
      "execution_count": 117,
      "outputs": [
        {
          "output_type": "execute_result",
          "data": {
            "text/plain": [
              "PVC                               1745\n",
              "Carbon Steel                      1737\n",
              "Carbon Steel - ASTM A53 B         1322\n",
              "Copper                            1102\n",
              "CP_PI - Copper - ASTM B88 H.D.     424\n",
              "Steel, Carbon                      121\n",
              "NaN                                 41\n",
              "Black Steel                          4\n",
              "Cast Iron                            2\n",
              "Ductile Iron                         2\n",
              "Name: properties_Mechanical_Material, dtype: int64"
            ]
          },
          "metadata": {
            "tags": []
          },
          "execution_count": 117
        }
      ]
    },
    {
      "cell_type": "markdown",
      "metadata": {
        "id": "ujOqPXMD-hTc",
        "colab_type": "text"
      },
      "source": [
        "# Enlist Materials"
      ]
    },
    {
      "cell_type": "code",
      "metadata": {
        "id": "INS87A1Dr6VT",
        "colab_type": "code",
        "colab": {}
      },
      "source": [
        "g1=(df_3d[\"Size_F\"])"
      ],
      "execution_count": null,
      "outputs": []
    },
    {
      "cell_type": "markdown",
      "metadata": {
        "id": "RC1L-PFYwRVk",
        "colab_type": "text"
      },
      "source": [
        "The \"\"properties_Mechanical_Material\" are 10 different types. Our target of inference will be the differents kinds of materials"
      ]
    },
    {
      "cell_type": "code",
      "metadata": {
        "id": "3k5FOAuKzDk-",
        "colab_type": "code",
        "colab": {
          "base_uri": "https://localhost:8080/",
          "height": 82
        },
        "outputId": "d5036c2b-060c-4bff-ceb7-33650cf3b3ed"
      },
      "source": [
        " lista = df3[\"properties_Mechanical_Material\"].unique()\n",
        "lista"
      ],
      "execution_count": 62,
      "outputs": [
        {
          "output_type": "execute_result",
          "data": {
            "text/plain": [
              "array(['Copper', 'Steel, Carbon', 'NaN', 'PVC',\n",
              "       'CP_PI - Copper - ASTM B88 H.D.', 'Carbon Steel - ASTM A53 B',\n",
              "       'Cast Iron', 'Black Steel', 'Carbon Steel', 'Ductile Iron'],\n",
              "      dtype=object)"
            ]
          },
          "metadata": {
            "tags": []
          },
          "execution_count": 62
        }
      ]
    },
    {
      "cell_type": "markdown",
      "metadata": {
        "id": "i_J6RFunyEKN",
        "colab_type": "text"
      },
      "source": [
        "Set a number designator to all properties_Mechanical_System Classification"
      ]
    },
    {
      "cell_type": "code",
      "metadata": {
        "id": "z6Kv2FqT4lPJ",
        "colab_type": "code",
        "colab": {}
      },
      "source": [
        "dicc={}\n",
        "i=0\n",
        "for i in range(0,10):\n",
        "  dicc[lista[i]]=i"
      ],
      "execution_count": 63,
      "outputs": []
    },
    {
      "cell_type": "markdown",
      "metadata": {
        "id": "QiZ6DhR8yJjX",
        "colab_type": "text"
      },
      "source": [
        "we create a column with this designation"
      ]
    },
    {
      "cell_type": "code",
      "metadata": {
        "id": "QrHPPEAY7HLW",
        "colab_type": "code",
        "colab": {
          "base_uri": "https://localhost:8080/",
          "height": 115
        },
        "outputId": "a42fc407-1ee0-4edd-9fae-47c5572fd41d"
      },
      "source": [
        "df3[\"Material_Number\"]=df3[\"properties_Mechanical_Material\"].apply(lambda x: dicc[x])"
      ],
      "execution_count": 64,
      "outputs": [
        {
          "output_type": "stream",
          "text": [
            "/usr/local/lib/python3.6/dist-packages/ipykernel_launcher.py:1: SettingWithCopyWarning: \n",
            "A value is trying to be set on a copy of a slice from a DataFrame.\n",
            "Try using .loc[row_indexer,col_indexer] = value instead\n",
            "\n",
            "See the caveats in the documentation: https://pandas.pydata.org/pandas-docs/stable/user_guide/indexing.html#returning-a-view-versus-a-copy\n",
            "  \"\"\"Entry point for launching an IPython kernel.\n"
          ],
          "name": "stderr"
        }
      ]
    },
    {
      "cell_type": "markdown",
      "metadata": {
        "id": "I6s_CtQc-24D",
        "colab_type": "text"
      },
      "source": [
        "# Dummies Data"
      ]
    },
    {
      "cell_type": "markdown",
      "metadata": {
        "id": "t7saSN21yTX-",
        "colab_type": "text"
      },
      "source": [
        "Then we get the dummies properties_Dimensions_Size and properties Mechanical System Classification"
      ]
    },
    {
      "cell_type": "code",
      "metadata": {
        "id": "AmyPgZCRAvew",
        "colab_type": "code",
        "colab": {
          "base_uri": "https://localhost:8080/",
          "height": 33
        },
        "outputId": "4b44a8bb-bb52-49d1-c074-00f03ccc8201"
      },
      "source": [
        "df3[\"properties_Dimensions_Size\"].nunique()"
      ],
      "execution_count": 65,
      "outputs": [
        {
          "output_type": "execute_result",
          "data": {
            "text/plain": [
              "19"
            ]
          },
          "metadata": {
            "tags": []
          },
          "execution_count": 65
        }
      ]
    },
    {
      "cell_type": "code",
      "metadata": {
        "id": "9ycVwcKjCgvR",
        "colab_type": "code",
        "colab": {}
      },
      "source": [
        "classification= pd.get_dummies(df3[\"properties_Mechanical_System Classification\"])\n"
      ],
      "execution_count": 66,
      "outputs": []
    },
    {
      "cell_type": "code",
      "metadata": {
        "id": "vqO2WjXXC68e",
        "colab_type": "code",
        "colab": {}
      },
      "source": [
        "Dimensions_Size= pd.get_dummies(df3[\"properties_Dimensions_Size\"])\n"
      ],
      "execution_count": 67,
      "outputs": []
    },
    {
      "cell_type": "code",
      "metadata": {
        "id": "iDwJ9-vADJn-",
        "colab_type": "code",
        "colab": {}
      },
      "source": [
        "df4 = pd.concat([df3,classification,Dimensions_Size],axis=1)"
      ],
      "execution_count": 68,
      "outputs": []
    },
    {
      "cell_type": "markdown",
      "metadata": {
        "id": "Km2r9PUNyahz",
        "colab_type": "text"
      },
      "source": [
        "We eliminate some columns that we will not use "
      ]
    },
    {
      "cell_type": "code",
      "metadata": {
        "id": "pZk1FdqEDb71",
        "colab_type": "code",
        "colab": {}
      },
      "source": [
        "droplist=[\"Category\",\"properties_Mechanical_System Classification\",\"properties_Mechanical_Material\"\n",
        ",\"properties_Dimensions_Size\", \"projectId\", \"modelId\",\"_id.$oid\",\"Size_F\"]\n",
        "df5=df4.drop(droplist, axis=1)"
      ],
      "execution_count": 69,
      "outputs": []
    },
    {
      "cell_type": "code",
      "metadata": {
        "id": "stq6cB-oDdfN",
        "colab_type": "code",
        "colab": {
          "base_uri": "https://localhost:8080/",
          "height": 131
        },
        "outputId": "7fa9e8d5-9ab3-4002-e96c-767ce9b1b085"
      },
      "source": [
        "df5.head(3).columns\n"
      ],
      "execution_count": 70,
      "outputs": [
        {
          "output_type": "execute_result",
          "data": {
            "text/plain": [
              "Index(['properties_Dimensions_Length', 'Material_Number',\n",
              "       'Domestic Cold Water', 'Domestic Hot Water', 'Fire Protection Dry',\n",
              "       'Fire Protection Wet', 'Hydronic Return', 'Hydronic Supply', 'Other',\n",
              "       'Sanitary', 'Vent', '1 1/2\"', '1 1/4\"', '1 3/8\"', '1\"', '1/2\"', '10\"',\n",
              "       '12\"', '14\"', '16\"', '2 1/2\"', '2\"', '3\"', '3/4\"', '30\"', '36\"', '4\"',\n",
              "       '5\"', '6\"', '8\"'],\n",
              "      dtype='object')"
            ]
          },
          "metadata": {
            "tags": []
          },
          "execution_count": 70
        }
      ]
    },
    {
      "cell_type": "markdown",
      "metadata": {
        "id": "nI1P23i8_QeH",
        "colab_type": "text"
      },
      "source": [
        "# Train Test Split"
      ]
    },
    {
      "cell_type": "markdown",
      "metadata": {
        "id": "W96izbzx0jOk",
        "colab_type": "text"
      },
      "source": [
        "Here we define the size of our test size. We will use a 30% of the download data"
      ]
    },
    {
      "cell_type": "code",
      "metadata": {
        "id": "M5QHgzA_E6uo",
        "colab_type": "code",
        "colab": {}
      },
      "source": [
        "X = df5.drop('Material_Number',axis=1)\n",
        "y = df5['Material_Number']\n",
        "X_train, X_test, y_train, y_test = train_test_split(X, y, test_size=0.1, random_state=101)"
      ],
      "execution_count": 28,
      "outputs": []
    },
    {
      "cell_type": "markdown",
      "metadata": {
        "id": "u20TPA6H_hFo",
        "colab_type": "text"
      },
      "source": [
        "# Model Fit"
      ]
    },
    {
      "cell_type": "markdown",
      "metadata": {
        "id": "9xInldBn0zXE",
        "colab_type": "text"
      },
      "source": [
        " Here we train our Random Forest"
      ]
    },
    {
      "cell_type": "code",
      "metadata": {
        "id": "ByAQB0N0GTun",
        "colab_type": "code",
        "colab": {
          "base_uri": "https://localhost:8080/",
          "height": 147
        },
        "outputId": "6c46d06f-3eca-47c4-c810-296d5d17e443"
      },
      "source": [
        "rfc = RandomForestClassifier(n_estimators=200)\n",
        "rfc.fit(X_train,y_train)"
      ],
      "execution_count": 29,
      "outputs": [
        {
          "output_type": "execute_result",
          "data": {
            "text/plain": [
              "RandomForestClassifier(bootstrap=True, ccp_alpha=0.0, class_weight=None,\n",
              "                       criterion='gini', max_depth=None, max_features='auto',\n",
              "                       max_leaf_nodes=None, max_samples=None,\n",
              "                       min_impurity_decrease=0.0, min_impurity_split=None,\n",
              "                       min_samples_leaf=1, min_samples_split=2,\n",
              "                       min_weight_fraction_leaf=0.0, n_estimators=200,\n",
              "                       n_jobs=None, oob_score=False, random_state=None,\n",
              "                       verbose=0, warm_start=False)"
            ]
          },
          "metadata": {
            "tags": []
          },
          "execution_count": 29
        }
      ]
    },
    {
      "cell_type": "markdown",
      "metadata": {
        "id": "ADnCoczu_5sZ",
        "colab_type": "text"
      },
      "source": [
        "# Predictions"
      ]
    },
    {
      "cell_type": "code",
      "metadata": {
        "id": "YN89tZcuGqGP",
        "colab_type": "code",
        "colab": {
          "base_uri": "https://localhost:8080/",
          "height": 228
        },
        "outputId": "f95957e2-0a97-4887-9aa2-58f5644bf56e"
      },
      "source": [
        "\n",
        "predictions = rfc.predict(X_test)\n",
        "from sklearn.metrics import classification_report,confusion_matrix\n",
        "print(classification_report(y_test,predictions))\n"
      ],
      "execution_count": 30,
      "outputs": [
        {
          "output_type": "stream",
          "text": [
            "              precision    recall  f1-score   support\n",
            "\n",
            "           0       0.94      0.83      0.88       115\n",
            "           1       1.00      1.00      1.00        18\n",
            "           3       0.99      1.00      1.00       175\n",
            "           4       0.71      0.89      0.79        38\n",
            "           5       0.97      0.97      0.97       130\n",
            "           8       0.94      0.96      0.95       171\n",
            "\n",
            "    accuracy                           0.95       647\n",
            "   macro avg       0.93      0.94      0.93       647\n",
            "weighted avg       0.95      0.95      0.95       647\n",
            "\n"
          ],
          "name": "stdout"
        }
      ]
    },
    {
      "cell_type": "markdown",
      "metadata": {
        "id": "1s3ak8f7AA_5",
        "colab_type": "text"
      },
      "source": [
        "# Dispersion Analysis"
      ]
    },
    {
      "cell_type": "markdown",
      "metadata": {
        "id": "jlEJIXkl-6mr",
        "colab_type": "text"
      },
      "source": [
        "Here we compare the Mean Absolute error of the inferences made with and without consider the lenghts of the pipes.\n",
        "\n",
        "-With Pipe Lengths MAE= 0.23\n",
        "\n",
        "-Without Pipe Lengths MAE= 0.69\n",
        "\n",
        "So we note that the lengths give us more dispersion, and we will take off from the inference"
      ]
    },
    {
      "cell_type": "code",
      "metadata": {
        "id": "hRD3rOERGxMO",
        "colab_type": "code",
        "colab": {
          "base_uri": "https://localhost:8080/",
          "height": 33
        },
        "outputId": "2d505809-cec6-4d31-d1a1-a4054d4c30ec"
      },
      "source": [
        "score = mean_absolute_error(y_test,predictions)\n",
        "print('MAE:', score)"
      ],
      "execution_count": 31,
      "outputs": [
        {
          "output_type": "stream",
          "text": [
            "MAE: 0.25193199381761977\n"
          ],
          "name": "stdout"
        }
      ]
    },
    {
      "cell_type": "markdown",
      "metadata": {
        "id": "RQ5L0J7SBW7q",
        "colab_type": "text"
      },
      "source": [
        "# Sección nueva"
      ]
    },
    {
      "cell_type": "code",
      "metadata": {
        "id": "KbQCE_M6G8yH",
        "colab_type": "code",
        "colab": {
          "base_uri": "https://localhost:8080/",
          "height": 180
        },
        "outputId": "f6802aae-5e1a-4460-cc8a-5a015e45d6cf"
      },
      "source": [
        "dicc"
      ],
      "execution_count": 32,
      "outputs": [
        {
          "output_type": "execute_result",
          "data": {
            "text/plain": [
              "{'Black Steel': 7,\n",
              " 'CP_PI - Copper - ASTM B88 H.D.': 4,\n",
              " 'Carbon Steel': 8,\n",
              " 'Carbon Steel - ASTM A53 B': 5,\n",
              " 'Cast Iron': 6,\n",
              " 'Copper': 0,\n",
              " 'Ductile Iron': 9,\n",
              " 'NaN': 2,\n",
              " 'PVC': 3,\n",
              " 'Steel, Carbon': 1}"
            ]
          },
          "metadata": {
            "tags": []
          },
          "execution_count": 32
        }
      ]
    },
    {
      "cell_type": "markdown",
      "metadata": {
        "id": "ZWXHDM-5A9CL",
        "colab_type": "text"
      },
      "source": [
        "# Download the Data (second part)"
      ]
    },
    {
      "cell_type": "code",
      "metadata": {
        "id": "kh3hXCHy1Hc3",
        "colab_type": "code",
        "colab": {}
      },
      "source": [
        "\n",
        "jsonfile2= urllib.request.urlopen(\"http://3.14.88.102:5000/api/1/elements/pipes/?limit=6500\").read().decode()\n",
        "j2=json.loads(jsonfile2)"
      ],
      "execution_count": 33,
      "outputs": []
    },
    {
      "cell_type": "code",
      "metadata": {
        "id": "ixwG52fJAro0",
        "colab_type": "code",
        "colab": {
          "base_uri": "https://localhost:8080/",
          "height": 316
        },
        "outputId": "c3c4cd56-2b63-43a3-c9a5-fbeb45e1534d"
      },
      "source": [
        "dataf= pd.json_normalize(j2)\n",
        "dataf.head(3)"
      ],
      "execution_count": 34,
      "outputs": [
        {
          "output_type": "execute_result",
          "data": {
            "text/html": [
              "<div>\n",
              "<style scoped>\n",
              "    .dataframe tbody tr th:only-of-type {\n",
              "        vertical-align: middle;\n",
              "    }\n",
              "\n",
              "    .dataframe tbody tr th {\n",
              "        vertical-align: top;\n",
              "    }\n",
              "\n",
              "    .dataframe thead th {\n",
              "        text-align: right;\n",
              "    }\n",
              "</style>\n",
              "<table border=\"1\" class=\"dataframe\">\n",
              "  <thead>\n",
              "    <tr style=\"text-align: right;\">\n",
              "      <th></th>\n",
              "      <th>projectId</th>\n",
              "      <th>Category</th>\n",
              "      <th>modelId</th>\n",
              "      <th>_id.$oid</th>\n",
              "      <th>properties_Dimensions_Length</th>\n",
              "      <th>properties_Dimensions_Size</th>\n",
              "      <th>properties_Mechanical_Material</th>\n",
              "      <th>properties_Mechanical_System Classification</th>\n",
              "    </tr>\n",
              "  </thead>\n",
              "  <tbody>\n",
              "    <tr>\n",
              "      <th>0</th>\n",
              "      <td>b.c94f85e5-88fb-402c-bc60-72622f5f85b6</td>\n",
              "      <td>Pipes</td>\n",
              "      <td>d4ea3308-4b3f-d382-cacb-9791f772042b</td>\n",
              "      <td>5eee8651cb573f2fc2216a82</td>\n",
              "      <td>NaN</td>\n",
              "      <td>NaN</td>\n",
              "      <td>NaN</td>\n",
              "      <td>NaN</td>\n",
              "    </tr>\n",
              "    <tr>\n",
              "      <th>1</th>\n",
              "      <td>b.c94f85e5-88fb-402c-bc60-72622f5f85b6</td>\n",
              "      <td>Pipes</td>\n",
              "      <td>d4ea3308-4b3f-d382-cacb-9791f772042b</td>\n",
              "      <td>5eee8651cb573f2fc2216a83</td>\n",
              "      <td>NaN</td>\n",
              "      <td>NaN</td>\n",
              "      <td>NaN</td>\n",
              "      <td>NaN</td>\n",
              "    </tr>\n",
              "    <tr>\n",
              "      <th>2</th>\n",
              "      <td>b.c94f85e5-88fb-402c-bc60-72622f5f85b6</td>\n",
              "      <td>Pipes</td>\n",
              "      <td>d4ea3308-4b3f-d382-cacb-9791f772042b</td>\n",
              "      <td>5eee8651cb573f2fc2216a84</td>\n",
              "      <td>0.398 ft</td>\n",
              "      <td>2 1/2\"</td>\n",
              "      <td>Copper</td>\n",
              "      <td>Sanitary</td>\n",
              "    </tr>\n",
              "  </tbody>\n",
              "</table>\n",
              "</div>"
            ],
            "text/plain": [
              "                                projectId  ... properties_Mechanical_System Classification\n",
              "0  b.c94f85e5-88fb-402c-bc60-72622f5f85b6  ...                                         NaN\n",
              "1  b.c94f85e5-88fb-402c-bc60-72622f5f85b6  ...                                         NaN\n",
              "2  b.c94f85e5-88fb-402c-bc60-72622f5f85b6  ...                                    Sanitary\n",
              "\n",
              "[3 rows x 8 columns]"
            ]
          },
          "metadata": {
            "tags": []
          },
          "execution_count": 34
        }
      ]
    },
    {
      "cell_type": "markdown",
      "metadata": {
        "id": "M6xIdn7aBZjF",
        "colab_type": "text"
      },
      "source": [
        "# Data to Infer"
      ]
    },
    {
      "cell_type": "markdown",
      "metadata": {
        "id": "pPjeCVg8CdM8",
        "colab_type": "text"
      },
      "source": [
        "For a given Item, we infer what material it could be. In this case we toke the 100th elemnt"
      ]
    },
    {
      "cell_type": "code",
      "metadata": {
        "id": "pZV4-99kBWSr",
        "colab_type": "code",
        "colab": {
          "base_uri": "https://localhost:8080/",
          "height": 161
        },
        "outputId": "47dc5f72-6bab-4abf-b362-06bf769afcce"
      },
      "source": [
        "eli=dataf.iloc[55].to_frame().T\n",
        "#First individualizate the elemnt\n",
        "eli\n"
      ],
      "execution_count": 35,
      "outputs": [
        {
          "output_type": "execute_result",
          "data": {
            "text/html": [
              "<div>\n",
              "<style scoped>\n",
              "    .dataframe tbody tr th:only-of-type {\n",
              "        vertical-align: middle;\n",
              "    }\n",
              "\n",
              "    .dataframe tbody tr th {\n",
              "        vertical-align: top;\n",
              "    }\n",
              "\n",
              "    .dataframe thead th {\n",
              "        text-align: right;\n",
              "    }\n",
              "</style>\n",
              "<table border=\"1\" class=\"dataframe\">\n",
              "  <thead>\n",
              "    <tr style=\"text-align: right;\">\n",
              "      <th></th>\n",
              "      <th>projectId</th>\n",
              "      <th>Category</th>\n",
              "      <th>modelId</th>\n",
              "      <th>_id.$oid</th>\n",
              "      <th>properties_Dimensions_Length</th>\n",
              "      <th>properties_Dimensions_Size</th>\n",
              "      <th>properties_Mechanical_Material</th>\n",
              "      <th>properties_Mechanical_System Classification</th>\n",
              "    </tr>\n",
              "  </thead>\n",
              "  <tbody>\n",
              "    <tr>\n",
              "      <th>55</th>\n",
              "      <td>b.c94f85e5-88fb-402c-bc60-72622f5f85b6</td>\n",
              "      <td>Pipes</td>\n",
              "      <td>d4ea3308-4b3f-d382-cacb-9791f772042b</td>\n",
              "      <td>5eee866fcb573f2fc2216e51</td>\n",
              "      <td>0.050 ft</td>\n",
              "      <td>2\"</td>\n",
              "      <td>Polyvinyl Chloride - Rigid</td>\n",
              "      <td>Sanitary</td>\n",
              "    </tr>\n",
              "  </tbody>\n",
              "</table>\n",
              "</div>"
            ],
            "text/plain": [
              "                                 projectId  ... properties_Mechanical_System Classification\n",
              "55  b.c94f85e5-88fb-402c-bc60-72622f5f85b6  ...                                    Sanitary\n",
              "\n",
              "[1 rows x 8 columns]"
            ]
          },
          "metadata": {
            "tags": []
          },
          "execution_count": 35
        }
      ]
    },
    {
      "cell_type": "markdown",
      "metadata": {
        "id": "q8dCDF9NEFRc",
        "colab_type": "text"
      },
      "source": [
        "here we make a dictionary with the size, classification and Length elements"
      ]
    },
    {
      "cell_type": "code",
      "metadata": {
        "id": "DuTCS_ceD_sn",
        "colab_type": "code",
        "colab": {
          "base_uri": "https://localhost:8080/",
          "height": 33
        },
        "outputId": "b6f513c3-c8be-45aa-8544-332a6bbc1ba3"
      },
      "source": [
        "\n",
        "def search_title(var):\n",
        "  i=0\n",
        "  values={}\n",
        "\n",
        "  Ele=var.iloc[0].index.nunique()\n",
        "  for i in range(0,Ele):\n",
        "    value=var.iloc[0].index[i].upper()\n",
        "    if \"SIZE\" in value:\n",
        "        values[\"Size\"]=var.iloc[0][i]\n",
        "\n",
        "    if \"CLASSIFICATION\" in value:\n",
        "        values[\"Classification\"]=var.iloc[0][i]\n",
        "\n",
        "    if \"LENGTH\" in value:\n",
        "        values[\"Length\"]=var.iloc[0][i]\n",
        "  return values\n",
        "\n",
        "item=search_title(eli)\n",
        "item\n"
      ],
      "execution_count": 36,
      "outputs": [
        {
          "output_type": "execute_result",
          "data": {
            "text/plain": [
              "{'Classification': 'Sanitary', 'Length': '0.050 ft', 'Size': '2\"'}"
            ]
          },
          "metadata": {
            "tags": []
          },
          "execution_count": 36
        }
      ]
    },
    {
      "cell_type": "markdown",
      "metadata": {
        "id": "o_bjDiSTVuh7",
        "colab_type": "text"
      },
      "source": [
        "Edit the Size format"
      ]
    },
    {
      "cell_type": "code",
      "metadata": {
        "id": "1ZSlohL8UMsG",
        "colab_type": "code",
        "colab": {
          "base_uri": "https://localhost:8080/",
          "height": 35
        },
        "outputId": "ac394284-0b06-4ebe-fff0-3f359c6b9dce"
      },
      "source": [
        "item[\"Size\"]=item[\"Size\"].replace(\"ø\",\"\")\n",
        "item[\"Size\"]=item[\"Size\"].strip()\n",
        "item[\"Size\"]"
      ],
      "execution_count": 37,
      "outputs": [
        {
          "output_type": "execute_result",
          "data": {
            "application/vnd.google.colaboratory.intrinsic": {
              "type": "string"
            },
            "text/plain": [
              "'2\"'"
            ]
          },
          "metadata": {
            "tags": []
          },
          "execution_count": 37
        }
      ]
    },
    {
      "cell_type": "markdown",
      "metadata": {
        "id": "TLijGJU_8pLS",
        "colab_type": "text"
      },
      "source": [
        "Edit the Lenght format"
      ]
    },
    {
      "cell_type": "code",
      "metadata": {
        "id": "eHBwp1wJ6a0J",
        "colab_type": "code",
        "colab": {
          "base_uri": "https://localhost:8080/",
          "height": 35
        },
        "outputId": "ec2e6313-3cf6-4036-bb46-3968b1f2a313"
      },
      "source": [
        "item[\"Length\"]=item[\"Length\"].replace(\" ft\",\"\")\n",
        "item[\"Length\"]=item[\"Length\"].replace(\"  ft\",\"\")\n",
        "item[\"Length\"]\n",
        "item[\"Length\"]"
      ],
      "execution_count": 38,
      "outputs": [
        {
          "output_type": "execute_result",
          "data": {
            "application/vnd.google.colaboratory.intrinsic": {
              "type": "string"
            },
            "text/plain": [
              "'0.050'"
            ]
          },
          "metadata": {
            "tags": []
          },
          "execution_count": 38
        }
      ]
    },
    {
      "cell_type": "code",
      "metadata": {
        "id": "Sw-nEZKZZfPs",
        "colab_type": "code",
        "colab": {}
      },
      "source": [
        "pro=df5.columns.to_frame(index=True).T\n",
        "pro.drop(labels=0,axis=0,inplace=True)"
      ],
      "execution_count": 39,
      "outputs": []
    },
    {
      "cell_type": "code",
      "metadata": {
        "id": "OI5EqKD2sU3d",
        "colab_type": "code",
        "colab": {}
      },
      "source": [
        "#this list is just for make the new_row dictionary \n",
        "items=[item[\"Classification\"],item[\"Size\"]]\n",
        "\n",
        "new_row={}\n",
        "\n",
        "for i in pro.columns:\n",
        "  if i == \"properties_Dimensions_Length\":\n",
        "    new_row[i]=float(item[\"Length\"])\n",
        "  elif i in items:\n",
        "    new_row[i]=1\n",
        "  else:\n",
        "      new_row[i]=0\n"
      ],
      "execution_count": 40,
      "outputs": []
    },
    {
      "cell_type": "code",
      "metadata": {
        "id": "bH5ZQZmS_nce",
        "colab_type": "code",
        "colab": {
          "base_uri": "https://localhost:8080/",
          "height": 505
        },
        "outputId": "69c17009-3b69-4923-deca-8f2e85cdeff9"
      },
      "source": [
        "new_row"
      ],
      "execution_count": 41,
      "outputs": [
        {
          "output_type": "execute_result",
          "data": {
            "text/plain": [
              "{'1 1/2\"': 0,\n",
              " '1 1/4\"': 0,\n",
              " '1 3/8\"': 0,\n",
              " '1\"': 0,\n",
              " '1/2\"': 0,\n",
              " '10\"': 0,\n",
              " '12\"': 0,\n",
              " '14\"': 0,\n",
              " '16\"': 0,\n",
              " '2 1/2\"': 0,\n",
              " '2\"': 1,\n",
              " '3\"': 0,\n",
              " '3/4\"': 0,\n",
              " '30\"': 0,\n",
              " '36\"': 0,\n",
              " '4\"': 0,\n",
              " '5\"': 0,\n",
              " '6\"': 0,\n",
              " '8\"': 0,\n",
              " 'Domestic Cold Water': 0,\n",
              " 'Domestic Hot Water': 0,\n",
              " 'Fire Protection Dry': 0,\n",
              " 'Fire Protection Wet': 0,\n",
              " 'Hydronic Return': 0,\n",
              " 'Hydronic Supply': 0,\n",
              " 'Material_Number': 0,\n",
              " 'Other': 0,\n",
              " 'Sanitary': 1,\n",
              " 'Vent': 0,\n",
              " 'properties_Dimensions_Length': 0.05}"
            ]
          },
          "metadata": {
            "tags": []
          },
          "execution_count": 41
        }
      ]
    },
    {
      "cell_type": "markdown",
      "metadata": {
        "id": "0IgwGeO3FZu2",
        "colab_type": "text"
      },
      "source": [
        "This is the one row DataFrame that we will use to test the model to predict"
      ]
    },
    {
      "cell_type": "code",
      "metadata": {
        "id": "QYHjcmGawYak",
        "colab_type": "code",
        "colab": {}
      },
      "source": [
        "k=pro.append(new_row, ignore_index=True)"
      ],
      "execution_count": 42,
      "outputs": []
    },
    {
      "cell_type": "code",
      "metadata": {
        "id": "_ROrmJx1ysZZ",
        "colab_type": "code",
        "colab": {}
      },
      "source": [
        "X_infer = k.drop('Material_Number',axis=1)\n",
        "y_infer = pro['Material_Number']"
      ],
      "execution_count": 43,
      "outputs": []
    },
    {
      "cell_type": "code",
      "metadata": {
        "id": "5DI_endT3IFy",
        "colab_type": "code",
        "colab": {
          "base_uri": "https://localhost:8080/",
          "height": 33
        },
        "outputId": "be55fedf-4e8c-498d-c1ff-e6ac95f6587e"
      },
      "source": [
        "predictions = rfc.predict(X_infer)\n",
        "int(predictions)"
      ],
      "execution_count": 44,
      "outputs": [
        {
          "output_type": "execute_result",
          "data": {
            "text/plain": [
              "3"
            ]
          },
          "metadata": {
            "tags": []
          },
          "execution_count": 44
        }
      ]
    },
    {
      "cell_type": "markdown",
      "metadata": {
        "id": "mh7zv5MZIvWW",
        "colab_type": "text"
      },
      "source": [
        "Recalling the dictionary we made, we change key for value and vice versa"
      ]
    },
    {
      "cell_type": "code",
      "metadata": {
        "id": "Ga23NBMl9D_X",
        "colab_type": "code",
        "colab": {
          "base_uri": "https://localhost:8080/",
          "height": 180
        },
        "outputId": "50b16a2f-5e48-4ce4-ac01-de2d91a4520a"
      },
      "source": [
        "dicc"
      ],
      "execution_count": 105,
      "outputs": [
        {
          "output_type": "execute_result",
          "data": {
            "text/plain": [
              "{'Black Steel': 7,\n",
              " 'CP_PI - Copper - ASTM B88 H.D.': 4,\n",
              " 'Carbon Steel': 8,\n",
              " 'Carbon Steel - ASTM A53 B': 5,\n",
              " 'Cast Iron': 6,\n",
              " 'Copper': 0,\n",
              " 'Ductile Iron': 9,\n",
              " 'NaN': 2,\n",
              " 'PVC': 3,\n",
              " 'Steel, Carbon': 1}"
            ]
          },
          "metadata": {
            "tags": []
          },
          "execution_count": 105
        }
      ]
    },
    {
      "cell_type": "code",
      "metadata": {
        "id": "XRuupVaoFv6D",
        "colab_type": "code",
        "colab": {
          "base_uri": "https://localhost:8080/",
          "height": 180
        },
        "outputId": "e72fcb36-1d10-4d66-90ae-88ab3165905f"
      },
      "source": [
        "dicc2={}\n",
        "\n",
        "for i in dicc.keys():\n",
        "  dicc2[dicc[i]]=i\n",
        "dicc2\n"
      ],
      "execution_count": 46,
      "outputs": [
        {
          "output_type": "execute_result",
          "data": {
            "text/plain": [
              "{0: 'Copper',\n",
              " 1: 'Steel, Carbon',\n",
              " 2: 'NaN',\n",
              " 3: 'PVC',\n",
              " 4: 'CP_PI - Copper - ASTM B88 H.D.',\n",
              " 5: 'Carbon Steel - ASTM A53 B',\n",
              " 6: 'Cast Iron',\n",
              " 7: 'Black Steel',\n",
              " 8: 'Carbon Steel',\n",
              " 9: 'Ductile Iron'}"
            ]
          },
          "metadata": {
            "tags": []
          },
          "execution_count": 46
        }
      ]
    },
    {
      "cell_type": "markdown",
      "metadata": {
        "id": "pw9o7gD3JVmK",
        "colab_type": "text"
      },
      "source": [
        "# Result of a determined prediction"
      ]
    },
    {
      "cell_type": "code",
      "metadata": {
        "id": "B78dl8huG0oP",
        "colab_type": "code",
        "colab": {
          "base_uri": "https://localhost:8080/",
          "height": 35
        },
        "outputId": "ccd2e024-9eda-4b58-9323-814492d3a526"
      },
      "source": [
        "dicc2[int(predictions)]"
      ],
      "execution_count": 47,
      "outputs": [
        {
          "output_type": "execute_result",
          "data": {
            "application/vnd.google.colaboratory.intrinsic": {
              "type": "string"
            },
            "text/plain": [
              "'PVC'"
            ]
          },
          "metadata": {
            "tags": []
          },
          "execution_count": 47
        }
      ]
    },
    {
      "cell_type": "markdown",
      "metadata": {
        "id": "TFshfM50Jyv3",
        "colab_type": "text"
      },
      "source": [
        "recalling, eli is the element of that we want to infer wich material it is"
      ]
    },
    {
      "cell_type": "code",
      "metadata": {
        "id": "hRP9heC9ITuR",
        "colab_type": "code",
        "colab": {
          "base_uri": "https://localhost:8080/",
          "height": 35
        },
        "outputId": "1d2ba238-54a1-406f-a643-565dfe8a9e40"
      },
      "source": [
        "eli.iloc[0][6]"
      ],
      "execution_count": 48,
      "outputs": [
        {
          "output_type": "execute_result",
          "data": {
            "application/vnd.google.colaboratory.intrinsic": {
              "type": "string"
            },
            "text/plain": [
              "'Polyvinyl Chloride - Rigid'"
            ]
          },
          "metadata": {
            "tags": []
          },
          "execution_count": 48
        }
      ]
    },
    {
      "cell_type": "markdown",
      "metadata": {
        "id": "TP04N7YxPrFC",
        "colab_type": "text"
      },
      "source": [
        "# Prediction Model Download"
      ]
    },
    {
      "cell_type": "code",
      "metadata": {
        "id": "FLi7s1DEJsOj",
        "colab_type": "code",
        "colab": {}
      },
      "source": [
        "import dill"
      ],
      "execution_count": 49,
      "outputs": []
    },
    {
      "cell_type": "code",
      "metadata": {
        "id": "6L5ajc40p1dG",
        "colab_type": "code",
        "colab": {}
      },
      "source": [
        "wd = \"Users\\bdere\\Desktop\\computer\\haha\""
      ],
      "execution_count": 50,
      "outputs": []
    },
    {
      "cell_type": "code",
      "metadata": {
        "id": "7x8Iq9a1qql2",
        "colab_type": "code",
        "colab": {}
      },
      "source": [
        "dill.dump(rfc, open(wd + \"PipeAnalysis.sav\",\"wb\"))"
      ],
      "execution_count": 51,
      "outputs": []
    },
    {
      "cell_type": "code",
      "metadata": {
        "id": "i2fvtcLsrIlF",
        "colab_type": "code",
        "colab": {}
      },
      "source": [
        "with open(wd + \"PipeAnalysis.sav\",\"wb\") as f:\n",
        "    dill.dump(rfc,f)"
      ],
      "execution_count": 52,
      "outputs": []
    },
    {
      "cell_type": "code",
      "metadata": {
        "id": "fRUj5RQmrRDN",
        "colab_type": "code",
        "colab": {}
      },
      "source": [
        "model = dill.load(open(wd + \"PipeAnalysis.sav\",\"rb\"))"
      ],
      "execution_count": 53,
      "outputs": []
    },
    {
      "cell_type": "code",
      "metadata": {
        "id": "oiM3UEMIrVh9",
        "colab_type": "code",
        "colab": {
          "base_uri": "https://localhost:8080/",
          "height": 33
        },
        "outputId": "66211ba4-2b96-45d0-bde9-5c17cc23fe55"
      },
      "source": [
        "predic=model.predict(X_infer)\n",
        "int(predic)"
      ],
      "execution_count": 54,
      "outputs": [
        {
          "output_type": "execute_result",
          "data": {
            "text/plain": [
              "3"
            ]
          },
          "metadata": {
            "tags": []
          },
          "execution_count": 54
        }
      ]
    },
    {
      "cell_type": "code",
      "metadata": {
        "id": "BSRpejTbrgRt",
        "colab_type": "code",
        "colab": {}
      },
      "source": [
        ""
      ],
      "execution_count": 54,
      "outputs": []
    }
  ]
}