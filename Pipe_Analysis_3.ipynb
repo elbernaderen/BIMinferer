{
  "nbformat": 4,
  "nbformat_minor": 0,
  "metadata": {
    "colab": {
      "name": "Copia de Pipe Analysis 2.ipynb",
      "provenance": [],
      "collapsed_sections": [],
      "authorship_tag": "ABX9TyNUpxnKc3W+cmoccL33gxrD",
      "include_colab_link": true
    },
    "kernelspec": {
      "name": "python3",
      "display_name": "Python 3"
    }
  },
  "cells": [
    {
      "cell_type": "markdown",
      "metadata": {
        "id": "view-in-github",
        "colab_type": "text"
      },
      "source": [
        "<a href=\"https://colab.research.google.com/github/pabloderen/BIMinferer/blob/master/Pipe_Analysis_3.ipynb\" target=\"_parent\"><img src=\"https://colab.research.google.com/assets/colab-badge.svg\" alt=\"Open In Colab\"/></a>"
      ]
    },
    {
      "cell_type": "markdown",
      "metadata": {
        "id": "HeBe9Qe18MzP",
        "colab_type": "text"
      },
      "source": [
        "# Import Libraries"
      ]
    },
    {
      "cell_type": "code",
      "metadata": {
        "id": "MHjuBxluIVMr",
        "colab_type": "code",
        "colab": {}
      },
      "source": [
        "import pandas as pd\n",
        "import json\n",
        "import urllib\n",
        "import matplotlib.pyplot as plt\n",
        "import seaborn as sns\n",
        "from sklearn.model_selection import train_test_split\n",
        "from sklearn.ensemble import RandomForestClassifier\n",
        "from sklearn.metrics import mean_absolute_error\n",
        "import numpy as np\n",
        "\n",
        "import joblib"
      ],
      "execution_count": 4,
      "outputs": []
    },
    {
      "cell_type": "markdown",
      "metadata": {
        "id": "tho_BSd-8ZPH",
        "colab_type": "text"
      },
      "source": [
        "# Download the Data"
      ]
    },
    {
      "cell_type": "markdown",
      "metadata": {
        "id": "lUK3RdE1uwiK",
        "colab_type": "text"
      },
      "source": [
        "We download from de API in Flasgger (http://3.14.88.102:5000/apidocs/) the Pipe list item and it´s parameters\n"
      ]
    },
    {
      "cell_type": "code",
      "metadata": {
        "id": "c8evbTkGaURM",
        "colab_type": "code",
        "colab": {}
      },
      "source": [
        "jsonfile = urllib.request.urlopen(\"http://3.14.88.102:5000/api/1/elements/pipes/?limit=6500\").read().decode()\n",
        "j=json.loads(jsonfile)"
      ],
      "execution_count": 5,
      "outputs": []
    },
    {
      "cell_type": "markdown",
      "metadata": {
        "id": "xZAw2F-Mu2KX",
        "colab_type": "text"
      },
      "source": [
        "Then we make a Data Frame with the json file"
      ]
    },
    {
      "cell_type": "markdown",
      "metadata": {
        "id": "dfjKOj7w8g1h",
        "colab_type": "text"
      },
      "source": [
        "# Create the DataFrame"
      ]
    },
    {
      "cell_type": "code",
      "metadata": {
        "id": "XDuejJ1WaoY_",
        "colab_type": "code",
        "colab": {
          "base_uri": "https://localhost:8080/",
          "height": 316
        },
        "outputId": "367a70c7-bb6e-4b35-bc3d-b6ca1e175714"
      },
      "source": [
        "df= pd.json_normalize(j)\n",
        "df.head(3)"
      ],
      "execution_count": 6,
      "outputs": [
        {
          "output_type": "execute_result",
          "data": {
            "text/html": [
              "<div>\n",
              "<style scoped>\n",
              "    .dataframe tbody tr th:only-of-type {\n",
              "        vertical-align: middle;\n",
              "    }\n",
              "\n",
              "    .dataframe tbody tr th {\n",
              "        vertical-align: top;\n",
              "    }\n",
              "\n",
              "    .dataframe thead th {\n",
              "        text-align: right;\n",
              "    }\n",
              "</style>\n",
              "<table border=\"1\" class=\"dataframe\">\n",
              "  <thead>\n",
              "    <tr style=\"text-align: right;\">\n",
              "      <th></th>\n",
              "      <th>projectId</th>\n",
              "      <th>Category</th>\n",
              "      <th>modelId</th>\n",
              "      <th>_id.$oid</th>\n",
              "      <th>properties_Dimensions_Length</th>\n",
              "      <th>properties_Dimensions_Size</th>\n",
              "      <th>properties_Mechanical_Material</th>\n",
              "      <th>properties_Mechanical_System Classification</th>\n",
              "    </tr>\n",
              "  </thead>\n",
              "  <tbody>\n",
              "    <tr>\n",
              "      <th>0</th>\n",
              "      <td>b.c94f85e5-88fb-402c-bc60-72622f5f85b6</td>\n",
              "      <td>Pipes</td>\n",
              "      <td>d4ea3308-4b3f-d382-cacb-9791f772042b</td>\n",
              "      <td>5eee8651cb573f2fc2216a82</td>\n",
              "      <td>NaN</td>\n",
              "      <td>NaN</td>\n",
              "      <td>NaN</td>\n",
              "      <td>NaN</td>\n",
              "    </tr>\n",
              "    <tr>\n",
              "      <th>1</th>\n",
              "      <td>b.c94f85e5-88fb-402c-bc60-72622f5f85b6</td>\n",
              "      <td>Pipes</td>\n",
              "      <td>d4ea3308-4b3f-d382-cacb-9791f772042b</td>\n",
              "      <td>5eee8651cb573f2fc2216a83</td>\n",
              "      <td>NaN</td>\n",
              "      <td>NaN</td>\n",
              "      <td>NaN</td>\n",
              "      <td>NaN</td>\n",
              "    </tr>\n",
              "    <tr>\n",
              "      <th>2</th>\n",
              "      <td>b.c94f85e5-88fb-402c-bc60-72622f5f85b6</td>\n",
              "      <td>Pipes</td>\n",
              "      <td>d4ea3308-4b3f-d382-cacb-9791f772042b</td>\n",
              "      <td>5eee8651cb573f2fc2216a84</td>\n",
              "      <td>0.398 ft</td>\n",
              "      <td>2 1/2\"</td>\n",
              "      <td>Copper</td>\n",
              "      <td>Sanitary</td>\n",
              "    </tr>\n",
              "  </tbody>\n",
              "</table>\n",
              "</div>"
            ],
            "text/plain": [
              "                                projectId  ... properties_Mechanical_System Classification\n",
              "0  b.c94f85e5-88fb-402c-bc60-72622f5f85b6  ...                                         NaN\n",
              "1  b.c94f85e5-88fb-402c-bc60-72622f5f85b6  ...                                         NaN\n",
              "2  b.c94f85e5-88fb-402c-bc60-72622f5f85b6  ...                                    Sanitary\n",
              "\n",
              "[3 rows x 8 columns]"
            ]
          },
          "metadata": {
            "tags": []
          },
          "execution_count": 6
        }
      ]
    },
    {
      "cell_type": "markdown",
      "metadata": {
        "id": "QRqkmUdp9AgZ",
        "colab_type": "text"
      },
      "source": [
        "# Material Edition"
      ]
    },
    {
      "cell_type": "markdown",
      "metadata": {
        "id": "mhPq5G4TvKTg",
        "colab_type": "text"
      },
      "source": [
        "we can see how many different materials we have, so then we will \n",
        "group by PVC, Copper and Steel"
      ]
    },
    {
      "cell_type": "code",
      "metadata": {
        "id": "YgAbL4g_bzz-",
        "colab_type": "code",
        "colab": {
          "base_uri": "https://localhost:8080/",
          "height": 119
        },
        "outputId": "0864cb9c-3532-485d-a196-6ab0a5938fa5"
      },
      "source": [
        "df[\"properties_Mechanical_Material\"].unique()"
      ],
      "execution_count": 7,
      "outputs": [
        {
          "output_type": "execute_result",
          "data": {
            "text/plain": [
              "array([nan, 'Copper', 'Steel, Carbon', '<By Category>',\n",
              "       'Polyvinyl Chloride - Rigid', 'CP_PI - Copper - ASTM B88 H.D.',\n",
              "       'CP_PI - Steel - ASTM A53-B', 'CP_PI - PVC', 'Cast Iron',\n",
              "       'Black Steel', 'Carbon Steel', 'Ductile Iron',\n",
              "       'Polyvinyl Chloride, Rigid', 'Carbon Steel - ASTM A53 B'],\n",
              "      dtype=object)"
            ]
          },
          "metadata": {
            "tags": []
          },
          "execution_count": 7
        }
      ]
    },
    {
      "cell_type": "markdown",
      "metadata": {
        "id": "OgBVVzDvvX9G",
        "colab_type": "text"
      },
      "source": [
        "To make such a grouping, we define a function that search in the \"properties_Mechanical_Material\" and change each row that has another different name for the same material"
      ]
    },
    {
      "cell_type": "code",
      "metadata": {
        "id": "UTHogQgzb2l2",
        "colab_type": "code",
        "colab": {}
      },
      "source": [
        "def search(data):\n",
        "   \n",
        "    if \"A53\" in data.upper():\n",
        "        return \"Carbon Steel - ASTM A53 B\"\n",
        "    if \"CATEGORY\" in data.upper():\n",
        "        return \"NaN\"\n",
        "    if \"POLYVINYL\" in data.upper():\n",
        "        return \"PVC\"\n",
        "    if \"PVC\" in data.upper():\n",
        "        return \"PVC\"\n",
        "    if \"NAN\" in data.upper():\n",
        "        return \"NaN\"\n",
        "    else:\n",
        "        return data"
      ],
      "execution_count": 8,
      "outputs": []
    },
    {
      "cell_type": "markdown",
      "metadata": {
        "id": "ybOsaokEvXE9",
        "colab_type": "text"
      },
      "source": [
        "For practical purpuses, we will make a copy of the DataFrame, \n",
        "then apply the function in each row of the \"properties_Mechanical_Material\" column."
      ]
    },
    {
      "cell_type": "code",
      "metadata": {
        "id": "plRdbEgthiWL",
        "colab_type": "code",
        "colab": {}
      },
      "source": [
        "df2=df\n",
        "df2[\"properties_Mechanical_Material\"]=df2[\"properties_Mechanical_Material\"].apply(lambda x: search(str(x)))\n"
      ],
      "execution_count": 9,
      "outputs": []
    },
    {
      "cell_type": "markdown",
      "metadata": {
        "id": "wOwwSG9NvlL6",
        "colab_type": "text"
      },
      "source": [
        "here is the amount of each material kind"
      ]
    },
    {
      "cell_type": "code",
      "metadata": {
        "id": "iT4kvHHviEZA",
        "colab_type": "code",
        "colab": {
          "base_uri": "https://localhost:8080/",
          "height": 204
        },
        "outputId": "1400f17b-9959-4dfe-9b1d-28a5bf471c65"
      },
      "source": [
        "\n",
        "df2[\"properties_Mechanical_Material\"].value_counts()\n"
      ],
      "execution_count": 10,
      "outputs": [
        {
          "output_type": "execute_result",
          "data": {
            "text/plain": [
              "PVC                               1745\n",
              "Carbon Steel                      1737\n",
              "Carbon Steel - ASTM A53 B         1322\n",
              "Copper                            1102\n",
              "CP_PI - Copper - ASTM B88 H.D.     424\n",
              "Steel, Carbon                      121\n",
              "NaN                                 41\n",
              "Black Steel                          4\n",
              "Ductile Iron                         2\n",
              "Cast Iron                            2\n",
              "Name: properties_Mechanical_Material, dtype: int64"
            ]
          },
          "metadata": {
            "tags": []
          },
          "execution_count": 10
        }
      ]
    },
    {
      "cell_type": "markdown",
      "metadata": {
        "id": "RWwVmgDth6Z0",
        "colab_type": "text"
      },
      "source": [
        "Here we can see a graphic of the different amount of each materials:"
      ]
    },
    {
      "cell_type": "markdown",
      "metadata": {
        "id": "kFswPbNH843V",
        "colab_type": "text"
      },
      "source": [
        "# Graphics"
      ]
    },
    {
      "cell_type": "code",
      "metadata": {
        "id": "wPtZ6q2UZydL",
        "colab_type": "code",
        "colab": {
          "base_uri": "https://localhost:8080/",
          "height": 296
        },
        "outputId": "710e5746-16f9-44c5-840d-6033fb256045"
      },
      "source": [
        "\n",
        "plt.figure(figsize=(20,4))\n",
        "ax=sns.countplot(y=\"properties_Mechanical_Material\",data=df2,order=df2[\"properties_Mechanical_Material\"].value_counts().index)\n",
        "ax.set( ylabel=\"Material\")"
      ],
      "execution_count": 11,
      "outputs": [
        {
          "output_type": "execute_result",
          "data": {
            "text/plain": [
              "[Text(0, 0.5, 'Material')]"
            ]
          },
          "metadata": {
            "tags": []
          },
          "execution_count": 11
        },
        {
          "output_type": "display_data",
          "data": {
            "image/png": "[encoded data removed]",
            "text/plain": [
              "<Figure size 1440x288 with 1 Axes>"
            ]
          },
          "metadata": {
            "tags": [],
            "needs_background": "light"
          }
        }
      ]
    },
    {
      "cell_type": "code",
      "metadata": {
        "id": "BYFuxyS8i3ww",
        "colab_type": "code",
        "colab": {
          "base_uri": "https://localhost:8080/",
          "height": 187
        },
        "outputId": "12725351-a125-4af6-8ea4-c153ddf61b60"
      },
      "source": [
        "df2[\"properties_Mechanical_System Classification\"].value_counts()"
      ],
      "execution_count": 12,
      "outputs": [
        {
          "output_type": "execute_result",
          "data": {
            "text/plain": [
              "Hydronic Supply        1668\n",
              "Hydronic Return        1523\n",
              "Sanitary               1499\n",
              "Domestic Cold Water     730\n",
              "Vent                    417\n",
              "Domestic Hot Water      321\n",
              "Other                   187\n",
              "Fire Protection Dry     116\n",
              "Fire Protection Wet       2\n",
              "Name: properties_Mechanical_System Classification, dtype: int64"
            ]
          },
          "metadata": {
            "tags": []
          },
          "execution_count": 12
        }
      ]
    },
    {
      "cell_type": "markdown",
      "metadata": {
        "id": "l064bxxYqmhp",
        "colab_type": "text"
      },
      "source": [
        "Here we have an graphic of the system"
      ]
    },
    {
      "cell_type": "code",
      "metadata": {
        "id": "x4IMTSsYlD3z",
        "colab_type": "code",
        "colab": {
          "base_uri": "https://localhost:8080/",
          "height": 296
        },
        "outputId": "39e21bc6-3c26-4879-cafc-2b3db48f410f"
      },
      "source": [
        "plt.figure(figsize=(20,4))\n",
        "ax=sns.countplot(y=\"properties_Mechanical_System Classification\",data=df2,order=df2[\"properties_Mechanical_System Classification\"].value_counts().index)\n",
        "ax.set( ylabel=\"System Classification\")"
      ],
      "execution_count": 13,
      "outputs": [
        {
          "output_type": "execute_result",
          "data": {
            "text/plain": [
              "[Text(0, 0.5, 'System Classification')]"
            ]
          },
          "metadata": {
            "tags": []
          },
          "execution_count": 13
        },
        {
          "output_type": "display_data",
          "data": {
            "image/png": "[encoded data removed]",
            "text/plain": [
              "<Figure size 1440x288 with 1 Axes>"
            ]
          },
          "metadata": {
            "tags": [],
            "needs_background": "light"
          }
        }
      ]
    },
    {
      "cell_type": "markdown",
      "metadata": {
        "id": "WaVPOze3952n",
        "colab_type": "text"
      },
      "source": [
        "# Length Edition"
      ]
    },
    {
      "cell_type": "markdown",
      "metadata": {
        "id": "T3BhD3XMvrpr",
        "colab_type": "text"
      },
      "source": [
        "We drop the rows with properties_Dimensions_Length NaN values."
      ]
    },
    {
      "cell_type": "code",
      "metadata": {
        "id": "M75QW1_8neCa",
        "colab_type": "code",
        "colab": {}
      },
      "source": [
        "df3=df2.dropna(axis=0,subset=[\"properties_Dimensions_Length\"])\n"
      ],
      "execution_count": 14,
      "outputs": []
    },
    {
      "cell_type": "markdown",
      "metadata": {
        "id": "JcNUU0BYvwqm",
        "colab_type": "text"
      },
      "source": [
        "Her we start to convert the properties_Dimensions_Length from string to float \n",
        "(we use x.replace(\" ft\",\"\") and x.replace(\"  ft\",\"\"), notice the spaces in each case)\n",
        "\n"
      ]
    },
    {
      "cell_type": "code",
      "metadata": {
        "id": "iNgt0y4mlQti",
        "colab_type": "code",
        "colab": {
          "base_uri": "https://localhost:8080/",
          "height": 221
        },
        "outputId": "7690cc58-fcd4-453e-d4a3-237f7608152a"
      },
      "source": [
        "df3[\"properties_Dimensions_Length\"]= df3[\"properties_Dimensions_Length\"].apply(lambda x: x.replace(\" ft\",\"\"))\n",
        "df3[\"properties_Dimensions_Length\"]= df3[\"properties_Dimensions_Length\"].apply(lambda x: x.replace(\"  ft\",\"\"))"
      ],
      "execution_count": 15,
      "outputs": [
        {
          "output_type": "stream",
          "text": [
            "/usr/local/lib/python3.6/dist-packages/ipykernel_launcher.py:1: SettingWithCopyWarning: \n",
            "A value is trying to be set on a copy of a slice from a DataFrame.\n",
            "Try using .loc[row_indexer,col_indexer] = value instead\n",
            "\n",
            "See the caveats in the documentation: https://pandas.pydata.org/pandas-docs/stable/user_guide/indexing.html#returning-a-view-versus-a-copy\n",
            "  \"\"\"Entry point for launching an IPython kernel.\n",
            "/usr/local/lib/python3.6/dist-packages/ipykernel_launcher.py:2: SettingWithCopyWarning: \n",
            "A value is trying to be set on a copy of a slice from a DataFrame.\n",
            "Try using .loc[row_indexer,col_indexer] = value instead\n",
            "\n",
            "See the caveats in the documentation: https://pandas.pydata.org/pandas-docs/stable/user_guide/indexing.html#returning-a-view-versus-a-copy\n",
            "  \n"
          ],
          "name": "stderr"
        }
      ]
    },
    {
      "cell_type": "code",
      "metadata": {
        "id": "kHkyOp41o4ai",
        "colab_type": "code",
        "colab": {
          "base_uri": "https://localhost:8080/",
          "height": 119
        },
        "outputId": "61c43dae-e7d3-49a5-d377-a2ea2b1473c4"
      },
      "source": [
        "df3[\"properties_Dimensions_Length\"]= df3[\"properties_Dimensions_Length\"].apply(lambda x: float(x))"
      ],
      "execution_count": 16,
      "outputs": [
        {
          "output_type": "stream",
          "text": [
            "/usr/local/lib/python3.6/dist-packages/ipykernel_launcher.py:1: SettingWithCopyWarning: \n",
            "A value is trying to be set on a copy of a slice from a DataFrame.\n",
            "Try using .loc[row_indexer,col_indexer] = value instead\n",
            "\n",
            "See the caveats in the documentation: https://pandas.pydata.org/pandas-docs/stable/user_guide/indexing.html#returning-a-view-versus-a-copy\n",
            "  \"\"\"Entry point for launching an IPython kernel.\n"
          ],
          "name": "stderr"
        }
      ]
    },
    {
      "cell_type": "markdown",
      "metadata": {
        "id": "ZDqTjUIQ-TO0",
        "colab_type": "text"
      },
      "source": [
        "# Size Edition"
      ]
    },
    {
      "cell_type": "markdown",
      "metadata": {
        "id": "SDSSSckRv-Nv",
        "colab_type": "text"
      },
      "source": [
        "we are analazing pipes, so we know that the dimensions Sizes are the diameter sizes. Then we can see that because a Size has the diameter simbol, creates another dimension. So we will take of the diameter simbol of all the column."
      ]
    },
    {
      "cell_type": "code",
      "metadata": {
        "id": "LGjqjizjo7Xx",
        "colab_type": "code",
        "colab": {
          "base_uri": "https://localhost:8080/",
          "height": 119
        },
        "outputId": "9a6c016f-e6bd-4553-a0a9-f4645ad50fff"
      },
      "source": [
        "df3[\"properties_Dimensions_Size\"].value_counts().head(5)"
      ],
      "execution_count": 17,
      "outputs": [
        {
          "output_type": "execute_result",
          "data": {
            "text/plain": [
              "2\"     643\n",
              "4\"ø    612\n",
              "6\"ø    549\n",
              "4\"     522\n",
              "3\"     436\n",
              "Name: properties_Dimensions_Size, dtype: int64"
            ]
          },
          "metadata": {
            "tags": []
          },
          "execution_count": 17
        }
      ]
    },
    {
      "cell_type": "code",
      "metadata": {
        "id": "CPl-4Ya6qSIj",
        "colab_type": "code",
        "colab": {
          "base_uri": "https://localhost:8080/",
          "height": 119
        },
        "outputId": "5ffc7d8f-9539-49af-8d1b-34fdcd9d1756"
      },
      "source": [
        "df3[\"properties_Dimensions_Size\"]= df3[\"properties_Dimensions_Size\"].apply(lambda x: x.replace(\"ø\",\"\"))"
      ],
      "execution_count": 18,
      "outputs": [
        {
          "output_type": "stream",
          "text": [
            "/usr/local/lib/python3.6/dist-packages/ipykernel_launcher.py:1: SettingWithCopyWarning: \n",
            "A value is trying to be set on a copy of a slice from a DataFrame.\n",
            "Try using .loc[row_indexer,col_indexer] = value instead\n",
            "\n",
            "See the caveats in the documentation: https://pandas.pydata.org/pandas-docs/stable/user_guide/indexing.html#returning-a-view-versus-a-copy\n",
            "  \"\"\"Entry point for launching an IPython kernel.\n"
          ],
          "name": "stderr"
        }
      ]
    },
    {
      "cell_type": "markdown",
      "metadata": {
        "id": "2na5JNpnwHjp",
        "colab_type": "text"
      },
      "source": [
        "Here we eliminate any leading and trailing whitespaces"
      ]
    },
    {
      "cell_type": "code",
      "metadata": {
        "id": "5oBxJ0zxsBcc",
        "colab_type": "code",
        "colab": {
          "base_uri": "https://localhost:8080/",
          "height": 119
        },
        "outputId": "88120a25-02c6-4e5a-8e96-f29bbefbb1d9"
      },
      "source": [
        "df3[\"properties_Dimensions_Size\"]= df3[\"properties_Dimensions_Size\"].apply(lambda x: x.strip())"
      ],
      "execution_count": 19,
      "outputs": [
        {
          "output_type": "stream",
          "text": [
            "/usr/local/lib/python3.6/dist-packages/ipykernel_launcher.py:1: SettingWithCopyWarning: \n",
            "A value is trying to be set on a copy of a slice from a DataFrame.\n",
            "Try using .loc[row_indexer,col_indexer] = value instead\n",
            "\n",
            "See the caveats in the documentation: https://pandas.pydata.org/pandas-docs/stable/user_guide/indexing.html#returning-a-view-versus-a-copy\n",
            "  \"\"\"Entry point for launching an IPython kernel.\n"
          ],
          "name": "stderr"
        }
      ]
    },
    {
      "cell_type": "code",
      "metadata": {
        "id": "cU7zWrMusOSS",
        "colab_type": "code",
        "colab": {
          "base_uri": "https://localhost:8080/",
          "height": 357
        },
        "outputId": "2743819c-e283-4287-c90a-0bea30689c97"
      },
      "source": [
        "df3[\"properties_Dimensions_Size\"].value_counts()"
      ],
      "execution_count": 20,
      "outputs": [
        {
          "output_type": "execute_result",
          "data": {
            "text/plain": [
              "4\"        1152\n",
              "2\"         843\n",
              "3/4\"       745\n",
              "6\"         719\n",
              "3\"         704\n",
              "1\"         598\n",
              "2 1/2\"     340\n",
              "1 1/2\"     310\n",
              "1 1/4\"     309\n",
              "1/2\"       241\n",
              "16\"        146\n",
              "14\"         96\n",
              "8\"          88\n",
              "12\"         64\n",
              "10\"         60\n",
              "30\"         22\n",
              "5\"          22\n",
              "1 3/8\"       2\n",
              "36\"          2\n",
              "Name: properties_Dimensions_Size, dtype: int64"
            ]
          },
          "metadata": {
            "tags": []
          },
          "execution_count": 20
        }
      ]
    },
    {
      "cell_type": "code",
      "metadata": {
        "id": "m17CZx9CpzrU",
        "colab_type": "code",
        "colab": {
          "base_uri": "https://localhost:8080/",
          "height": 299
        },
        "outputId": "f0940b80-0a34-4c40-9948-68a45610c865"
      },
      "source": [
        "plt.figure(figsize=(20,4))\n",
        "ax=sns.countplot(x=\"properties_Dimensions_Size\",data=df3,order=df3[\"properties_Dimensions_Size\"].value_counts().index)\n",
        "ax.set( xlabel= \"Dimensions Size\")"
      ],
      "execution_count": 21,
      "outputs": [
        {
          "output_type": "execute_result",
          "data": {
            "text/plain": [
              "[Text(0.5, 0, 'Dimensions Size')]"
            ]
          },
          "metadata": {
            "tags": []
          },
          "execution_count": 21
        },
        {
          "output_type": "display_data",
          "data": {
            "image/png": "[encoded data removed]",
            "text/plain": [
              "<Figure size 1440x288 with 1 Axes>"
            ]
          },
          "metadata": {
            "tags": [],
            "needs_background": "light"
          }
        }
      ]
    },
    {
      "cell_type": "markdown",
      "metadata": {
        "id": "ujOqPXMD-hTc",
        "colab_type": "text"
      },
      "source": [
        "# Enlist Materials"
      ]
    },
    {
      "cell_type": "markdown",
      "metadata": {
        "id": "RC1L-PFYwRVk",
        "colab_type": "text"
      },
      "source": [
        "The \"\"properties_Mechanical_Material\" are 10 different types. Our target of inference will be the differents kinds of materials"
      ]
    },
    {
      "cell_type": "code",
      "metadata": {
        "id": "3k5FOAuKzDk-",
        "colab_type": "code",
        "colab": {
          "base_uri": "https://localhost:8080/",
          "height": 82
        },
        "outputId": "b399dab8-3589-435c-8e9d-7f7df74dd50c"
      },
      "source": [
        " lista = df3[\"properties_Mechanical_Material\"].unique()\n",
        "lista"
      ],
      "execution_count": 22,
      "outputs": [
        {
          "output_type": "execute_result",
          "data": {
            "text/plain": [
              "array(['Copper', 'Steel, Carbon', 'NaN', 'PVC',\n",
              "       'CP_PI - Copper - ASTM B88 H.D.', 'Carbon Steel - ASTM A53 B',\n",
              "       'Cast Iron', 'Black Steel', 'Carbon Steel', 'Ductile Iron'],\n",
              "      dtype=object)"
            ]
          },
          "metadata": {
            "tags": []
          },
          "execution_count": 22
        }
      ]
    },
    {
      "cell_type": "markdown",
      "metadata": {
        "id": "i_J6RFunyEKN",
        "colab_type": "text"
      },
      "source": [
        "Set a number designator to all properties_Mechanical_System Classification"
      ]
    },
    {
      "cell_type": "code",
      "metadata": {
        "id": "z6Kv2FqT4lPJ",
        "colab_type": "code",
        "colab": {}
      },
      "source": [
        "dicc={}\n",
        "i=0\n",
        "for i in range(0,10):\n",
        "  dicc[lista[i]]=i"
      ],
      "execution_count": 23,
      "outputs": []
    },
    {
      "cell_type": "markdown",
      "metadata": {
        "id": "QiZ6DhR8yJjX",
        "colab_type": "text"
      },
      "source": [
        "we create a column with this designation"
      ]
    },
    {
      "cell_type": "code",
      "metadata": {
        "id": "QrHPPEAY7HLW",
        "colab_type": "code",
        "colab": {
          "base_uri": "https://localhost:8080/",
          "height": 115
        },
        "outputId": "a332dc30-5b36-4d91-e0de-2401bc7e260a"
      },
      "source": [
        "df3[\"Material_Number\"]=df3[\"properties_Mechanical_Material\"].apply(lambda x: dicc[x])"
      ],
      "execution_count": 24,
      "outputs": [
        {
          "output_type": "stream",
          "text": [
            "/usr/local/lib/python3.6/dist-packages/ipykernel_launcher.py:1: SettingWithCopyWarning: \n",
            "A value is trying to be set on a copy of a slice from a DataFrame.\n",
            "Try using .loc[row_indexer,col_indexer] = value instead\n",
            "\n",
            "See the caveats in the documentation: https://pandas.pydata.org/pandas-docs/stable/user_guide/indexing.html#returning-a-view-versus-a-copy\n",
            "  \"\"\"Entry point for launching an IPython kernel.\n"
          ],
          "name": "stderr"
        }
      ]
    },
    {
      "cell_type": "markdown",
      "metadata": {
        "id": "I6s_CtQc-24D",
        "colab_type": "text"
      },
      "source": [
        "# Dummies Data"
      ]
    },
    {
      "cell_type": "markdown",
      "metadata": {
        "id": "t7saSN21yTX-",
        "colab_type": "text"
      },
      "source": [
        "Then we get the dummies properties_Dimensions_Size and properties Mechanical System Classification"
      ]
    },
    {
      "cell_type": "code",
      "metadata": {
        "id": "AmyPgZCRAvew",
        "colab_type": "code",
        "colab": {
          "base_uri": "https://localhost:8080/",
          "height": 33
        },
        "outputId": "a584623a-5b98-4ccd-b6fb-34dc2a7106f7"
      },
      "source": [
        "df3[\"properties_Dimensions_Size\"].nunique()"
      ],
      "execution_count": 25,
      "outputs": [
        {
          "output_type": "execute_result",
          "data": {
            "text/plain": [
              "19"
            ]
          },
          "metadata": {
            "tags": []
          },
          "execution_count": 25
        }
      ]
    },
    {
      "cell_type": "code",
      "metadata": {
        "id": "9ycVwcKjCgvR",
        "colab_type": "code",
        "colab": {}
      },
      "source": [
        "classification= pd.get_dummies(df3[\"properties_Mechanical_System Classification\"])\n"
      ],
      "execution_count": 26,
      "outputs": []
    },
    {
      "cell_type": "code",
      "metadata": {
        "id": "vqO2WjXXC68e",
        "colab_type": "code",
        "colab": {}
      },
      "source": [
        "Dimensions_Size= pd.get_dummies(df3[\"properties_Dimensions_Size\"])\n"
      ],
      "execution_count": 27,
      "outputs": []
    },
    {
      "cell_type": "code",
      "metadata": {
        "id": "iDwJ9-vADJn-",
        "colab_type": "code",
        "colab": {}
      },
      "source": [
        "df4 = pd.concat([df3,classification,Dimensions_Size],axis=1)"
      ],
      "execution_count": 28,
      "outputs": []
    },
    {
      "cell_type": "markdown",
      "metadata": {
        "id": "Km2r9PUNyahz",
        "colab_type": "text"
      },
      "source": [
        "We eliminate some columns that we will not use "
      ]
    },
    {
      "cell_type": "code",
      "metadata": {
        "id": "pZk1FdqEDb71",
        "colab_type": "code",
        "colab": {}
      },
      "source": [
        "droplist=[\"Category\",\"properties_Mechanical_System Classification\",\"properties_Mechanical_Material\"\n",
        ",\"properties_Dimensions_Size\", \"projectId\", \"modelId\",\"_id.$oid\"]\n",
        "df5=df4.drop(droplist, axis=1)"
      ],
      "execution_count": 29,
      "outputs": []
    },
    {
      "cell_type": "code",
      "metadata": {
        "id": "stq6cB-oDdfN",
        "colab_type": "code",
        "colab": {
          "base_uri": "https://localhost:8080/",
          "height": 131
        },
        "outputId": "31dfa49b-38c9-432f-c209-5860ebf27b9b"
      },
      "source": [
        "df5.head(3).columns\n"
      ],
      "execution_count": 76,
      "outputs": [
        {
          "output_type": "execute_result",
          "data": {
            "text/plain": [
              "Index(['properties_Dimensions_Length', 'Material_Number',\n",
              "       'Domestic Cold Water', 'Domestic Hot Water', 'Fire Protection Dry',\n",
              "       'Fire Protection Wet', 'Hydronic Return', 'Hydronic Supply', 'Other',\n",
              "       'Sanitary', 'Vent', '1 1/2\"', '1 1/4\"', '1 3/8\"', '1\"', '1/2\"', '10\"',\n",
              "       '12\"', '14\"', '16\"', '2 1/2\"', '2\"', '3\"', '3/4\"', '30\"', '36\"', '4\"',\n",
              "       '5\"', '6\"', '8\"'],\n",
              "      dtype='object')"
            ]
          },
          "metadata": {
            "tags": []
          },
          "execution_count": 76
        }
      ]
    },
    {
      "cell_type": "markdown",
      "metadata": {
        "id": "nI1P23i8_QeH",
        "colab_type": "text"
      },
      "source": [
        "# Train Test Split"
      ]
    },
    {
      "cell_type": "markdown",
      "metadata": {
        "id": "W96izbzx0jOk",
        "colab_type": "text"
      },
      "source": [
        "Here we define the size of our test size. We will use a 30% of the download data"
      ]
    },
    {
      "cell_type": "code",
      "metadata": {
        "id": "M5QHgzA_E6uo",
        "colab_type": "code",
        "colab": {}
      },
      "source": [
        "X = df5.drop('Material_Number',axis=1)\n",
        "y = df5['Material_Number']\n",
        "X_train, X_test, y_train, y_test = train_test_split(X, y, test_size=0.1, random_state=101)"
      ],
      "execution_count": 31,
      "outputs": []
    },
    {
      "cell_type": "markdown",
      "metadata": {
        "id": "u20TPA6H_hFo",
        "colab_type": "text"
      },
      "source": [
        "# Model Fit"
      ]
    },
    {
      "cell_type": "markdown",
      "metadata": {
        "id": "9xInldBn0zXE",
        "colab_type": "text"
      },
      "source": [
        " Here we train our Random Forest"
      ]
    },
    {
      "cell_type": "code",
      "metadata": {
        "id": "ByAQB0N0GTun",
        "colab_type": "code",
        "colab": {
          "base_uri": "https://localhost:8080/",
          "height": 147
        },
        "outputId": "924be0f6-6f61-49c5-ab11-a7b44ba5fa77"
      },
      "source": [
        "rfc = RandomForestClassifier(n_estimators=200)\n",
        "rfc.fit(X_train,y_train)"
      ],
      "execution_count": 32,
      "outputs": [
        {
          "output_type": "execute_result",
          "data": {
            "text/plain": [
              "RandomForestClassifier(bootstrap=True, ccp_alpha=0.0, class_weight=None,\n",
              "                       criterion='gini', max_depth=None, max_features='auto',\n",
              "                       max_leaf_nodes=None, max_samples=None,\n",
              "                       min_impurity_decrease=0.0, min_impurity_split=None,\n",
              "                       min_samples_leaf=1, min_samples_split=2,\n",
              "                       min_weight_fraction_leaf=0.0, n_estimators=200,\n",
              "                       n_jobs=None, oob_score=False, random_state=None,\n",
              "                       verbose=0, warm_start=False)"
            ]
          },
          "metadata": {
            "tags": []
          },
          "execution_count": 32
        }
      ]
    },
    {
      "cell_type": "markdown",
      "metadata": {
        "id": "ADnCoczu_5sZ",
        "colab_type": "text"
      },
      "source": [
        "# Predictions"
      ]
    },
    {
      "cell_type": "code",
      "metadata": {
        "id": "YN89tZcuGqGP",
        "colab_type": "code",
        "colab": {
          "base_uri": "https://localhost:8080/",
          "height": 228
        },
        "outputId": "3cdd10cf-c0b6-4f4c-b1c6-8417e15b254d"
      },
      "source": [
        "\n",
        "predictions = rfc.predict(X_test)\n",
        "from sklearn.metrics import classification_report,confusion_matrix\n",
        "print(classification_report(y_test,predictions))\n"
      ],
      "execution_count": 33,
      "outputs": [
        {
          "output_type": "stream",
          "text": [
            "              precision    recall  f1-score   support\n",
            "\n",
            "           0       0.94      0.83      0.88       115\n",
            "           1       1.00      1.00      1.00        18\n",
            "           3       0.99      1.00      1.00       175\n",
            "           4       0.72      0.87      0.79        38\n",
            "           5       0.97      0.97      0.97       130\n",
            "           8       0.94      0.96      0.95       171\n",
            "\n",
            "    accuracy                           0.95       647\n",
            "   macro avg       0.93      0.94      0.93       647\n",
            "weighted avg       0.95      0.95      0.95       647\n",
            "\n"
          ],
          "name": "stdout"
        }
      ]
    },
    {
      "cell_type": "markdown",
      "metadata": {
        "id": "1s3ak8f7AA_5",
        "colab_type": "text"
      },
      "source": [
        "# Dispersion Analysis"
      ]
    },
    {
      "cell_type": "markdown",
      "metadata": {
        "id": "jlEJIXkl-6mr",
        "colab_type": "text"
      },
      "source": [
        "Here we compare the Mean Absolute error of the inferences made with and without consider the lenghts of the pipes.\n",
        "\n",
        "-With Pipe Lengths MAE= 0.23\n",
        "\n",
        "-Without Pipe Lengths MAE= 0.69\n",
        "\n",
        "So we note that the lengths give us more dispersion, and we will take off from the inference"
      ]
    },
    {
      "cell_type": "code",
      "metadata": {
        "id": "hRD3rOERGxMO",
        "colab_type": "code",
        "colab": {
          "base_uri": "https://localhost:8080/",
          "height": 33
        },
        "outputId": "ca1a8893-76d5-4370-dcc1-7a1635c826c2"
      },
      "source": [
        "score = mean_absolute_error(y_test,predictions)\n",
        "print('MAE:', score)"
      ],
      "execution_count": 34,
      "outputs": [
        {
          "output_type": "stream",
          "text": [
            "MAE: 0.25193199381761977\n"
          ],
          "name": "stdout"
        }
      ]
    },
    {
      "cell_type": "markdown",
      "metadata": {
        "id": "RQ5L0J7SBW7q",
        "colab_type": "text"
      },
      "source": [
        "# Sección nueva"
      ]
    },
    {
      "cell_type": "code",
      "metadata": {
        "id": "KbQCE_M6G8yH",
        "colab_type": "code",
        "colab": {
          "base_uri": "https://localhost:8080/",
          "height": 180
        },
        "outputId": "7adbf36a-1c6e-4140-db53-57c54059fa2a"
      },
      "source": [
        "dicc"
      ],
      "execution_count": 35,
      "outputs": [
        {
          "output_type": "execute_result",
          "data": {
            "text/plain": [
              "{'Black Steel': 7,\n",
              " 'CP_PI - Copper - ASTM B88 H.D.': 4,\n",
              " 'Carbon Steel': 8,\n",
              " 'Carbon Steel - ASTM A53 B': 5,\n",
              " 'Cast Iron': 6,\n",
              " 'Copper': 0,\n",
              " 'Ductile Iron': 9,\n",
              " 'NaN': 2,\n",
              " 'PVC': 3,\n",
              " 'Steel, Carbon': 1}"
            ]
          },
          "metadata": {
            "tags": []
          },
          "execution_count": 35
        }
      ]
    },
    {
      "cell_type": "markdown",
      "metadata": {
        "id": "ZWXHDM-5A9CL",
        "colab_type": "text"
      },
      "source": [
        "# Download the Data (second part)"
      ]
    },
    {
      "cell_type": "code",
      "metadata": {
        "id": "kh3hXCHy1Hc3",
        "colab_type": "code",
        "colab": {}
      },
      "source": [
        "\n",
        "jsonfile2= urllib.request.urlopen(\"http://3.14.88.102:5000/api/1/elements/pipes/?limit=6500\").read().decode()\n",
        "j2=json.loads(jsonfile2)"
      ],
      "execution_count": 36,
      "outputs": []
    },
    {
      "cell_type": "code",
      "metadata": {
        "id": "ixwG52fJAro0",
        "colab_type": "code",
        "colab": {
          "base_uri": "https://localhost:8080/",
          "height": 316
        },
        "outputId": "e445b283-ed6c-4e5d-d5b0-7789257ad1dd"
      },
      "source": [
        "dataf= pd.json_normalize(j2)\n",
        "dataf.head(3)"
      ],
      "execution_count": 37,
      "outputs": [
        {
          "output_type": "execute_result",
          "data": {
            "text/html": [
              "<div>\n",
              "<style scoped>\n",
              "    .dataframe tbody tr th:only-of-type {\n",
              "        vertical-align: middle;\n",
              "    }\n",
              "\n",
              "    .dataframe tbody tr th {\n",
              "        vertical-align: top;\n",
              "    }\n",
              "\n",
              "    .dataframe thead th {\n",
              "        text-align: right;\n",
              "    }\n",
              "</style>\n",
              "<table border=\"1\" class=\"dataframe\">\n",
              "  <thead>\n",
              "    <tr style=\"text-align: right;\">\n",
              "      <th></th>\n",
              "      <th>projectId</th>\n",
              "      <th>Category</th>\n",
              "      <th>modelId</th>\n",
              "      <th>_id.$oid</th>\n",
              "      <th>properties_Dimensions_Length</th>\n",
              "      <th>properties_Dimensions_Size</th>\n",
              "      <th>properties_Mechanical_Material</th>\n",
              "      <th>properties_Mechanical_System Classification</th>\n",
              "    </tr>\n",
              "  </thead>\n",
              "  <tbody>\n",
              "    <tr>\n",
              "      <th>0</th>\n",
              "      <td>b.c94f85e5-88fb-402c-bc60-72622f5f85b6</td>\n",
              "      <td>Pipes</td>\n",
              "      <td>d4ea3308-4b3f-d382-cacb-9791f772042b</td>\n",
              "      <td>5eee8651cb573f2fc2216a82</td>\n",
              "      <td>NaN</td>\n",
              "      <td>NaN</td>\n",
              "      <td>NaN</td>\n",
              "      <td>NaN</td>\n",
              "    </tr>\n",
              "    <tr>\n",
              "      <th>1</th>\n",
              "      <td>b.c94f85e5-88fb-402c-bc60-72622f5f85b6</td>\n",
              "      <td>Pipes</td>\n",
              "      <td>d4ea3308-4b3f-d382-cacb-9791f772042b</td>\n",
              "      <td>5eee8651cb573f2fc2216a83</td>\n",
              "      <td>NaN</td>\n",
              "      <td>NaN</td>\n",
              "      <td>NaN</td>\n",
              "      <td>NaN</td>\n",
              "    </tr>\n",
              "    <tr>\n",
              "      <th>2</th>\n",
              "      <td>b.c94f85e5-88fb-402c-bc60-72622f5f85b6</td>\n",
              "      <td>Pipes</td>\n",
              "      <td>d4ea3308-4b3f-d382-cacb-9791f772042b</td>\n",
              "      <td>5eee8651cb573f2fc2216a84</td>\n",
              "      <td>0.398 ft</td>\n",
              "      <td>2 1/2\"</td>\n",
              "      <td>Copper</td>\n",
              "      <td>Sanitary</td>\n",
              "    </tr>\n",
              "  </tbody>\n",
              "</table>\n",
              "</div>"
            ],
            "text/plain": [
              "                                projectId  ... properties_Mechanical_System Classification\n",
              "0  b.c94f85e5-88fb-402c-bc60-72622f5f85b6  ...                                         NaN\n",
              "1  b.c94f85e5-88fb-402c-bc60-72622f5f85b6  ...                                         NaN\n",
              "2  b.c94f85e5-88fb-402c-bc60-72622f5f85b6  ...                                    Sanitary\n",
              "\n",
              "[3 rows x 8 columns]"
            ]
          },
          "metadata": {
            "tags": []
          },
          "execution_count": 37
        }
      ]
    },
    {
      "cell_type": "markdown",
      "metadata": {
        "id": "M6xIdn7aBZjF",
        "colab_type": "text"
      },
      "source": [
        "# Data to Infer"
      ]
    },
    {
      "cell_type": "markdown",
      "metadata": {
        "id": "pPjeCVg8CdM8",
        "colab_type": "text"
      },
      "source": [
        "For a given Item, we infer what material it could be. In this case we toke the 100th elemnt"
      ]
    },
    {
      "cell_type": "code",
      "metadata": {
        "id": "pZV4-99kBWSr",
        "colab_type": "code",
        "colab": {
          "base_uri": "https://localhost:8080/",
          "height": 161
        },
        "outputId": "f014bf6f-f903-40f6-f624-3bddacf3b9d2"
      },
      "source": [
        "eli=dataf.iloc[55].to_frame().T\n",
        "#First individualizate the elemnt\n",
        "eli\n"
      ],
      "execution_count": 79,
      "outputs": [
        {
          "output_type": "execute_result",
          "data": {
            "text/html": [
              "<div>\n",
              "<style scoped>\n",
              "    .dataframe tbody tr th:only-of-type {\n",
              "        vertical-align: middle;\n",
              "    }\n",
              "\n",
              "    .dataframe tbody tr th {\n",
              "        vertical-align: top;\n",
              "    }\n",
              "\n",
              "    .dataframe thead th {\n",
              "        text-align: right;\n",
              "    }\n",
              "</style>\n",
              "<table border=\"1\" class=\"dataframe\">\n",
              "  <thead>\n",
              "    <tr style=\"text-align: right;\">\n",
              "      <th></th>\n",
              "      <th>projectId</th>\n",
              "      <th>Category</th>\n",
              "      <th>modelId</th>\n",
              "      <th>_id.$oid</th>\n",
              "      <th>properties_Dimensions_Length</th>\n",
              "      <th>properties_Dimensions_Size</th>\n",
              "      <th>properties_Mechanical_Material</th>\n",
              "      <th>properties_Mechanical_System Classification</th>\n",
              "    </tr>\n",
              "  </thead>\n",
              "  <tbody>\n",
              "    <tr>\n",
              "      <th>55</th>\n",
              "      <td>b.c94f85e5-88fb-402c-bc60-72622f5f85b6</td>\n",
              "      <td>Pipes</td>\n",
              "      <td>d4ea3308-4b3f-d382-cacb-9791f772042b</td>\n",
              "      <td>5eee866fcb573f2fc2216e51</td>\n",
              "      <td>0.050 ft</td>\n",
              "      <td>2\"</td>\n",
              "      <td>Polyvinyl Chloride - Rigid</td>\n",
              "      <td>Sanitary</td>\n",
              "    </tr>\n",
              "  </tbody>\n",
              "</table>\n",
              "</div>"
            ],
            "text/plain": [
              "                                 projectId  ... properties_Mechanical_System Classification\n",
              "55  b.c94f85e5-88fb-402c-bc60-72622f5f85b6  ...                                    Sanitary\n",
              "\n",
              "[1 rows x 8 columns]"
            ]
          },
          "metadata": {
            "tags": []
          },
          "execution_count": 79
        }
      ]
    },
    {
      "cell_type": "markdown",
      "metadata": {
        "id": "q8dCDF9NEFRc",
        "colab_type": "text"
      },
      "source": [
        "here we make a dictionary with the size, classification and Length elements"
      ]
    },
    {
      "cell_type": "code",
      "metadata": {
        "id": "DuTCS_ceD_sn",
        "colab_type": "code",
        "colab": {
          "base_uri": "https://localhost:8080/",
          "height": 33
        },
        "outputId": "18034cf9-95d6-4c55-c48a-8c33e3bbe028"
      },
      "source": [
        "\n",
        "def search_title(var):\n",
        "  i=0\n",
        "  values={}\n",
        "\n",
        "  Ele=var.iloc[0].index.nunique()\n",
        "  for i in range(0,Ele):\n",
        "    value=var.iloc[0].index[i].upper()\n",
        "    if \"SIZE\" in value:\n",
        "        values[\"Size\"]=var.iloc[0][i]\n",
        "\n",
        "    if \"CLASSIFICATION\" in value:\n",
        "        values[\"Classification\"]=var.iloc[0][i]\n",
        "\n",
        "    if \"LENGTH\" in value:\n",
        "        values[\"Length\"]=var.iloc[0][i]\n",
        "  return values\n",
        "\n",
        "item=search_title(eli)\n",
        "item\n"
      ],
      "execution_count": 39,
      "outputs": [
        {
          "output_type": "execute_result",
          "data": {
            "text/plain": [
              "{'Classification': 'Sanitary', 'Length': '7.978 ft', 'Size': '4\"'}"
            ]
          },
          "metadata": {
            "tags": []
          },
          "execution_count": 39
        }
      ]
    },
    {
      "cell_type": "markdown",
      "metadata": {
        "id": "o_bjDiSTVuh7",
        "colab_type": "text"
      },
      "source": [
        "Edit the Size format"
      ]
    },
    {
      "cell_type": "code",
      "metadata": {
        "id": "1ZSlohL8UMsG",
        "colab_type": "code",
        "colab": {
          "base_uri": "https://localhost:8080/",
          "height": 35
        },
        "outputId": "cf2b4f69-2174-40ed-d0c4-e6cb5ffa33c0"
      },
      "source": [
        "item[\"Size\"]=item[\"Size\"].replace(\"ø\",\"\")\n",
        "item[\"Size\"]=item[\"Size\"].strip()\n",
        "item[\"Size\"]"
      ],
      "execution_count": 40,
      "outputs": [
        {
          "output_type": "execute_result",
          "data": {
            "application/vnd.google.colaboratory.intrinsic": {
              "type": "string"
            },
            "text/plain": [
              "'4\"'"
            ]
          },
          "metadata": {
            "tags": []
          },
          "execution_count": 40
        }
      ]
    },
    {
      "cell_type": "markdown",
      "metadata": {
        "id": "TLijGJU_8pLS",
        "colab_type": "text"
      },
      "source": [
        "Edit the Lenght format"
      ]
    },
    {
      "cell_type": "code",
      "metadata": {
        "id": "eHBwp1wJ6a0J",
        "colab_type": "code",
        "colab": {
          "base_uri": "https://localhost:8080/",
          "height": 35
        },
        "outputId": "3b5632b2-dd11-4e4c-e882-fac9240892de"
      },
      "source": [
        "item[\"Length\"]=item[\"Length\"].replace(\" ft\",\"\")\n",
        "item[\"Length\"]=item[\"Length\"].replace(\"  ft\",\"\")\n",
        "item[\"Length\"]\n",
        "item[\"Length\"]"
      ],
      "execution_count": 41,
      "outputs": [
        {
          "output_type": "execute_result",
          "data": {
            "application/vnd.google.colaboratory.intrinsic": {
              "type": "string"
            },
            "text/plain": [
              "'7.978'"
            ]
          },
          "metadata": {
            "tags": []
          },
          "execution_count": 41
        }
      ]
    },
    {
      "cell_type": "code",
      "metadata": {
        "id": "Sw-nEZKZZfPs",
        "colab_type": "code",
        "colab": {}
      },
      "source": [
        "pro=df5.columns.to_frame(index=True).T\n",
        "pro.drop(labels=0,axis=0,inplace=True)"
      ],
      "execution_count": 42,
      "outputs": []
    },
    {
      "cell_type": "code",
      "metadata": {
        "id": "OI5EqKD2sU3d",
        "colab_type": "code",
        "colab": {}
      },
      "source": [
        "#this list is just for make the new_row dictionary \n",
        "items=[item[\"Classification\"],item[\"Size\"]]\n",
        "\n",
        "new_row={}\n",
        "\n",
        "for i in pro.columns:\n",
        "  if i == \"properties_Dimensions_Length\":\n",
        "    new_row[i]=float(item[\"Length\"])\n",
        "  elif i in items:\n",
        "    new_row[i]=1\n",
        "  else:\n",
        "      new_row[i]=0\n"
      ],
      "execution_count": 43,
      "outputs": []
    },
    {
      "cell_type": "code",
      "metadata": {
        "id": "bH5ZQZmS_nce",
        "colab_type": "code",
        "colab": {
          "base_uri": "https://localhost:8080/",
          "height": 505
        },
        "outputId": "102f3bf7-88a6-4b6a-acdc-0d1015406af7"
      },
      "source": [
        "new_row"
      ],
      "execution_count": 44,
      "outputs": [
        {
          "output_type": "execute_result",
          "data": {
            "text/plain": [
              "{'1 1/2\"': 0,\n",
              " '1 1/4\"': 0,\n",
              " '1 3/8\"': 0,\n",
              " '1\"': 0,\n",
              " '1/2\"': 0,\n",
              " '10\"': 0,\n",
              " '12\"': 0,\n",
              " '14\"': 0,\n",
              " '16\"': 0,\n",
              " '2 1/2\"': 0,\n",
              " '2\"': 0,\n",
              " '3\"': 0,\n",
              " '3/4\"': 0,\n",
              " '30\"': 0,\n",
              " '36\"': 0,\n",
              " '4\"': 1,\n",
              " '5\"': 0,\n",
              " '6\"': 0,\n",
              " '8\"': 0,\n",
              " 'Domestic Cold Water': 0,\n",
              " 'Domestic Hot Water': 0,\n",
              " 'Fire Protection Dry': 0,\n",
              " 'Fire Protection Wet': 0,\n",
              " 'Hydronic Return': 0,\n",
              " 'Hydronic Supply': 0,\n",
              " 'Material_Number': 0,\n",
              " 'Other': 0,\n",
              " 'Sanitary': 1,\n",
              " 'Vent': 0,\n",
              " 'properties_Dimensions_Length': 7.978}"
            ]
          },
          "metadata": {
            "tags": []
          },
          "execution_count": 44
        }
      ]
    },
    {
      "cell_type": "markdown",
      "metadata": {
        "id": "0IgwGeO3FZu2",
        "colab_type": "text"
      },
      "source": [
        "This is the one row DataFrame that we will use to test the model to predict"
      ]
    },
    {
      "cell_type": "code",
      "metadata": {
        "id": "QYHjcmGawYak",
        "colab_type": "code",
        "colab": {}
      },
      "source": [
        "k=pro.append(new_row, ignore_index=True)"
      ],
      "execution_count": 45,
      "outputs": []
    },
    {
      "cell_type": "code",
      "metadata": {
        "id": "_ROrmJx1ysZZ",
        "colab_type": "code",
        "colab": {}
      },
      "source": [
        "X_infer = k.drop('Material_Number',axis=1)\n",
        "y_infer = pro['Material_Number']"
      ],
      "execution_count": 46,
      "outputs": []
    },
    {
      "cell_type": "code",
      "metadata": {
        "id": "5DI_endT3IFy",
        "colab_type": "code",
        "colab": {
          "base_uri": "https://localhost:8080/",
          "height": 33
        },
        "outputId": "99be5e27-2292-42dd-c804-649fc2436652"
      },
      "source": [
        "predictions = rfc.predict(X_infer)\n",
        "int(predictions)"
      ],
      "execution_count": 47,
      "outputs": [
        {
          "output_type": "execute_result",
          "data": {
            "text/plain": [
              "3"
            ]
          },
          "metadata": {
            "tags": []
          },
          "execution_count": 47
        }
      ]
    },
    {
      "cell_type": "markdown",
      "metadata": {
        "id": "mh7zv5MZIvWW",
        "colab_type": "text"
      },
      "source": [
        "Recalling the dictionary we made, we change key for value and vice versa"
      ]
    },
    {
      "cell_type": "code",
      "metadata": {
        "id": "Ga23NBMl9D_X",
        "colab_type": "code",
        "colab": {
          "base_uri": "https://localhost:8080/",
          "height": 180
        },
        "outputId": "9eb9792c-b0ef-4ecc-8a70-447d4022234f"
      },
      "source": [
        "dicc"
      ],
      "execution_count": 48,
      "outputs": [
        {
          "output_type": "execute_result",
          "data": {
            "text/plain": [
              "{'Black Steel': 7,\n",
              " 'CP_PI - Copper - ASTM B88 H.D.': 4,\n",
              " 'Carbon Steel': 8,\n",
              " 'Carbon Steel - ASTM A53 B': 5,\n",
              " 'Cast Iron': 6,\n",
              " 'Copper': 0,\n",
              " 'Ductile Iron': 9,\n",
              " 'NaN': 2,\n",
              " 'PVC': 3,\n",
              " 'Steel, Carbon': 1}"
            ]
          },
          "metadata": {
            "tags": []
          },
          "execution_count": 48
        }
      ]
    },
    {
      "cell_type": "code",
      "metadata": {
        "id": "XRuupVaoFv6D",
        "colab_type": "code",
        "colab": {
          "base_uri": "https://localhost:8080/",
          "height": 180
        },
        "outputId": "78930290-e596-42ec-dd24-ed81c49a81fc"
      },
      "source": [
        "dicc2={}\n",
        "\n",
        "for i in dicc.keys():\n",
        "  dicc2[dicc[i]]=i\n",
        "dicc2\n"
      ],
      "execution_count": 49,
      "outputs": [
        {
          "output_type": "execute_result",
          "data": {
            "text/plain": [
              "{0: 'Copper',\n",
              " 1: 'Steel, Carbon',\n",
              " 2: 'NaN',\n",
              " 3: 'PVC',\n",
              " 4: 'CP_PI - Copper - ASTM B88 H.D.',\n",
              " 5: 'Carbon Steel - ASTM A53 B',\n",
              " 6: 'Cast Iron',\n",
              " 7: 'Black Steel',\n",
              " 8: 'Carbon Steel',\n",
              " 9: 'Ductile Iron'}"
            ]
          },
          "metadata": {
            "tags": []
          },
          "execution_count": 49
        }
      ]
    },
    {
      "cell_type": "markdown",
      "metadata": {
        "id": "pw9o7gD3JVmK",
        "colab_type": "text"
      },
      "source": [
        "# Result of a determined prediction"
      ]
    },
    {
      "cell_type": "code",
      "metadata": {
        "id": "B78dl8huG0oP",
        "colab_type": "code",
        "colab": {
          "base_uri": "https://localhost:8080/",
          "height": 35
        },
        "outputId": "33631100-2bb1-40e1-9adf-53ac14ca3206"
      },
      "source": [
        "dicc2[int(predictions)]"
      ],
      "execution_count": 50,
      "outputs": [
        {
          "output_type": "execute_result",
          "data": {
            "application/vnd.google.colaboratory.intrinsic": {
              "type": "string"
            },
            "text/plain": [
              "'PVC'"
            ]
          },
          "metadata": {
            "tags": []
          },
          "execution_count": 50
        }
      ]
    },
    {
      "cell_type": "markdown",
      "metadata": {
        "id": "TFshfM50Jyv3",
        "colab_type": "text"
      },
      "source": [
        "recalling, eli is the element of that we want to infer wich material it is"
      ]
    },
    {
      "cell_type": "code",
      "metadata": {
        "id": "hRP9heC9ITuR",
        "colab_type": "code",
        "colab": {
          "base_uri": "https://localhost:8080/",
          "height": 35
        },
        "outputId": "566ca55b-d2dc-4190-da21-2e883c3c16ae"
      },
      "source": [
        "eli.iloc[0][6]"
      ],
      "execution_count": 53,
      "outputs": [
        {
          "output_type": "execute_result",
          "data": {
            "application/vnd.google.colaboratory.intrinsic": {
              "type": "string"
            },
            "text/plain": [
              "'Polyvinyl Chloride - Rigid'"
            ]
          },
          "metadata": {
            "tags": []
          },
          "execution_count": 53
        }
      ]
    },
    {
      "cell_type": "markdown",
      "metadata": {
        "id": "TP04N7YxPrFC",
        "colab_type": "text"
      },
      "source": [
        "# Prediction Model Download"
      ]
    },
    {
      "cell_type": "code",
      "metadata": {
        "id": "FLi7s1DEJsOj",
        "colab_type": "code",
        "colab": {}
      },
      "source": [
        "import dill"
      ],
      "execution_count": 57,
      "outputs": []
    },
    {
      "cell_type": "code",
      "metadata": {
        "id": "6L5ajc40p1dG",
        "colab_type": "code",
        "colab": {}
      },
      "source": [
        "wd = \"Users\\bdere\\Desktop\\computer\\haha\""
      ],
      "execution_count": 69,
      "outputs": []
    },
    {
      "cell_type": "code",
      "metadata": {
        "id": "7x8Iq9a1qql2",
        "colab_type": "code",
        "colab": {}
      },
      "source": [
        "dill.dump(rfc, open(wd + \"PipeAnalysis.sav\",\"wb\"))"
      ],
      "execution_count": 65,
      "outputs": []
    },
    {
      "cell_type": "code",
      "metadata": {
        "id": "i2fvtcLsrIlF",
        "colab_type": "code",
        "colab": {}
      },
      "source": [
        "with open(wd + \"PipeAnalysis.sav\",\"wb\") as f:\n",
        "    dill.dump(rfc,f)"
      ],
      "execution_count": 70,
      "outputs": []
    },
    {
      "cell_type": "code",
      "metadata": {
        "id": "fRUj5RQmrRDN",
        "colab_type": "code",
        "colab": {}
      },
      "source": [
        "model = dill.load(open(wd + \"PipeAnalysis.sav\",\"rb\"))"
      ],
      "execution_count": 67,
      "outputs": []
    },
    {
      "cell_type": "code",
      "metadata": {
        "id": "oiM3UEMIrVh9",
        "colab_type": "code",
        "colab": {
          "base_uri": "https://localhost:8080/",
          "height": 33
        },
        "outputId": "09f49c20-5612-4170-95f3-a55033f33327"
      },
      "source": [
        "predic=model.predict(X_infer)\n",
        "int(predic)"
      ],
      "execution_count": 71,
      "outputs": [
        {
          "output_type": "execute_result",
          "data": {
            "text/plain": [
              "3"
            ]
          },
          "metadata": {
            "tags": []
          },
          "execution_count": 71
        }
      ]
    },
    {
      "cell_type": "code",
      "metadata": {
        "id": "BSRpejTbrgRt",
        "colab_type": "code",
        "colab": {}
      },
      "source": [
        ""
      ],
      "execution_count": null,
      "outputs": []
    }
  ]
}