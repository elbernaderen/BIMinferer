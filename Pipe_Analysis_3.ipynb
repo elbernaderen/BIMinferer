{
  "nbformat": 4,
  "nbformat_minor": 0,
  "metadata": {
    "colab": {
      "name": "Copia de Pipe Analysis 2.ipynb",
      "provenance": [],
      "collapsed_sections": [],
      "toc_visible": true,
      "authorship_tag": "ABX9TyOTS0za8CNPlyyW+/ekiv7A",
      "include_colab_link": true
    },
    "kernelspec": {
      "name": "python3",
      "display_name": "Python 3"
    }
  },
  "cells": [
    {
      "cell_type": "markdown",
      "metadata": {
        "id": "view-in-github",
        "colab_type": "text"
      },
      "source": [
        "<a href=\"https://colab.research.google.com/github/pabloderen/BIMnferer/blob/master/Pipe_Analysis_3.ipynb\" target=\"_parent\"><img src=\"https://colab.research.google.com/assets/colab-badge.svg\" alt=\"Open In Colab\"/></a>"
      ]
    },
    {
      "cell_type": "markdown",
      "metadata": {
        "id": "HeBe9Qe18MzP",
        "colab_type": "text"
      },
      "source": [
        "# Import Libraries"
      ]
    },
    {
      "cell_type": "code",
      "metadata": {
        "id": "MHjuBxluIVMr",
        "colab_type": "code",
        "colab": {}
      },
      "source": [
        "import pandas as pd\n",
        "import json\n",
        "import urllib\n",
        "import matplotlib.pyplot as plt\n",
        "import seaborn as sns\n",
        "from sklearn.model_selection import train_test_split\n",
        "from sklearn.ensemble import RandomForestClassifier\n",
        "from sklearn.metrics import mean_absolute_error\n",
        "import numpy as np\n"
      ],
      "execution_count": 105,
      "outputs": []
    },
    {
      "cell_type": "markdown",
      "metadata": {
        "id": "tho_BSd-8ZPH",
        "colab_type": "text"
      },
      "source": [
        "# Download the Data"
      ]
    },
    {
      "cell_type": "markdown",
      "metadata": {
        "id": "lUK3RdE1uwiK",
        "colab_type": "text"
      },
      "source": [
        "We download from de API in Flasgger (http://3.14.88.102:5000/apidocs/) the Pipe list item and it´s parameters\n"
      ]
    },
    {
      "cell_type": "code",
      "metadata": {
        "id": "c8evbTkGaURM",
        "colab_type": "code",
        "colab": {}
      },
      "source": [
        "jsonfile = urllib.request.urlopen(\"http://3.14.88.102:5000/api/1/elements/pipes/?limit=6500\").read().decode()\n",
        "j=json.loads(jsonfile)"
      ],
      "execution_count": 63,
      "outputs": []
    },
    {
      "cell_type": "markdown",
      "metadata": {
        "id": "xZAw2F-Mu2KX",
        "colab_type": "text"
      },
      "source": [
        "Then we make a Data Frame with the json file"
      ]
    },
    {
      "cell_type": "markdown",
      "metadata": {
        "id": "dfjKOj7w8g1h",
        "colab_type": "text"
      },
      "source": [
        "# Create the DataFrame"
      ]
    },
    {
      "cell_type": "code",
      "metadata": {
        "id": "XDuejJ1WaoY_",
        "colab_type": "code",
        "colab": {
          "base_uri": "https://localhost:8080/",
          "height": 261
        },
        "outputId": "23c821d6-9e50-4429-bedb-8fa53333bf61"
      },
      "source": [
        "df= pd.json_normalize(j)\n",
        "df.head(3)"
      ],
      "execution_count": 64,
      "outputs": [
        {
          "output_type": "execute_result",
          "data": {
            "text/html": [
              "<div>\n",
              "<style scoped>\n",
              "    .dataframe tbody tr th:only-of-type {\n",
              "        vertical-align: middle;\n",
              "    }\n",
              "\n",
              "    .dataframe tbody tr th {\n",
              "        vertical-align: top;\n",
              "    }\n",
              "\n",
              "    .dataframe thead th {\n",
              "        text-align: right;\n",
              "    }\n",
              "</style>\n",
              "<table border=\"1\" class=\"dataframe\">\n",
              "  <thead>\n",
              "    <tr style=\"text-align: right;\">\n",
              "      <th></th>\n",
              "      <th>projectId</th>\n",
              "      <th>Category</th>\n",
              "      <th>modelId</th>\n",
              "      <th>_id.$oid</th>\n",
              "      <th>properties_Dimensions_Length</th>\n",
              "      <th>properties_Dimensions_Size</th>\n",
              "      <th>properties_Mechanical_Material</th>\n",
              "      <th>properties_Mechanical_System Classification</th>\n",
              "    </tr>\n",
              "  </thead>\n",
              "  <tbody>\n",
              "    <tr>\n",
              "      <th>0</th>\n",
              "      <td>b.c94f85e5-88fb-402c-bc60-72622f5f85b6</td>\n",
              "      <td>Pipes</td>\n",
              "      <td>d4ea3308-4b3f-d382-cacb-9791f772042b</td>\n",
              "      <td>5eee8651cb573f2fc2216a82</td>\n",
              "      <td>NaN</td>\n",
              "      <td>NaN</td>\n",
              "      <td>NaN</td>\n",
              "      <td>NaN</td>\n",
              "    </tr>\n",
              "    <tr>\n",
              "      <th>1</th>\n",
              "      <td>b.c94f85e5-88fb-402c-bc60-72622f5f85b6</td>\n",
              "      <td>Pipes</td>\n",
              "      <td>d4ea3308-4b3f-d382-cacb-9791f772042b</td>\n",
              "      <td>5eee8651cb573f2fc2216a83</td>\n",
              "      <td>NaN</td>\n",
              "      <td>NaN</td>\n",
              "      <td>NaN</td>\n",
              "      <td>NaN</td>\n",
              "    </tr>\n",
              "    <tr>\n",
              "      <th>2</th>\n",
              "      <td>b.c94f85e5-88fb-402c-bc60-72622f5f85b6</td>\n",
              "      <td>Pipes</td>\n",
              "      <td>d4ea3308-4b3f-d382-cacb-9791f772042b</td>\n",
              "      <td>5eee8651cb573f2fc2216a84</td>\n",
              "      <td>0.398 ft</td>\n",
              "      <td>2 1/2\"</td>\n",
              "      <td>Copper</td>\n",
              "      <td>Sanitary</td>\n",
              "    </tr>\n",
              "  </tbody>\n",
              "</table>\n",
              "</div>"
            ],
            "text/plain": [
              "                                projectId  ... properties_Mechanical_System Classification\n",
              "0  b.c94f85e5-88fb-402c-bc60-72622f5f85b6  ...                                         NaN\n",
              "1  b.c94f85e5-88fb-402c-bc60-72622f5f85b6  ...                                         NaN\n",
              "2  b.c94f85e5-88fb-402c-bc60-72622f5f85b6  ...                                    Sanitary\n",
              "\n",
              "[3 rows x 8 columns]"
            ]
          },
          "metadata": {
            "tags": []
          },
          "execution_count": 64
        }
      ]
    },
    {
      "cell_type": "markdown",
      "metadata": {
        "id": "QRqkmUdp9AgZ",
        "colab_type": "text"
      },
      "source": [
        "# Material Edition"
      ]
    },
    {
      "cell_type": "markdown",
      "metadata": {
        "id": "mhPq5G4TvKTg",
        "colab_type": "text"
      },
      "source": [
        "we can see how many different materials we have, so then we will \n",
        "group by PVC, Copper and Steel"
      ]
    },
    {
      "cell_type": "code",
      "metadata": {
        "id": "YgAbL4g_bzz-",
        "colab_type": "code",
        "colab": {
          "base_uri": "https://localhost:8080/",
          "height": 119
        },
        "outputId": "61ce1321-38bc-4aa4-e41f-0cbc8668f7d9"
      },
      "source": [
        "df[\"properties_Mechanical_Material\"].unique()"
      ],
      "execution_count": 65,
      "outputs": [
        {
          "output_type": "execute_result",
          "data": {
            "text/plain": [
              "array([nan, 'Copper', 'Steel, Carbon', '<By Category>',\n",
              "       'Polyvinyl Chloride - Rigid', 'CP_PI - Copper - ASTM B88 H.D.',\n",
              "       'CP_PI - Steel - ASTM A53-B', 'CP_PI - PVC', 'Cast Iron',\n",
              "       'Black Steel', 'Carbon Steel', 'Ductile Iron',\n",
              "       'Polyvinyl Chloride, Rigid', 'Carbon Steel - ASTM A53 B'],\n",
              "      dtype=object)"
            ]
          },
          "metadata": {
            "tags": []
          },
          "execution_count": 65
        }
      ]
    },
    {
      "cell_type": "markdown",
      "metadata": {
        "id": "OgBVVzDvvX9G",
        "colab_type": "text"
      },
      "source": [
        "To make such a grouping, we define a function that search in the \"properties_Mechanical_Material\" and change each row that has another different name for the same material"
      ]
    },
    {
      "cell_type": "code",
      "metadata": {
        "id": "UTHogQgzb2l2",
        "colab_type": "code",
        "colab": {}
      },
      "source": [
        "def search(data):\n",
        "   \n",
        "    if \"A53\" in data.upper():\n",
        "        return \"Carbon Steel - ASTM A53 B\"\n",
        "    if \"CATEGORY\" in data.upper():\n",
        "        return \"NaN\"\n",
        "    if \"POLYVINYL\" in data.upper():\n",
        "        return \"PVC\"\n",
        "    if \"PVC\" in data.upper():\n",
        "        return \"PVC\"\n",
        "    if \"NAN\" in data.upper():\n",
        "        return \"NaN\"\n",
        "    else:\n",
        "        return data"
      ],
      "execution_count": 66,
      "outputs": []
    },
    {
      "cell_type": "markdown",
      "metadata": {
        "id": "ybOsaokEvXE9",
        "colab_type": "text"
      },
      "source": [
        "For practical purpuses, we will make a copy of the DataFrame, \n",
        "then apply the function in each row of the \"properties_Mechanical_Material\" column."
      ]
    },
    {
      "cell_type": "code",
      "metadata": {
        "id": "plRdbEgthiWL",
        "colab_type": "code",
        "colab": {}
      },
      "source": [
        "df2=df\n",
        "df2[\"properties_Mechanical_Material\"]=df2[\"properties_Mechanical_Material\"].apply(lambda x: search(str(x)))\n"
      ],
      "execution_count": 67,
      "outputs": []
    },
    {
      "cell_type": "markdown",
      "metadata": {
        "id": "wOwwSG9NvlL6",
        "colab_type": "text"
      },
      "source": [
        "here is the amount of each material kind"
      ]
    },
    {
      "cell_type": "code",
      "metadata": {
        "id": "iT4kvHHviEZA",
        "colab_type": "code",
        "colab": {
          "base_uri": "https://localhost:8080/",
          "height": 204
        },
        "outputId": "e5e29989-692e-417c-c45c-12e7081bf896"
      },
      "source": [
        "\n",
        "df2[\"properties_Mechanical_Material\"].value_counts()\n"
      ],
      "execution_count": 68,
      "outputs": [
        {
          "output_type": "execute_result",
          "data": {
            "text/plain": [
              "PVC                               1745\n",
              "Carbon Steel                      1737\n",
              "Carbon Steel - ASTM A53 B         1322\n",
              "Copper                            1102\n",
              "CP_PI - Copper - ASTM B88 H.D.     424\n",
              "Steel, Carbon                      121\n",
              "NaN                                 41\n",
              "Black Steel                          4\n",
              "Cast Iron                            2\n",
              "Ductile Iron                         2\n",
              "Name: properties_Mechanical_Material, dtype: int64"
            ]
          },
          "metadata": {
            "tags": []
          },
          "execution_count": 68
        }
      ]
    },
    {
      "cell_type": "markdown",
      "metadata": {
        "id": "RWwVmgDth6Z0",
        "colab_type": "text"
      },
      "source": [
        "Here we can see a graphic of the different amount of each materials:"
      ]
    },
    {
      "cell_type": "markdown",
      "metadata": {
        "id": "kFswPbNH843V",
        "colab_type": "text"
      },
      "source": [
        "# Graphics"
      ]
    },
    {
      "cell_type": "code",
      "metadata": {
        "id": "wPtZ6q2UZydL",
        "colab_type": "code",
        "colab": {
          "base_uri": "https://localhost:8080/",
          "height": 296
        },
        "outputId": "458b412b-e284-45a7-979b-beb63767aa2e"
      },
      "source": [
        "\n",
        "plt.figure(figsize=(20,4))\n",
        "ax=sns.countplot(y=\"properties_Mechanical_Material\",data=df2,order=df2[\"properties_Mechanical_Material\"].value_counts().index)\n",
        "ax.set( ylabel=\"Material\")"
      ],
      "execution_count": 69,
      "outputs": [
        {
          "output_type": "execute_result",
          "data": {
            "text/plain": [
              "[Text(0, 0.5, 'Material')]"
            ]
          },
          "metadata": {
            "tags": []
          },
          "execution_count": 69
        },
        {
          "output_type": "display_data",
          "data": {
            "image/png": "[encoded data removed]",
            "text/plain": [
              "<Figure size 1440x288 with 1 Axes>"
            ]
          },
          "metadata": {
            "tags": [],
            "needs_background": "light"
          }
        }
      ]
    },
    {
      "cell_type": "code",
      "metadata": {
        "id": "BYFuxyS8i3ww",
        "colab_type": "code",
        "colab": {
          "base_uri": "https://localhost:8080/",
          "height": 187
        },
        "outputId": "4ba025cb-814b-465e-da5a-21a9924873cb"
      },
      "source": [
        "df2[\"properties_Mechanical_System Classification\"].value_counts()"
      ],
      "execution_count": 9,
      "outputs": [
        {
          "output_type": "execute_result",
          "data": {
            "text/plain": [
              "Sanitary               1499\n",
              "Hydronic Supply        1496\n",
              "Hydronic Return        1209\n",
              "Domestic Cold Water     716\n",
              "Vent                    417\n",
              "Domestic Hot Water      321\n",
              "Other                   187\n",
              "Fire Protection Dry     116\n",
              "Fire Protection Wet       2\n",
              "Name: properties_Mechanical_System Classification, dtype: int64"
            ]
          },
          "metadata": {
            "tags": []
          },
          "execution_count": 9
        }
      ]
    },
    {
      "cell_type": "markdown",
      "metadata": {
        "id": "l064bxxYqmhp",
        "colab_type": "text"
      },
      "source": [
        "Here we have an graphic of the system"
      ]
    },
    {
      "cell_type": "code",
      "metadata": {
        "id": "x4IMTSsYlD3z",
        "colab_type": "code",
        "colab": {
          "base_uri": "https://localhost:8080/",
          "height": 295
        },
        "outputId": "af61a897-e82b-4d4e-c5f0-ec20d6b17f4b"
      },
      "source": [
        "plt.figure(figsize=(20,4))\n",
        "ax=sns.countplot(y=\"properties_Mechanical_System Classification\",data=df2,order=df2[\"properties_Mechanical_System Classification\"].value_counts().index)\n",
        "ax.set( ylabel=\"System Classification\")"
      ],
      "execution_count": 70,
      "outputs": [
        {
          "output_type": "execute_result",
          "data": {
            "text/plain": [
              "[Text(0, 0.5, 'System Classification')]"
            ]
          },
          "metadata": {
            "tags": []
          },
          "execution_count": 70
        },
        {
          "output_type": "display_data",
          "data": {
            "image/png": "[encoded data removed]",
            "text/plain": [
              "<Figure size 1440x288 with 1 Axes>"
            ]
          },
          "metadata": {
            "tags": [],
            "needs_background": "light"
          }
        }
      ]
    },
    {
      "cell_type": "markdown",
      "metadata": {
        "id": "WaVPOze3952n",
        "colab_type": "text"
      },
      "source": [
        "# Length Edition"
      ]
    },
    {
      "cell_type": "markdown",
      "metadata": {
        "id": "T3BhD3XMvrpr",
        "colab_type": "text"
      },
      "source": [
        "We drop the rows with properties_Dimensions_Length NaN values."
      ]
    },
    {
      "cell_type": "code",
      "metadata": {
        "id": "M75QW1_8neCa",
        "colab_type": "code",
        "colab": {}
      },
      "source": [
        "df3=df2.dropna(axis=0,subset=[\"properties_Dimensions_Length\"])\n"
      ],
      "execution_count": 71,
      "outputs": []
    },
    {
      "cell_type": "markdown",
      "metadata": {
        "id": "JcNUU0BYvwqm",
        "colab_type": "text"
      },
      "source": [
        "Her we start to convert the properties_Dimensions_Length from string to float \n",
        "(we use x.replace(\" ft\",\"\") and x.replace(\"  ft\",\"\"), notice the spaces in each case)\n",
        "\n"
      ]
    },
    {
      "cell_type": "code",
      "metadata": {
        "id": "iNgt0y4mlQti",
        "colab_type": "code",
        "colab": {
          "base_uri": "https://localhost:8080/",
          "height": 212
        },
        "outputId": "3d3c7995-d377-4bfe-b34f-5ce76ceccd3a"
      },
      "source": [
        "df3[\"properties_Dimensions_Length\"]= df3[\"properties_Dimensions_Length\"].apply(lambda x: x.replace(\" ft\",\"\"))\n",
        "df3[\"properties_Dimensions_Length\"]= df3[\"properties_Dimensions_Length\"].apply(lambda x: x.replace(\"  ft\",\"\"))"
      ],
      "execution_count": 72,
      "outputs": [
        {
          "output_type": "stream",
          "text": [
            "/usr/local/lib/python3.6/dist-packages/ipykernel_launcher.py:1: SettingWithCopyWarning: \n",
            "A value is trying to be set on a copy of a slice from a DataFrame.\n",
            "Try using .loc[row_indexer,col_indexer] = value instead\n",
            "\n",
            "See the caveats in the documentation: https://pandas.pydata.org/pandas-docs/stable/user_guide/indexing.html#returning-a-view-versus-a-copy\n",
            "  \"\"\"Entry point for launching an IPython kernel.\n",
            "/usr/local/lib/python3.6/dist-packages/ipykernel_launcher.py:2: SettingWithCopyWarning: \n",
            "A value is trying to be set on a copy of a slice from a DataFrame.\n",
            "Try using .loc[row_indexer,col_indexer] = value instead\n",
            "\n",
            "See the caveats in the documentation: https://pandas.pydata.org/pandas-docs/stable/user_guide/indexing.html#returning-a-view-versus-a-copy\n",
            "  \n"
          ],
          "name": "stderr"
        }
      ]
    },
    {
      "cell_type": "code",
      "metadata": {
        "id": "kHkyOp41o4ai",
        "colab_type": "code",
        "colab": {
          "base_uri": "https://localhost:8080/",
          "height": 115
        },
        "outputId": "d1e170fc-66d6-4f35-d913-d223d6d2543d"
      },
      "source": [
        "df3[\"properties_Dimensions_Length\"]= df3[\"properties_Dimensions_Length\"].apply(lambda x: float(x))"
      ],
      "execution_count": 73,
      "outputs": [
        {
          "output_type": "stream",
          "text": [
            "/usr/local/lib/python3.6/dist-packages/ipykernel_launcher.py:1: SettingWithCopyWarning: \n",
            "A value is trying to be set on a copy of a slice from a DataFrame.\n",
            "Try using .loc[row_indexer,col_indexer] = value instead\n",
            "\n",
            "See the caveats in the documentation: https://pandas.pydata.org/pandas-docs/stable/user_guide/indexing.html#returning-a-view-versus-a-copy\n",
            "  \"\"\"Entry point for launching an IPython kernel.\n"
          ],
          "name": "stderr"
        }
      ]
    },
    {
      "cell_type": "markdown",
      "metadata": {
        "id": "ZDqTjUIQ-TO0",
        "colab_type": "text"
      },
      "source": [
        "# Size Edition"
      ]
    },
    {
      "cell_type": "markdown",
      "metadata": {
        "id": "SDSSSckRv-Nv",
        "colab_type": "text"
      },
      "source": [
        "we are analazing pipes, so we know that the dimensions Sizes are the diameter sizes. Then we can see that because a Size has the diameter simbol, creates another dimension. So we will take of the diameter simbol of all the column."
      ]
    },
    {
      "cell_type": "code",
      "metadata": {
        "id": "LGjqjizjo7Xx",
        "colab_type": "code",
        "colab": {
          "base_uri": "https://localhost:8080/",
          "height": 119
        },
        "outputId": "32854cfb-934c-4824-a554-fb8eefa5ec7b"
      },
      "source": [
        "df3[\"properties_Dimensions_Size\"].value_counts().head(5)"
      ],
      "execution_count": 74,
      "outputs": [
        {
          "output_type": "execute_result",
          "data": {
            "text/plain": [
              "2\"     643\n",
              "4\"ø    612\n",
              "6\"ø    549\n",
              "4\"     522\n",
              "3\"     436\n",
              "Name: properties_Dimensions_Size, dtype: int64"
            ]
          },
          "metadata": {
            "tags": []
          },
          "execution_count": 74
        }
      ]
    },
    {
      "cell_type": "code",
      "metadata": {
        "id": "CPl-4Ya6qSIj",
        "colab_type": "code",
        "colab": {
          "base_uri": "https://localhost:8080/",
          "height": 119
        },
        "outputId": "df161de3-ad76-4263-faa0-3f0828bb323b"
      },
      "source": [
        "df3[\"properties_Dimensions_Size\"]= df3[\"properties_Dimensions_Size\"].apply(lambda x: x.replace(\"ø\",\"\"))"
      ],
      "execution_count": 75,
      "outputs": [
        {
          "output_type": "stream",
          "text": [
            "/usr/local/lib/python3.6/dist-packages/ipykernel_launcher.py:1: SettingWithCopyWarning: \n",
            "A value is trying to be set on a copy of a slice from a DataFrame.\n",
            "Try using .loc[row_indexer,col_indexer] = value instead\n",
            "\n",
            "See the caveats in the documentation: https://pandas.pydata.org/pandas-docs/stable/user_guide/indexing.html#returning-a-view-versus-a-copy\n",
            "  \"\"\"Entry point for launching an IPython kernel.\n"
          ],
          "name": "stderr"
        }
      ]
    },
    {
      "cell_type": "markdown",
      "metadata": {
        "id": "2na5JNpnwHjp",
        "colab_type": "text"
      },
      "source": [
        "Here we eliminate any leading and trailing whitespaces"
      ]
    },
    {
      "cell_type": "code",
      "metadata": {
        "id": "5oBxJ0zxsBcc",
        "colab_type": "code",
        "colab": {
          "base_uri": "https://localhost:8080/",
          "height": 119
        },
        "outputId": "37a8d0ad-59d7-485e-c6b0-af341bb10fd5"
      },
      "source": [
        "df3[\"properties_Dimensions_Size\"]= df3[\"properties_Dimensions_Size\"].apply(lambda x: x.strip())"
      ],
      "execution_count": 76,
      "outputs": [
        {
          "output_type": "stream",
          "text": [
            "/usr/local/lib/python3.6/dist-packages/ipykernel_launcher.py:1: SettingWithCopyWarning: \n",
            "A value is trying to be set on a copy of a slice from a DataFrame.\n",
            "Try using .loc[row_indexer,col_indexer] = value instead\n",
            "\n",
            "See the caveats in the documentation: https://pandas.pydata.org/pandas-docs/stable/user_guide/indexing.html#returning-a-view-versus-a-copy\n",
            "  \"\"\"Entry point for launching an IPython kernel.\n"
          ],
          "name": "stderr"
        }
      ]
    },
    {
      "cell_type": "code",
      "metadata": {
        "id": "cU7zWrMusOSS",
        "colab_type": "code",
        "colab": {
          "base_uri": "https://localhost:8080/",
          "height": 357
        },
        "outputId": "6a9d3444-cd1a-42d6-ba69-a43bac602af3"
      },
      "source": [
        "df3[\"properties_Dimensions_Size\"].value_counts()"
      ],
      "execution_count": 77,
      "outputs": [
        {
          "output_type": "execute_result",
          "data": {
            "text/plain": [
              "4\"        1152\n",
              "2\"         843\n",
              "3/4\"       745\n",
              "6\"         719\n",
              "3\"         704\n",
              "1\"         598\n",
              "2 1/2\"     340\n",
              "1 1/2\"     310\n",
              "1 1/4\"     309\n",
              "1/2\"       241\n",
              "16\"        146\n",
              "14\"         96\n",
              "8\"          88\n",
              "12\"         64\n",
              "10\"         60\n",
              "5\"          22\n",
              "30\"         22\n",
              "1 3/8\"       2\n",
              "36\"          2\n",
              "Name: properties_Dimensions_Size, dtype: int64"
            ]
          },
          "metadata": {
            "tags": []
          },
          "execution_count": 77
        }
      ]
    },
    {
      "cell_type": "code",
      "metadata": {
        "id": "m17CZx9CpzrU",
        "colab_type": "code",
        "colab": {
          "base_uri": "https://localhost:8080/",
          "height": 299
        },
        "outputId": "4ffaad16-e66e-43c5-f8a3-b6cd6891c17d"
      },
      "source": [
        "plt.figure(figsize=(20,4))\n",
        "ax=sns.countplot(x=\"properties_Dimensions_Size\",data=df3,order=df3[\"properties_Dimensions_Size\"].value_counts().index)\n",
        "ax.set( xlabel= \"Dimensions Size\")"
      ],
      "execution_count": 78,
      "outputs": [
        {
          "output_type": "execute_result",
          "data": {
            "text/plain": [
              "[Text(0.5, 0, 'Dimensions Size')]"
            ]
          },
          "metadata": {
            "tags": []
          },
          "execution_count": 78
        },
        {
          "output_type": "display_data",
          "data": {
            "image/png": "[encoded data removed]",
            "text/plain": [
              "<Figure size 1440x288 with 1 Axes>"
            ]
          },
          "metadata": {
            "tags": [],
            "needs_background": "light"
          }
        }
      ]
    },
    {
      "cell_type": "markdown",
      "metadata": {
        "id": "ujOqPXMD-hTc",
        "colab_type": "text"
      },
      "source": [
        "# Enlist Materials"
      ]
    },
    {
      "cell_type": "markdown",
      "metadata": {
        "id": "RC1L-PFYwRVk",
        "colab_type": "text"
      },
      "source": [
        "The \"\"properties_Mechanical_Material\" are 10 different types. Our target of inference will be the differents kinds of materials"
      ]
    },
    {
      "cell_type": "code",
      "metadata": {
        "id": "3k5FOAuKzDk-",
        "colab_type": "code",
        "colab": {
          "base_uri": "https://localhost:8080/",
          "height": 85
        },
        "outputId": "7dec5947-8e01-4817-f69c-40ba39f624b0"
      },
      "source": [
        " lista = df3[\"properties_Mechanical_Material\"].unique()\n",
        "lista"
      ],
      "execution_count": 79,
      "outputs": [
        {
          "output_type": "execute_result",
          "data": {
            "text/plain": [
              "array(['Copper', 'Steel, Carbon', 'NaN', 'PVC',\n",
              "       'CP_PI - Copper - ASTM B88 H.D.', 'Carbon Steel - ASTM A53 B',\n",
              "       'Cast Iron', 'Black Steel', 'Carbon Steel', 'Ductile Iron'],\n",
              "      dtype=object)"
            ]
          },
          "metadata": {
            "tags": []
          },
          "execution_count": 79
        }
      ]
    },
    {
      "cell_type": "markdown",
      "metadata": {
        "id": "i_J6RFunyEKN",
        "colab_type": "text"
      },
      "source": [
        "Set a number designator to all properties_Mechanical_System Classification"
      ]
    },
    {
      "cell_type": "code",
      "metadata": {
        "id": "z6Kv2FqT4lPJ",
        "colab_type": "code",
        "colab": {}
      },
      "source": [
        "dicc={}\n",
        "i=0\n",
        "for i in range(0,10):\n",
        "  dicc[lista[i]]=i"
      ],
      "execution_count": 80,
      "outputs": []
    },
    {
      "cell_type": "markdown",
      "metadata": {
        "id": "QiZ6DhR8yJjX",
        "colab_type": "text"
      },
      "source": [
        "we create a column with this designation"
      ]
    },
    {
      "cell_type": "code",
      "metadata": {
        "id": "QrHPPEAY7HLW",
        "colab_type": "code",
        "colab": {
          "base_uri": "https://localhost:8080/",
          "height": 115
        },
        "outputId": "1b13180d-a918-4ea1-e548-93bed613aa75"
      },
      "source": [
        "df3[\"Material_Number\"]=df3[\"properties_Mechanical_Material\"].apply(lambda x: dicc[x])"
      ],
      "execution_count": 81,
      "outputs": [
        {
          "output_type": "stream",
          "text": [
            "/usr/local/lib/python3.6/dist-packages/ipykernel_launcher.py:1: SettingWithCopyWarning: \n",
            "A value is trying to be set on a copy of a slice from a DataFrame.\n",
            "Try using .loc[row_indexer,col_indexer] = value instead\n",
            "\n",
            "See the caveats in the documentation: https://pandas.pydata.org/pandas-docs/stable/user_guide/indexing.html#returning-a-view-versus-a-copy\n",
            "  \"\"\"Entry point for launching an IPython kernel.\n"
          ],
          "name": "stderr"
        }
      ]
    },
    {
      "cell_type": "markdown",
      "metadata": {
        "id": "I6s_CtQc-24D",
        "colab_type": "text"
      },
      "source": [
        "# Dummies Data"
      ]
    },
    {
      "cell_type": "markdown",
      "metadata": {
        "id": "t7saSN21yTX-",
        "colab_type": "text"
      },
      "source": [
        "Then we get the dummies properties_Dimensions_Size and properties Mechanical System Classification"
      ]
    },
    {
      "cell_type": "code",
      "metadata": {
        "id": "AmyPgZCRAvew",
        "colab_type": "code",
        "colab": {
          "base_uri": "https://localhost:8080/",
          "height": 33
        },
        "outputId": "ba3db30c-258c-45d7-a09e-0ab500e07502"
      },
      "source": [
        "df3[\"properties_Dimensions_Size\"].nunique()"
      ],
      "execution_count": 82,
      "outputs": [
        {
          "output_type": "execute_result",
          "data": {
            "text/plain": [
              "19"
            ]
          },
          "metadata": {
            "tags": []
          },
          "execution_count": 82
        }
      ]
    },
    {
      "cell_type": "code",
      "metadata": {
        "id": "9ycVwcKjCgvR",
        "colab_type": "code",
        "colab": {}
      },
      "source": [
        "classification= pd.get_dummies(df3[\"properties_Mechanical_System Classification\"])\n"
      ],
      "execution_count": 83,
      "outputs": []
    },
    {
      "cell_type": "code",
      "metadata": {
        "id": "vqO2WjXXC68e",
        "colab_type": "code",
        "colab": {}
      },
      "source": [
        "Dimensions_Size= pd.get_dummies(df3[\"properties_Dimensions_Size\"])\n"
      ],
      "execution_count": 84,
      "outputs": []
    },
    {
      "cell_type": "code",
      "metadata": {
        "id": "iDwJ9-vADJn-",
        "colab_type": "code",
        "colab": {}
      },
      "source": [
        "df4 = pd.concat([df3,classification,Dimensions_Size],axis=1)"
      ],
      "execution_count": 25,
      "outputs": []
    },
    {
      "cell_type": "markdown",
      "metadata": {
        "id": "Km2r9PUNyahz",
        "colab_type": "text"
      },
      "source": [
        "We eliminate some columns that we will not use "
      ]
    },
    {
      "cell_type": "code",
      "metadata": {
        "id": "pZk1FdqEDb71",
        "colab_type": "code",
        "colab": {}
      },
      "source": [
        "droplist=[\"Category\",\"properties_Mechanical_System Classification\",\"properties_Mechanical_Material\"\n",
        ",\"properties_Dimensions_Size\", \"projectId\", \"modelId\",\"_id.$oid\"]\n",
        "df5=df4.drop(droplist, axis=1)"
      ],
      "execution_count": 425,
      "outputs": []
    },
    {
      "cell_type": "code",
      "metadata": {
        "id": "stq6cB-oDdfN",
        "colab_type": "code",
        "colab": {
          "base_uri": "https://localhost:8080/",
          "height": 186
        },
        "outputId": "e3613a35-6580-4a31-9d3c-0cdc744a1dc4"
      },
      "source": [
        "df5.head(3)"
      ],
      "execution_count": 426,
      "outputs": [
        {
          "output_type": "execute_result",
          "data": {
            "text/html": [
              "<div>\n",
              "<style scoped>\n",
              "    .dataframe tbody tr th:only-of-type {\n",
              "        vertical-align: middle;\n",
              "    }\n",
              "\n",
              "    .dataframe tbody tr th {\n",
              "        vertical-align: top;\n",
              "    }\n",
              "\n",
              "    .dataframe thead th {\n",
              "        text-align: right;\n",
              "    }\n",
              "</style>\n",
              "<table border=\"1\" class=\"dataframe\">\n",
              "  <thead>\n",
              "    <tr style=\"text-align: right;\">\n",
              "      <th></th>\n",
              "      <th>properties_Dimensions_Length</th>\n",
              "      <th>Material_Number</th>\n",
              "      <th>Domestic Cold Water</th>\n",
              "      <th>Domestic Hot Water</th>\n",
              "      <th>Fire Protection Dry</th>\n",
              "      <th>Fire Protection Wet</th>\n",
              "      <th>Hydronic Return</th>\n",
              "      <th>Hydronic Supply</th>\n",
              "      <th>Other</th>\n",
              "      <th>Sanitary</th>\n",
              "      <th>Vent</th>\n",
              "      <th>1 1/2\"</th>\n",
              "      <th>1 1/4\"</th>\n",
              "      <th>1 3/8\"</th>\n",
              "      <th>1\"</th>\n",
              "      <th>1/2\"</th>\n",
              "      <th>10\"</th>\n",
              "      <th>12\"</th>\n",
              "      <th>14\"</th>\n",
              "      <th>16\"</th>\n",
              "      <th>2 1/2\"</th>\n",
              "      <th>2\"</th>\n",
              "      <th>3\"</th>\n",
              "      <th>3/4\"</th>\n",
              "      <th>4\"</th>\n",
              "      <th>5\"</th>\n",
              "      <th>6\"</th>\n",
              "      <th>8\"</th>\n",
              "    </tr>\n",
              "  </thead>\n",
              "  <tbody>\n",
              "    <tr>\n",
              "      <th>2</th>\n",
              "      <td>0.398</td>\n",
              "      <td>0</td>\n",
              "      <td>0</td>\n",
              "      <td>0</td>\n",
              "      <td>0</td>\n",
              "      <td>0</td>\n",
              "      <td>0</td>\n",
              "      <td>0</td>\n",
              "      <td>0</td>\n",
              "      <td>1</td>\n",
              "      <td>0</td>\n",
              "      <td>0</td>\n",
              "      <td>0</td>\n",
              "      <td>0</td>\n",
              "      <td>0</td>\n",
              "      <td>0</td>\n",
              "      <td>0</td>\n",
              "      <td>0</td>\n",
              "      <td>0</td>\n",
              "      <td>0</td>\n",
              "      <td>1</td>\n",
              "      <td>0</td>\n",
              "      <td>0</td>\n",
              "      <td>0</td>\n",
              "      <td>0</td>\n",
              "      <td>0</td>\n",
              "      <td>0</td>\n",
              "      <td>0</td>\n",
              "    </tr>\n",
              "    <tr>\n",
              "      <th>4</th>\n",
              "      <td>2.536</td>\n",
              "      <td>1</td>\n",
              "      <td>0</td>\n",
              "      <td>0</td>\n",
              "      <td>0</td>\n",
              "      <td>0</td>\n",
              "      <td>0</td>\n",
              "      <td>0</td>\n",
              "      <td>0</td>\n",
              "      <td>1</td>\n",
              "      <td>0</td>\n",
              "      <td>0</td>\n",
              "      <td>0</td>\n",
              "      <td>0</td>\n",
              "      <td>0</td>\n",
              "      <td>0</td>\n",
              "      <td>0</td>\n",
              "      <td>0</td>\n",
              "      <td>0</td>\n",
              "      <td>0</td>\n",
              "      <td>1</td>\n",
              "      <td>0</td>\n",
              "      <td>0</td>\n",
              "      <td>0</td>\n",
              "      <td>0</td>\n",
              "      <td>0</td>\n",
              "      <td>0</td>\n",
              "      <td>0</td>\n",
              "    </tr>\n",
              "    <tr>\n",
              "      <th>5</th>\n",
              "      <td>0.031</td>\n",
              "      <td>2</td>\n",
              "      <td>0</td>\n",
              "      <td>0</td>\n",
              "      <td>0</td>\n",
              "      <td>0</td>\n",
              "      <td>0</td>\n",
              "      <td>0</td>\n",
              "      <td>0</td>\n",
              "      <td>1</td>\n",
              "      <td>0</td>\n",
              "      <td>0</td>\n",
              "      <td>0</td>\n",
              "      <td>0</td>\n",
              "      <td>0</td>\n",
              "      <td>0</td>\n",
              "      <td>0</td>\n",
              "      <td>0</td>\n",
              "      <td>0</td>\n",
              "      <td>0</td>\n",
              "      <td>1</td>\n",
              "      <td>0</td>\n",
              "      <td>0</td>\n",
              "      <td>0</td>\n",
              "      <td>0</td>\n",
              "      <td>0</td>\n",
              "      <td>0</td>\n",
              "      <td>0</td>\n",
              "    </tr>\n",
              "  </tbody>\n",
              "</table>\n",
              "</div>"
            ],
            "text/plain": [
              "   properties_Dimensions_Length  Material_Number  ...  6\"  8\"\n",
              "2                         0.398                0  ...   0   0\n",
              "4                         2.536                1  ...   0   0\n",
              "5                         0.031                2  ...   0   0\n",
              "\n",
              "[3 rows x 28 columns]"
            ]
          },
          "metadata": {
            "tags": []
          },
          "execution_count": 426
        }
      ]
    },
    {
      "cell_type": "markdown",
      "metadata": {
        "id": "nI1P23i8_QeH",
        "colab_type": "text"
      },
      "source": [
        "# Train Test Split"
      ]
    },
    {
      "cell_type": "markdown",
      "metadata": {
        "id": "W96izbzx0jOk",
        "colab_type": "text"
      },
      "source": [
        "Here we define the size of our test size. We will use a 30% of the download data"
      ]
    },
    {
      "cell_type": "code",
      "metadata": {
        "id": "M5QHgzA_E6uo",
        "colab_type": "code",
        "colab": {}
      },
      "source": [
        "X = df5.drop('Material_Number',axis=1)\n",
        "y = df5['Material_Number']\n",
        "X_train, X_test, y_train, y_test = train_test_split(X, y, test_size=0.1, random_state=101)"
      ],
      "execution_count": 428,
      "outputs": []
    },
    {
      "cell_type": "markdown",
      "metadata": {
        "id": "u20TPA6H_hFo",
        "colab_type": "text"
      },
      "source": [
        "# Model Fit"
      ]
    },
    {
      "cell_type": "markdown",
      "metadata": {
        "id": "9xInldBn0zXE",
        "colab_type": "text"
      },
      "source": [
        " Here we train our Random Forest"
      ]
    },
    {
      "cell_type": "code",
      "metadata": {
        "id": "ByAQB0N0GTun",
        "colab_type": "code",
        "colab": {
          "base_uri": "https://localhost:8080/",
          "height": 147
        },
        "outputId": "9fb033da-01ed-4be5-e723-4e768cb280c1"
      },
      "source": [
        "rfc = RandomForestClassifier(n_estimators=200)\n",
        "rfc.fit(X_train,y_train)"
      ],
      "execution_count": 429,
      "outputs": [
        {
          "output_type": "execute_result",
          "data": {
            "text/plain": [
              "RandomForestClassifier(bootstrap=True, ccp_alpha=0.0, class_weight=None,\n",
              "                       criterion='gini', max_depth=None, max_features='auto',\n",
              "                       max_leaf_nodes=None, max_samples=None,\n",
              "                       min_impurity_decrease=0.0, min_impurity_split=None,\n",
              "                       min_samples_leaf=1, min_samples_split=2,\n",
              "                       min_weight_fraction_leaf=0.0, n_estimators=200,\n",
              "                       n_jobs=None, oob_score=False, random_state=None,\n",
              "                       verbose=0, warm_start=False)"
            ]
          },
          "metadata": {
            "tags": []
          },
          "execution_count": 429
        }
      ]
    },
    {
      "cell_type": "markdown",
      "metadata": {
        "id": "ADnCoczu_5sZ",
        "colab_type": "text"
      },
      "source": [
        "# Predictions"
      ]
    },
    {
      "cell_type": "code",
      "metadata": {
        "id": "YN89tZcuGqGP",
        "colab_type": "code",
        "colab": {
          "base_uri": "https://localhost:8080/",
          "height": 228
        },
        "outputId": "adfcf184-7f00-4383-ccd7-1cf183471366"
      },
      "source": [
        "\n",
        "predictions = rfc.predict(X_test)\n",
        "from sklearn.metrics import classification_report,confusion_matrix\n",
        "print(classification_report(y_test,predictions))\n"
      ],
      "execution_count": 430,
      "outputs": [
        {
          "output_type": "stream",
          "text": [
            "              precision    recall  f1-score   support\n",
            "\n",
            "           0       0.92      0.84      0.88       116\n",
            "           1       1.00      1.00      1.00         6\n",
            "           3       0.99      0.98      0.99       173\n",
            "           4       0.77      0.94      0.85        47\n",
            "           5       1.00      0.99      0.99       138\n",
            "           8       0.95      0.97      0.96       117\n",
            "\n",
            "    accuracy                           0.95       597\n",
            "   macro avg       0.94      0.95      0.94       597\n",
            "weighted avg       0.95      0.95      0.95       597\n",
            "\n"
          ],
          "name": "stdout"
        }
      ]
    },
    {
      "cell_type": "markdown",
      "metadata": {
        "id": "1s3ak8f7AA_5",
        "colab_type": "text"
      },
      "source": [
        "# Dispersion Analysis"
      ]
    },
    {
      "cell_type": "markdown",
      "metadata": {
        "id": "jlEJIXkl-6mr",
        "colab_type": "text"
      },
      "source": [
        "Here we compare the Mean Absolute error of the inferences made with and without consider the lenghts of the pipes.\n",
        "\n",
        "-With Pipe Lengths MAE= 0.23\n",
        "\n",
        "-Without Pipe Lengths MAE= 0.69\n",
        "\n",
        "So we note that the lengths give us more dispersion, and we will take off from the inference"
      ]
    },
    {
      "cell_type": "code",
      "metadata": {
        "id": "hRD3rOERGxMO",
        "colab_type": "code",
        "colab": {
          "base_uri": "https://localhost:8080/",
          "height": 33
        },
        "outputId": "c6fb22d5-057a-4af4-e323-0c94f1599c7d"
      },
      "source": [
        "score = mean_absolute_error(y_test,predictions)\n",
        "print('MAE:', score)"
      ],
      "execution_count": 431,
      "outputs": [
        {
          "output_type": "stream",
          "text": [
            "MAE: 0.23618090452261306\n"
          ],
          "name": "stdout"
        }
      ]
    },
    {
      "cell_type": "markdown",
      "metadata": {
        "id": "RQ5L0J7SBW7q",
        "colab_type": "text"
      },
      "source": [
        "# Sección nueva"
      ]
    },
    {
      "cell_type": "code",
      "metadata": {
        "id": "KbQCE_M6G8yH",
        "colab_type": "code",
        "colab": {
          "base_uri": "https://localhost:8080/",
          "height": 180
        },
        "outputId": "8436bc89-469e-47ae-b981-e9c5f87a64d9"
      },
      "source": [
        "dicc"
      ],
      "execution_count": 143,
      "outputs": [
        {
          "output_type": "execute_result",
          "data": {
            "text/plain": [
              "{'Black Steel': 7,\n",
              " 'CP_PI - Copper - ASTM B88 H.D.': 4,\n",
              " 'Carbon Steel': 8,\n",
              " 'Carbon Steel - ASTM A53 B': 5,\n",
              " 'Cast Iron': 6,\n",
              " 'Copper': 0,\n",
              " 'Ductile Iron': 9,\n",
              " 'NaN': 2,\n",
              " 'PVC': 3,\n",
              " 'Steel, Carbon': 1}"
            ]
          },
          "metadata": {
            "tags": []
          },
          "execution_count": 143
        }
      ]
    },
    {
      "cell_type": "markdown",
      "metadata": {
        "id": "ZWXHDM-5A9CL",
        "colab_type": "text"
      },
      "source": [
        "# Download the Data (second part)"
      ]
    },
    {
      "cell_type": "code",
      "metadata": {
        "id": "kh3hXCHy1Hc3",
        "colab_type": "code",
        "colab": {}
      },
      "source": [
        "\n",
        "jsonfile2= urllib.request.urlopen(\"http://3.14.88.102:5000/api/1/elements/pipes/?limit=6500\").read().decode()\n",
        "j2=json.loads(jsonfile2)"
      ],
      "execution_count": 146,
      "outputs": []
    },
    {
      "cell_type": "code",
      "metadata": {
        "id": "ixwG52fJAro0",
        "colab_type": "code",
        "colab": {
          "base_uri": "https://localhost:8080/",
          "height": 316
        },
        "outputId": "de54c49f-73e1-467d-8817-867472f4bb93"
      },
      "source": [
        "dataf= pd.json_normalize(j2)\n",
        "dataf.head(3)"
      ],
      "execution_count": 147,
      "outputs": [
        {
          "output_type": "execute_result",
          "data": {
            "text/html": [
              "<div>\n",
              "<style scoped>\n",
              "    .dataframe tbody tr th:only-of-type {\n",
              "        vertical-align: middle;\n",
              "    }\n",
              "\n",
              "    .dataframe tbody tr th {\n",
              "        vertical-align: top;\n",
              "    }\n",
              "\n",
              "    .dataframe thead th {\n",
              "        text-align: right;\n",
              "    }\n",
              "</style>\n",
              "<table border=\"1\" class=\"dataframe\">\n",
              "  <thead>\n",
              "    <tr style=\"text-align: right;\">\n",
              "      <th></th>\n",
              "      <th>projectId</th>\n",
              "      <th>Category</th>\n",
              "      <th>modelId</th>\n",
              "      <th>_id.$oid</th>\n",
              "      <th>properties_Dimensions_Length</th>\n",
              "      <th>properties_Dimensions_Size</th>\n",
              "      <th>properties_Mechanical_Material</th>\n",
              "      <th>properties_Mechanical_System Classification</th>\n",
              "    </tr>\n",
              "  </thead>\n",
              "  <tbody>\n",
              "    <tr>\n",
              "      <th>0</th>\n",
              "      <td>b.c94f85e5-88fb-402c-bc60-72622f5f85b6</td>\n",
              "      <td>Pipes</td>\n",
              "      <td>d4ea3308-4b3f-d382-cacb-9791f772042b</td>\n",
              "      <td>5eee8651cb573f2fc2216a82</td>\n",
              "      <td>NaN</td>\n",
              "      <td>NaN</td>\n",
              "      <td>NaN</td>\n",
              "      <td>NaN</td>\n",
              "    </tr>\n",
              "    <tr>\n",
              "      <th>1</th>\n",
              "      <td>b.c94f85e5-88fb-402c-bc60-72622f5f85b6</td>\n",
              "      <td>Pipes</td>\n",
              "      <td>d4ea3308-4b3f-d382-cacb-9791f772042b</td>\n",
              "      <td>5eee8651cb573f2fc2216a83</td>\n",
              "      <td>NaN</td>\n",
              "      <td>NaN</td>\n",
              "      <td>NaN</td>\n",
              "      <td>NaN</td>\n",
              "    </tr>\n",
              "    <tr>\n",
              "      <th>2</th>\n",
              "      <td>b.c94f85e5-88fb-402c-bc60-72622f5f85b6</td>\n",
              "      <td>Pipes</td>\n",
              "      <td>d4ea3308-4b3f-d382-cacb-9791f772042b</td>\n",
              "      <td>5eee8651cb573f2fc2216a84</td>\n",
              "      <td>0.398 ft</td>\n",
              "      <td>2 1/2\"</td>\n",
              "      <td>Copper</td>\n",
              "      <td>Sanitary</td>\n",
              "    </tr>\n",
              "  </tbody>\n",
              "</table>\n",
              "</div>"
            ],
            "text/plain": [
              "                                projectId  ... properties_Mechanical_System Classification\n",
              "0  b.c94f85e5-88fb-402c-bc60-72622f5f85b6  ...                                         NaN\n",
              "1  b.c94f85e5-88fb-402c-bc60-72622f5f85b6  ...                                         NaN\n",
              "2  b.c94f85e5-88fb-402c-bc60-72622f5f85b6  ...                                    Sanitary\n",
              "\n",
              "[3 rows x 8 columns]"
            ]
          },
          "metadata": {
            "tags": []
          },
          "execution_count": 147
        }
      ]
    },
    {
      "cell_type": "markdown",
      "metadata": {
        "id": "M6xIdn7aBZjF",
        "colab_type": "text"
      },
      "source": [
        "# Data to Infer"
      ]
    },
    {
      "cell_type": "markdown",
      "metadata": {
        "id": "pPjeCVg8CdM8",
        "colab_type": "text"
      },
      "source": [
        "For a given Item, we infer what material it could be. In this case we toke the 100th elemnt"
      ]
    },
    {
      "cell_type": "code",
      "metadata": {
        "id": "pZV4-99kBWSr",
        "colab_type": "code",
        "colab": {
          "base_uri": "https://localhost:8080/",
          "height": 161
        },
        "outputId": "1fa92694-1a80-4d5d-a2e6-999cee0a0717"
      },
      "source": [
        "eli=dataf.iloc[100].to_frame().T\n",
        "#First individualizate the elemnt\n",
        "eli\n"
      ],
      "execution_count": 482,
      "outputs": [
        {
          "output_type": "execute_result",
          "data": {
            "text/html": [
              "<div>\n",
              "<style scoped>\n",
              "    .dataframe tbody tr th:only-of-type {\n",
              "        vertical-align: middle;\n",
              "    }\n",
              "\n",
              "    .dataframe tbody tr th {\n",
              "        vertical-align: top;\n",
              "    }\n",
              "\n",
              "    .dataframe thead th {\n",
              "        text-align: right;\n",
              "    }\n",
              "</style>\n",
              "<table border=\"1\" class=\"dataframe\">\n",
              "  <thead>\n",
              "    <tr style=\"text-align: right;\">\n",
              "      <th></th>\n",
              "      <th>projectId</th>\n",
              "      <th>Category</th>\n",
              "      <th>modelId</th>\n",
              "      <th>_id.$oid</th>\n",
              "      <th>properties_Dimensions_Length</th>\n",
              "      <th>properties_Dimensions_Size</th>\n",
              "      <th>properties_Mechanical_Material</th>\n",
              "      <th>properties_Mechanical_System Classification</th>\n",
              "    </tr>\n",
              "  </thead>\n",
              "  <tbody>\n",
              "    <tr>\n",
              "      <th>100</th>\n",
              "      <td>b.c94f85e5-88fb-402c-bc60-72622f5f85b6</td>\n",
              "      <td>Pipes</td>\n",
              "      <td>d4ea3308-4b3f-d382-cacb-9791f772042b</td>\n",
              "      <td>5eee866fcb573f2fc2216e7e</td>\n",
              "      <td>4.083 ft</td>\n",
              "      <td>4\"</td>\n",
              "      <td>Polyvinyl Chloride - Rigid</td>\n",
              "      <td>Sanitary</td>\n",
              "    </tr>\n",
              "  </tbody>\n",
              "</table>\n",
              "</div>"
            ],
            "text/plain": [
              "                                  projectId  ... properties_Mechanical_System Classification\n",
              "100  b.c94f85e5-88fb-402c-bc60-72622f5f85b6  ...                                    Sanitary\n",
              "\n",
              "[1 rows x 8 columns]"
            ]
          },
          "metadata": {
            "tags": []
          },
          "execution_count": 482
        }
      ]
    },
    {
      "cell_type": "markdown",
      "metadata": {
        "id": "q8dCDF9NEFRc",
        "colab_type": "text"
      },
      "source": [
        "here we make a dictionary with the size, classification and Length elements"
      ]
    },
    {
      "cell_type": "code",
      "metadata": {
        "id": "DuTCS_ceD_sn",
        "colab_type": "code",
        "colab": {
          "base_uri": "https://localhost:8080/",
          "height": 33
        },
        "outputId": "e1233124-284c-484e-c626-95414294b202"
      },
      "source": [
        "\n",
        "def search_title(var):\n",
        "  i=0\n",
        "  values={}\n",
        "\n",
        "  Ele=var.iloc[0].index.nunique()\n",
        "  for i in range(0,Ele):\n",
        "    value=var.iloc[0].index[i].upper()\n",
        "    if \"SIZE\" in value:\n",
        "        values[\"Size\"]=var.iloc[0][i]\n",
        "\n",
        "    if \"CLASSIFICATION\" in value:\n",
        "        values[\"Classification\"]=var.iloc[0][i]\n",
        "\n",
        "    if \"LENGTH\" in value:\n",
        "        values[\"Length\"]=var.iloc[0][i]\n",
        "  return values\n",
        "\n",
        "item=search_title(eli)\n",
        "item\n"
      ],
      "execution_count": 488,
      "outputs": [
        {
          "output_type": "execute_result",
          "data": {
            "text/plain": [
              "{'Classification': 'Sanitary', 'Length': '4.083 ft', 'Size': '4\"'}"
            ]
          },
          "metadata": {
            "tags": []
          },
          "execution_count": 488
        }
      ]
    },
    {
      "cell_type": "markdown",
      "metadata": {
        "id": "o_bjDiSTVuh7",
        "colab_type": "text"
      },
      "source": [
        "Edit the Size format"
      ]
    },
    {
      "cell_type": "code",
      "metadata": {
        "id": "1ZSlohL8UMsG",
        "colab_type": "code",
        "colab": {
          "base_uri": "https://localhost:8080/",
          "height": 33
        },
        "outputId": "5b72fec0-e67a-4644-8418-0ff9b8398137"
      },
      "source": [
        "item[\"Size\"]=item[\"Size\"].replace(\"ø\",\"\")\n",
        "item[\"Size\"]=item[\"Size\"].strip()\n",
        "item[\"Size\"]"
      ],
      "execution_count": 489,
      "outputs": [
        {
          "output_type": "execute_result",
          "data": {
            "text/plain": [
              "'4\"'"
            ]
          },
          "metadata": {
            "tags": []
          },
          "execution_count": 489
        }
      ]
    },
    {
      "cell_type": "markdown",
      "metadata": {
        "id": "TLijGJU_8pLS",
        "colab_type": "text"
      },
      "source": [
        "Edit the Lenght format"
      ]
    },
    {
      "cell_type": "code",
      "metadata": {
        "id": "eHBwp1wJ6a0J",
        "colab_type": "code",
        "colab": {
          "base_uri": "https://localhost:8080/",
          "height": 33
        },
        "outputId": "960b50dd-9127-4e4e-f4a2-67742fccb9ca"
      },
      "source": [
        "item[\"Length\"]=item[\"Length\"].replace(\" ft\",\"\")\n",
        "item[\"Length\"]=item[\"Length\"].replace(\"  ft\",\"\")\n",
        "item[\"Length\"]\n",
        "item[\"Length\"]"
      ],
      "execution_count": 490,
      "outputs": [
        {
          "output_type": "execute_result",
          "data": {
            "text/plain": [
              "'4.083'"
            ]
          },
          "metadata": {
            "tags": []
          },
          "execution_count": 490
        }
      ]
    },
    {
      "cell_type": "code",
      "metadata": {
        "id": "Sw-nEZKZZfPs",
        "colab_type": "code",
        "colab": {}
      },
      "source": [
        "pro=df5.columns.to_frame(index=True).T\n",
        "pro.drop(labels=0,axis=0,inplace=True)"
      ],
      "execution_count": 473,
      "outputs": []
    },
    {
      "cell_type": "code",
      "metadata": {
        "id": "OI5EqKD2sU3d",
        "colab_type": "code",
        "colab": {}
      },
      "source": [
        "#this list is just for make the new_row dictionary \n",
        "items=[item[\"Classification\"],item[\"Size\"]]\n",
        "\n",
        "new_row={}\n",
        "\n",
        "for i in pro.columns:\n",
        "  if i == \"properties_Dimensions_Length\":\n",
        "    new_row[i]=float(item[\"Length\"])\n",
        "  elif i in items:\n",
        "    new_row[i]=1\n",
        "  else:\n",
        "      new_row[i]=0\n"
      ],
      "execution_count": 496,
      "outputs": []
    },
    {
      "cell_type": "code",
      "metadata": {
        "id": "bH5ZQZmS_nce",
        "colab_type": "code",
        "colab": {
          "base_uri": "https://localhost:8080/",
          "height": 472
        },
        "outputId": "bbc15511-f6d0-41df-ec8c-3d3c1aca0e6f"
      },
      "source": [
        "new_row"
      ],
      "execution_count": 495,
      "outputs": [
        {
          "output_type": "execute_result",
          "data": {
            "text/plain": [
              "{'1 1/2\"': 0,\n",
              " '1 1/4\"': 0,\n",
              " '1 3/8\"': 0,\n",
              " '1\"': 0,\n",
              " '1/2\"': 0,\n",
              " '10\"': 0,\n",
              " '12\"': 0,\n",
              " '14\"': 0,\n",
              " '16\"': 0,\n",
              " '2 1/2\"': 0,\n",
              " '2\"': 0,\n",
              " '3\"': 0,\n",
              " '3/4\"': 0,\n",
              " '4\"': 1,\n",
              " '5\"': 0,\n",
              " '6\"': 0,\n",
              " '8\"': 0,\n",
              " 'Domestic Cold Water': 0,\n",
              " 'Domestic Hot Water': 0,\n",
              " 'Fire Protection Dry': 0,\n",
              " 'Fire Protection Wet': 0,\n",
              " 'Hydronic Return': 0,\n",
              " 'Hydronic Supply': 0,\n",
              " 'Material_Number': 0,\n",
              " 'Other': 0,\n",
              " 'Sanitary': 1,\n",
              " 'Vent': 0,\n",
              " 'properties_Dimensions_Length': 4.083}"
            ]
          },
          "metadata": {
            "tags": []
          },
          "execution_count": 495
        }
      ]
    },
    {
      "cell_type": "markdown",
      "metadata": {
        "id": "0IgwGeO3FZu2",
        "colab_type": "text"
      },
      "source": [
        "This is the one row DataFrame that we will use to test the model to predict"
      ]
    },
    {
      "cell_type": "code",
      "metadata": {
        "id": "QYHjcmGawYak",
        "colab_type": "code",
        "colab": {}
      },
      "source": [
        "k=pro.append(new_row, ignore_index=True)"
      ],
      "execution_count": 476,
      "outputs": []
    },
    {
      "cell_type": "code",
      "metadata": {
        "id": "_ROrmJx1ysZZ",
        "colab_type": "code",
        "colab": {}
      },
      "source": [
        "X_infer = k.drop('Material_Number',axis=1)\n",
        "y_infer = pro['Material_Number']"
      ],
      "execution_count": 477,
      "outputs": []
    },
    {
      "cell_type": "code",
      "metadata": {
        "id": "5DI_endT3IFy",
        "colab_type": "code",
        "colab": {
          "base_uri": "https://localhost:8080/",
          "height": 33
        },
        "outputId": "ccf37212-2c2c-44d8-c859-13271c2cfcb8"
      },
      "source": [
        "predictions = rfc.predict(X_infer)\n",
        "int(predictions)"
      ],
      "execution_count": 507,
      "outputs": [
        {
          "output_type": "execute_result",
          "data": {
            "text/plain": [
              "3"
            ]
          },
          "metadata": {
            "tags": []
          },
          "execution_count": 507
        }
      ]
    },
    {
      "cell_type": "markdown",
      "metadata": {
        "id": "mh7zv5MZIvWW",
        "colab_type": "text"
      },
      "source": [
        "Recalling the dictionary we made, we change key for value and vice versa"
      ]
    },
    {
      "cell_type": "code",
      "metadata": {
        "id": "Ga23NBMl9D_X",
        "colab_type": "code",
        "colab": {
          "base_uri": "https://localhost:8080/",
          "height": 180
        },
        "outputId": "8958c24e-f707-4c65-bebd-4a05b2d2b311"
      },
      "source": [
        "dicc"
      ],
      "execution_count": 497,
      "outputs": [
        {
          "output_type": "execute_result",
          "data": {
            "text/plain": [
              "{'Black Steel': 7,\n",
              " 'CP_PI - Copper - ASTM B88 H.D.': 4,\n",
              " 'Carbon Steel': 8,\n",
              " 'Carbon Steel - ASTM A53 B': 5,\n",
              " 'Cast Iron': 6,\n",
              " 'Copper': 0,\n",
              " 'Ductile Iron': 9,\n",
              " 'NaN': 2,\n",
              " 'PVC': 3,\n",
              " 'Steel, Carbon': 1}"
            ]
          },
          "metadata": {
            "tags": []
          },
          "execution_count": 497
        }
      ]
    },
    {
      "cell_type": "code",
      "metadata": {
        "id": "XRuupVaoFv6D",
        "colab_type": "code",
        "colab": {
          "base_uri": "https://localhost:8080/",
          "height": 180
        },
        "outputId": "68c56061-16aa-4e32-8f07-3adc76587535"
      },
      "source": [
        "dicc2={}\n",
        "\n",
        "for i in dicc.keys():\n",
        "  dicc2[dicc[i]]=i\n",
        "dicc2\n"
      ],
      "execution_count": 504,
      "outputs": [
        {
          "output_type": "execute_result",
          "data": {
            "text/plain": [
              "{0: 'Copper',\n",
              " 1: 'Steel, Carbon',\n",
              " 2: 'NaN',\n",
              " 3: 'PVC',\n",
              " 4: 'CP_PI - Copper - ASTM B88 H.D.',\n",
              " 5: 'Carbon Steel - ASTM A53 B',\n",
              " 6: 'Cast Iron',\n",
              " 7: 'Black Steel',\n",
              " 8: 'Carbon Steel',\n",
              " 9: 'Ductile Iron'}"
            ]
          },
          "metadata": {
            "tags": []
          },
          "execution_count": 504
        }
      ]
    },
    {
      "cell_type": "code",
      "metadata": {
        "id": "B78dl8huG0oP",
        "colab_type": "code",
        "colab": {
          "base_uri": "https://localhost:8080/",
          "height": 33
        },
        "outputId": "faac2765-b3fc-4388-ca3f-a04dd3ddad65"
      },
      "source": [
        "dicc2[int(predictions)]"
      ],
      "execution_count": 509,
      "outputs": [
        {
          "output_type": "execute_result",
          "data": {
            "text/plain": [
              "'PVC'"
            ]
          },
          "metadata": {
            "tags": []
          },
          "execution_count": 509
        }
      ]
    },
    {
      "cell_type": "code",
      "metadata": {
        "id": "hRP9heC9ITuR",
        "colab_type": "code",
        "colab": {}
      },
      "source": [
        ""
      ],
      "execution_count": null,
      "outputs": []
    }
  ]
}