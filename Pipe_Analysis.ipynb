{
  "nbformat": 4,
  "nbformat_minor": 0,
  "metadata": {
    "colab": {
      "name": "Pipe Analysis.ipynb",
      "provenance": [],
      "collapsed_sections": [],
      "authorship_tag": "ABX9TyNwWQbI9pQ+kFCVdihvOHZg",
      "include_colab_link": true
    },
    "kernelspec": {
      "name": "python3",
      "display_name": "Python 3"
    }
  },
  "cells": [
    {
      "cell_type": "markdown",
      "metadata": {
        "id": "view-in-github",
        "colab_type": "text"
      },
      "source": [
        "<a href=\"https://colab.research.google.com/github/pabloderen/BIMnferer/blob/prueba-berna-/Pipe_Analysis.ipynb\" target=\"_parent\"><img src=\"https://colab.research.google.com/assets/colab-badge.svg\" alt=\"Open In Colab\"/></a>"
      ]
    },
    {
      "cell_type": "code",
      "metadata": {
        "id": "MHjuBxluIVMr",
        "colab_type": "code",
        "colab": {}
      },
      "source": [
        "import pandas as pd\n",
        "import json\n",
        "import urllib"
      ],
      "execution_count": 1,
      "outputs": []
    },
    {
      "cell_type": "code",
      "metadata": {
        "id": "c8evbTkGaURM",
        "colab_type": "code",
        "colab": {}
      },
      "source": [
        "#We download from de API in Flasgger (http://3.14.88.102:5000/apidocs/) the Pipe list item and it´s parameters\n",
        "#\n",
        "jsonfile = urllib.request.urlopen(\"http://3.14.88.102:5000/api/1/elements/pipes/?limit=6000\").read().decode()\n",
        "j=json.loads(jsonfile)"
      ],
      "execution_count": 2,
      "outputs": []
    },
    {
      "cell_type": "code",
      "metadata": {
        "id": "XDuejJ1WaoY_",
        "colab_type": "code",
        "colab": {
          "base_uri": "https://localhost:8080/",
          "height": 324
        },
        "outputId": "422c456c-26e0-4a0b-ee6a-03b413373e43"
      },
      "source": [
        "#Then we make a Data Frame with the json file\n",
        "df= pd.json_normalize(j)\n",
        "df.head(3)"
      ],
      "execution_count": 3,
      "outputs": [
        {
          "output_type": "execute_result",
          "data": {
            "text/html": [
              "<div>\n",
              "<style scoped>\n",
              "    .dataframe tbody tr th:only-of-type {\n",
              "        vertical-align: middle;\n",
              "    }\n",
              "\n",
              "    .dataframe tbody tr th {\n",
              "        vertical-align: top;\n",
              "    }\n",
              "\n",
              "    .dataframe thead th {\n",
              "        text-align: right;\n",
              "    }\n",
              "</style>\n",
              "<table border=\"1\" class=\"dataframe\">\n",
              "  <thead>\n",
              "    <tr style=\"text-align: right;\">\n",
              "      <th></th>\n",
              "      <th>projectId</th>\n",
              "      <th>Category</th>\n",
              "      <th>modelId</th>\n",
              "      <th>_id.$oid</th>\n",
              "      <th>properties_Dimensions_Length</th>\n",
              "      <th>properties_Dimensions_Size</th>\n",
              "      <th>properties_Mechanical_Material</th>\n",
              "      <th>properties_Mechanical_System Classification</th>\n",
              "    </tr>\n",
              "  </thead>\n",
              "  <tbody>\n",
              "    <tr>\n",
              "      <th>0</th>\n",
              "      <td>b.c94f85e5-88fb-402c-bc60-72622f5f85b6</td>\n",
              "      <td>Pipes</td>\n",
              "      <td>d4ea3308-4b3f-d382-cacb-9791f772042b</td>\n",
              "      <td>5eee8651cb573f2fc2216a82</td>\n",
              "      <td>NaN</td>\n",
              "      <td>NaN</td>\n",
              "      <td>NaN</td>\n",
              "      <td>NaN</td>\n",
              "    </tr>\n",
              "    <tr>\n",
              "      <th>1</th>\n",
              "      <td>b.c94f85e5-88fb-402c-bc60-72622f5f85b6</td>\n",
              "      <td>Pipes</td>\n",
              "      <td>d4ea3308-4b3f-d382-cacb-9791f772042b</td>\n",
              "      <td>5eee8651cb573f2fc2216a83</td>\n",
              "      <td>NaN</td>\n",
              "      <td>NaN</td>\n",
              "      <td>NaN</td>\n",
              "      <td>NaN</td>\n",
              "    </tr>\n",
              "    <tr>\n",
              "      <th>2</th>\n",
              "      <td>b.c94f85e5-88fb-402c-bc60-72622f5f85b6</td>\n",
              "      <td>Pipes</td>\n",
              "      <td>d4ea3308-4b3f-d382-cacb-9791f772042b</td>\n",
              "      <td>5eee8651cb573f2fc2216a84</td>\n",
              "      <td>0.398 ft</td>\n",
              "      <td>2 1/2\"</td>\n",
              "      <td>Copper</td>\n",
              "      <td>Sanitary</td>\n",
              "    </tr>\n",
              "  </tbody>\n",
              "</table>\n",
              "</div>"
            ],
            "text/plain": [
              "                                projectId  ... properties_Mechanical_System Classification\n",
              "0  b.c94f85e5-88fb-402c-bc60-72622f5f85b6  ...                                         NaN\n",
              "1  b.c94f85e5-88fb-402c-bc60-72622f5f85b6  ...                                         NaN\n",
              "2  b.c94f85e5-88fb-402c-bc60-72622f5f85b6  ...                                    Sanitary\n",
              "\n",
              "[3 rows x 8 columns]"
            ]
          },
          "metadata": {
            "tags": []
          },
          "execution_count": 3
        }
      ]
    },
    {
      "cell_type": "code",
      "metadata": {
        "id": "IoiSluyZa3aX",
        "colab_type": "code",
        "colab": {}
      },
      "source": [
        "#We will drop the columns that have unuseful information for our case,\n",
        "#like \"projectId\", \"modelId\" and \"_id.$oid\"\n",
        "values=[\"_id.$oid\",\"modelId\",\"projectId\"]\n",
        "df.drop(values, axis=1,inplace=True)"
      ],
      "execution_count": null,
      "outputs": []
    },
    {
      "cell_type": "code",
      "metadata": {
        "id": "YgAbL4g_bzz-",
        "colab_type": "code",
        "colab": {
          "base_uri": "https://localhost:8080/",
          "height": 123
        },
        "outputId": "a6f0ee69-b3a6-47eb-ab74-77f4b1570e5c"
      },
      "source": [
        "# we can see how many different materials we have, and in some cases are the same, as \"CP_PI - Steel - ASTM A53-B\" and \"Carbon Steel - ASTM A53 B\"\n",
        "df[\"properties_Mechanical_Material\"].unique()"
      ],
      "execution_count": 7,
      "outputs": [
        {
          "output_type": "execute_result",
          "data": {
            "text/plain": [
              "array([nan, 'Copper', 'Steel, Carbon', '<By Category>',\n",
              "       'Polyvinyl Chloride - Rigid', 'CP_PI - Copper - ASTM B88 H.D.',\n",
              "       'CP_PI - Steel - ASTM A53-B', 'CP_PI - PVC', 'Cast Iron',\n",
              "       'Black Steel', 'Carbon Steel', 'Ductile Iron',\n",
              "       'Polyvinyl Chloride, Rigid', 'Carbon Steel - ASTM A53 B'],\n",
              "      dtype=object)"
            ]
          },
          "metadata": {
            "tags": []
          },
          "execution_count": 7
        }
      ]
    },
    {
      "cell_type": "code",
      "metadata": {
        "id": "UTHogQgzb2l2",
        "colab_type": "code",
        "colab": {}
      },
      "source": [
        "# To make such a grouping, we define a function that search in the \"properties_Mechanical_Material\" and change each row that has another different name\n",
        "# for the same material\n",
        "def search(data):\n",
        "   \n",
        "    if \"A53\" in data.upper():\n",
        "        return \"Carbon Steel - ASTM A53 B\"\n",
        "    if \"CATEGORY\" in data.upper():\n",
        "        return \"NaN\"\n",
        "    if \"POLYVINYL\" in data.upper():\n",
        "        return \"PVC\"\n",
        "    if \"PVC\" in data.upper():\n",
        "        return \"PVC\"\n",
        "  \n",
        "    else:\n",
        "        return data\n"
      ],
      "execution_count": 26,
      "outputs": []
    },
    {
      "cell_type": "code",
      "metadata": {
        "id": "plRdbEgthiWL",
        "colab_type": "code",
        "colab": {}
      },
      "source": [
        "# For practical purpuses, we will make a copy of the DataFrame, \n",
        "# then apply the function in each row of the \"properties_Mechanical_Material\" column.\n",
        "df2=df\n",
        "df2[\"properties_Mechanical_Material\"]=df2[\"properties_Mechanical_Material\"].apply(lambda x: search(str(x)))\n"
      ],
      "execution_count": 27,
      "outputs": []
    },
    {
      "cell_type": "code",
      "metadata": {
        "id": "iT4kvHHviEZA",
        "colab_type": "code",
        "colab": {
          "base_uri": "https://localhost:8080/",
          "height": 230
        },
        "outputId": "afeedb37-5e3d-447d-9bb7-661cf39b17ea"
      },
      "source": [
        "# here is the amount of each material kind\n",
        "df2[\"properties_Mechanical_Material\"].value_counts()"
      ],
      "execution_count": 28,
      "outputs": [
        {
          "output_type": "execute_result",
          "data": {
            "text/plain": [
              "PVC                               1745\n",
              "Carbon Steel - ASTM A53 B         1322\n",
              "Carbon Steel                      1237\n",
              "Copper                            1102\n",
              "CP_PI - Copper - ASTM B88 H.D.     424\n",
              "Steel, Carbon                      121\n",
              "nan                                 37\n",
              "Black Steel                          4\n",
              "NaN                                  4\n",
              "Cast Iron                            2\n",
              "Ductile Iron                         2\n",
              "Name: properties_Mechanical_Material, dtype: int64"
            ]
          },
          "metadata": {
            "tags": []
          },
          "execution_count": 28
        }
      ]
    },
    {
      "cell_type": "code",
      "metadata": {
        "id": "_sVvBAzBY4nB",
        "colab_type": "code",
        "colab": {
          "base_uri": "https://localhost:8080/",
          "height": 603
        },
        "outputId": "d264291a-e15e-47f6-fdfc-87cfc3d288e0"
      },
      "source": [
        "df2.groupby([\"properties_Mechanical_Material\",\"properties_Mechanical_System Classification\"])[\"Category\"].count()"
      ],
      "execution_count": 32,
      "outputs": [
        {
          "output_type": "execute_result",
          "data": {
            "text/plain": [
              "properties_Mechanical_Material  properties_Mechanical_System Classification\n",
              "Black Steel                     Sanitary                                          4\n",
              "CP_PI - Copper - ASTM B88 H.D.  Domestic Cold Water                             208\n",
              "                                Domestic Hot Water                              216\n",
              "Carbon Steel                    Domestic Cold Water                              34\n",
              "                                Hydronic Return                                 457\n",
              "                                Hydronic Supply                                 560\n",
              "                                Other                                            24\n",
              "                                Sanitary                                        162\n",
              "Carbon Steel - ASTM A53 B       Domestic Hot Water                               12\n",
              "                                Hydronic Return                                 630\n",
              "                                Hydronic Supply                                 664\n",
              "                                Other                                            16\n",
              "Cast Iron                       Sanitary                                          2\n",
              "Copper                          Domestic Cold Water                             473\n",
              "                                Domestic Hot Water                               92\n",
              "                                Hydronic Return                                 122\n",
              "                                Hydronic Supply                                 272\n",
              "                                Other                                           129\n",
              "                                Sanitary                                         11\n",
              "                                Vent                                              3\n",
              "Ductile Iron                    Fire Protection Wet                               2\n",
              "NaN                             Other                                             2\n",
              "                                Sanitary                                          2\n",
              "PVC                             Domestic Cold Water                               1\n",
              "                                Domestic Hot Water                                1\n",
              "                                Other                                            12\n",
              "                                Sanitary                                       1317\n",
              "                                Vent                                            414\n",
              "Steel, Carbon                   Fire Protection Dry                             116\n",
              "                                Other                                             4\n",
              "                                Sanitary                                          1\n",
              "Name: Category, dtype: int64"
            ]
          },
          "metadata": {
            "tags": []
          },
          "execution_count": 32
        }
      ]
    },
    {
      "cell_type": "code",
      "metadata": {
        "id": "BYFuxyS8i3ww",
        "colab_type": "code",
        "colab": {
          "base_uri": "https://localhost:8080/",
          "height": 194
        },
        "outputId": "95862ec6-081d-4274-e725-e0a05a3da08a"
      },
      "source": [
        "df2[\"properties_Mechanical_System Classification\"].value_counts()"
      ],
      "execution_count": null,
      "outputs": [
        {
          "output_type": "execute_result",
          "data": {
            "text/plain": [
              "Sanitary               1499\n",
              "Hydronic Supply        1496\n",
              "Hydronic Return        1209\n",
              "Domestic Cold Water     716\n",
              "Vent                    417\n",
              "Domestic Hot Water      321\n",
              "Other                   187\n",
              "Fire Protection Dry     116\n",
              "Fire Protection Wet       2\n",
              "Name: properties_Mechanical_System Classification, dtype: int64"
            ]
          },
          "metadata": {
            "tags": []
          },
          "execution_count": 44
        }
      ]
    },
    {
      "cell_type": "code",
      "metadata": {
        "id": "M75QW1_8neCa",
        "colab_type": "code",
        "colab": {}
      },
      "source": [
        "# We drop the rows with properties_Dimensions_Length NaN values.\n",
        "df3=df2.dropna(axis=0,subset=[\"properties_Dimensions_Length\"])\n"
      ],
      "execution_count": 33,
      "outputs": []
    },
    {
      "cell_type": "code",
      "metadata": {
        "id": "iNgt0y4mlQti",
        "colab_type": "code",
        "colab": {
          "base_uri": "https://localhost:8080/",
          "height": 123
        },
        "outputId": "393905fb-73f8-4476-824a-d9f0601d9ef5"
      },
      "source": [
        "#Her we start to convert the properties_Dimensions_Length from string to float \n",
        "#(we use x.replace(\" ft\",\"\") and x.replace(\"  ft\",\"\"), notice the spaces in each case)\n",
        "\n",
        "df3[\"properties_Dimensions_Length\"]= df3[\"properties_Dimensions_Length\"].apply(lambda x: x.replace(\"  ft\",\"\"))"
      ],
      "execution_count": 37,
      "outputs": [
        {
          "output_type": "stream",
          "text": [
            "/usr/local/lib/python3.6/dist-packages/ipykernel_launcher.py:4: SettingWithCopyWarning: \n",
            "A value is trying to be set on a copy of a slice from a DataFrame.\n",
            "Try using .loc[row_indexer,col_indexer] = value instead\n",
            "\n",
            "See the caveats in the documentation: https://pandas.pydata.org/pandas-docs/stable/user_guide/indexing.html#returning-a-view-versus-a-copy\n",
            "  after removing the cwd from sys.path.\n"
          ],
          "name": "stderr"
        }
      ]
    },
    {
      "cell_type": "code",
      "metadata": {
        "id": "kHkyOp41o4ai",
        "colab_type": "code",
        "colab": {
          "base_uri": "https://localhost:8080/",
          "height": 123
        },
        "outputId": "eb196414-aae3-4ca7-c34f-61c22616e84b"
      },
      "source": [
        "df3[\"properties_Dimensions_Length\"]= df3[\"properties_Dimensions_Length\"].apply(lambda x: float(x))"
      ],
      "execution_count": 38,
      "outputs": [
        {
          "output_type": "stream",
          "text": [
            "/usr/local/lib/python3.6/dist-packages/ipykernel_launcher.py:1: SettingWithCopyWarning: \n",
            "A value is trying to be set on a copy of a slice from a DataFrame.\n",
            "Try using .loc[row_indexer,col_indexer] = value instead\n",
            "\n",
            "See the caveats in the documentation: https://pandas.pydata.org/pandas-docs/stable/user_guide/indexing.html#returning-a-view-versus-a-copy\n",
            "  \"\"\"Entry point for launching an IPython kernel.\n"
          ],
          "name": "stderr"
        }
      ]
    },
    {
      "cell_type": "code",
      "metadata": {
        "id": "LGjqjizjo7Xx",
        "colab_type": "code",
        "colab": {
          "base_uri": "https://localhost:8080/",
          "height": 123
        },
        "outputId": "9b554332-d553-4ec6-baa2-537d17245c55"
      },
      "source": [
        "#we are analazing pipes, so we know that the dimensions Sizes are the diameter sizes.\n",
        "#then we can see that because a Size has the diameter simbol, creates another dimension. So \n",
        "# we will take of the diameter simbol of all the column.\n",
        "\n",
        "df3[\"properties_Dimensions_Size\"].value_counts().head(5)"
      ],
      "execution_count": 39,
      "outputs": [
        {
          "output_type": "execute_result",
          "data": {
            "text/plain": [
              "2\"     643\n",
              "4\"ø    530\n",
              "4\"     522\n",
              "6\"ø    466\n",
              "3\"     436\n",
              "Name: properties_Dimensions_Size, dtype: int64"
            ]
          },
          "metadata": {
            "tags": []
          },
          "execution_count": 39
        }
      ]
    },
    {
      "cell_type": "code",
      "metadata": {
        "id": "CPl-4Ya6qSIj",
        "colab_type": "code",
        "colab": {
          "base_uri": "https://localhost:8080/",
          "height": 124
        },
        "outputId": "e338de66-a10d-4120-d5de-661a31fa4baa"
      },
      "source": [
        "df3[\"properties_Dimensions_Size\"]= df3[\"properties_Dimensions_Size\"].apply(lambda x: x.replace(\"ø\",\"\"))"
      ],
      "execution_count": 40,
      "outputs": [
        {
          "output_type": "stream",
          "text": [
            "/usr/local/lib/python3.6/dist-packages/ipykernel_launcher.py:1: SettingWithCopyWarning: \n",
            "A value is trying to be set on a copy of a slice from a DataFrame.\n",
            "Try using .loc[row_indexer,col_indexer] = value instead\n",
            "\n",
            "See the caveats in the documentation: https://pandas.pydata.org/pandas-docs/stable/user_guide/indexing.html#returning-a-view-versus-a-copy\n",
            "  \"\"\"Entry point for launching an IPython kernel.\n"
          ],
          "name": "stderr"
        }
      ]
    },
    {
      "cell_type": "code",
      "metadata": {
        "id": "5oBxJ0zxsBcc",
        "colab_type": "code",
        "colab": {
          "base_uri": "https://localhost:8080/",
          "height": 124
        },
        "outputId": "0d832233-5b11-4f22-8ac4-e95cce5acb9f"
      },
      "source": [
        "# Here we eliminate any leading and trailing whitespaces\n",
        "df3[\"properties_Dimensions_Size\"]= df3[\"properties_Dimensions_Size\"].apply(lambda x: x.strip())"
      ],
      "execution_count": 41,
      "outputs": [
        {
          "output_type": "stream",
          "text": [
            "/usr/local/lib/python3.6/dist-packages/ipykernel_launcher.py:2: SettingWithCopyWarning: \n",
            "A value is trying to be set on a copy of a slice from a DataFrame.\n",
            "Try using .loc[row_indexer,col_indexer] = value instead\n",
            "\n",
            "See the caveats in the documentation: https://pandas.pydata.org/pandas-docs/stable/user_guide/indexing.html#returning-a-view-versus-a-copy\n",
            "  \n"
          ],
          "name": "stderr"
        }
      ]
    },
    {
      "cell_type": "code",
      "metadata": {
        "id": "cU7zWrMusOSS",
        "colab_type": "code",
        "colab": {
          "base_uri": "https://localhost:8080/",
          "height": 337
        },
        "outputId": "0536854e-368f-459b-df4b-8d5958259d12"
      },
      "source": [
        "df3[\"properties_Dimensions_Size\"].value_counts()"
      ],
      "execution_count": 61,
      "outputs": [
        {
          "output_type": "execute_result",
          "data": {
            "text/plain": [
              "4\"        1070\n",
              "2\"         835\n",
              "3/4\"       727\n",
              "6\"         636\n",
              "3\"         592\n",
              "1\"         580\n",
              "2 1/2\"     316\n",
              "1 1/4\"     257\n",
              "1/2\"       241\n",
              "1 1/2\"     235\n",
              "16\"        146\n",
              "14\"         96\n",
              "8\"          84\n",
              "12\"         64\n",
              "10\"         60\n",
              "5\"          22\n",
              "1 3/8\"       2\n",
              "Name: properties_Dimensions_Size, dtype: int64"
            ]
          },
          "metadata": {
            "tags": []
          },
          "execution_count": 61
        }
      ]
    },
    {
      "cell_type": "code",
      "metadata": {
        "id": "3k5FOAuKzDk-",
        "colab_type": "code",
        "colab": {}
      },
      "source": [
        "#The \"properties_Mechanical_System Classification\" are 9 different types.\n",
        "lista=df3[\"properties_Mechanical_System Classification\"].unique()\n"
      ],
      "execution_count": 67,
      "outputs": []
    },
    {
      "cell_type": "code",
      "metadata": {
        "id": "z6Kv2FqT4lPJ",
        "colab_type": "code",
        "colab": {}
      },
      "source": [
        "# Set a number designator to all properties_Mechanical_System Classification\n",
        "dicc={}\n",
        "i=0\n",
        "for i in range(0,9):\n",
        "  dicc[lista[i]]=i"
      ],
      "execution_count": 68,
      "outputs": []
    },
    {
      "cell_type": "code",
      "metadata": {
        "id": "QrHPPEAY7HLW",
        "colab_type": "code",
        "colab": {
          "base_uri": "https://localhost:8080/",
          "height": 124
        },
        "outputId": "eb146dd7-7c50-4895-d184-4cfd15a321da"
      },
      "source": [
        "#we create a column with this designation\n",
        "df3[\"Number_Classification\"]=df3[\"properties_Mechanical_System Classification\"].apply(lambda x: dicc[x])"
      ],
      "execution_count": 70,
      "outputs": [
        {
          "output_type": "stream",
          "text": [
            "/usr/local/lib/python3.6/dist-packages/ipykernel_launcher.py:2: SettingWithCopyWarning: \n",
            "A value is trying to be set on a copy of a slice from a DataFrame.\n",
            "Try using .loc[row_indexer,col_indexer] = value instead\n",
            "\n",
            "See the caveats in the documentation: https://pandas.pydata.org/pandas-docs/stable/user_guide/indexing.html#returning-a-view-versus-a-copy\n",
            "  \n"
          ],
          "name": "stderr"
        }
      ]
    },
    {
      "cell_type": "code",
      "metadata": {
        "id": "mYg8xDIS78Hf",
        "colab_type": "code",
        "colab": {}
      },
      "source": [
        "#then we get the dummies properties_Dimensions_Size and properties_Mechanical_Material"
      ],
      "execution_count": null,
      "outputs": []
    },
    {
      "cell_type": "code",
      "metadata": {
        "id": "AmyPgZCRAvew",
        "colab_type": "code",
        "colab": {
          "base_uri": "https://localhost:8080/",
          "height": 35
        },
        "outputId": "fcba9b00-2c87-42b2-da7f-3f7c945c425e"
      },
      "source": [
        "df3[\"properties_Dimensions_Size\"].nunique()"
      ],
      "execution_count": 71,
      "outputs": [
        {
          "output_type": "execute_result",
          "data": {
            "text/plain": [
              "17"
            ]
          },
          "metadata": {
            "tags": []
          },
          "execution_count": 71
        }
      ]
    },
    {
      "cell_type": "code",
      "metadata": {
        "id": "9ycVwcKjCgvR",
        "colab_type": "code",
        "colab": {}
      },
      "source": [
        "material= pd.get_dummies(df3['properties_Mechanical_Material'])\n"
      ],
      "execution_count": 72,
      "outputs": []
    },
    {
      "cell_type": "code",
      "metadata": {
        "id": "vqO2WjXXC68e",
        "colab_type": "code",
        "colab": {}
      },
      "source": [
        "Dimensions_Size= pd.get_dummies(df3[\"properties_Dimensions_Size\"])\n"
      ],
      "execution_count": 73,
      "outputs": []
    },
    {
      "cell_type": "code",
      "metadata": {
        "id": "iDwJ9-vADJn-",
        "colab_type": "code",
        "colab": {}
      },
      "source": [
        "df4 = pd.concat([df3,material,Dimensions_Size],axis=1)"
      ],
      "execution_count": 74,
      "outputs": []
    },
    {
      "cell_type": "code",
      "metadata": {
        "id": "pZk1FdqEDb71",
        "colab_type": "code",
        "colab": {}
      },
      "source": [
        "#we eliminate some columns that we will not use\n",
        "droplist=[\"Category\",\"NaN\",\"properties_Mechanical_System Classification\",\"properties_Mechanical_Material\",\"properties_Dimensions_Size\"]\n",
        "df5=df4.drop(droplist, axis=1)"
      ],
      "execution_count": 75,
      "outputs": []
    },
    {
      "cell_type": "code",
      "metadata": {
        "id": "stq6cB-oDdfN",
        "colab_type": "code",
        "colab": {
          "base_uri": "https://localhost:8080/",
          "height": 261
        },
        "outputId": "b6e14936-257a-474a-d30a-9bdfb6545203"
      },
      "source": [
        "df5.head()"
      ],
      "execution_count": 76,
      "outputs": [
        {
          "output_type": "execute_result",
          "data": {
            "text/html": [
              "<div>\n",
              "<style scoped>\n",
              "    .dataframe tbody tr th:only-of-type {\n",
              "        vertical-align: middle;\n",
              "    }\n",
              "\n",
              "    .dataframe tbody tr th {\n",
              "        vertical-align: top;\n",
              "    }\n",
              "\n",
              "    .dataframe thead th {\n",
              "        text-align: right;\n",
              "    }\n",
              "</style>\n",
              "<table border=\"1\" class=\"dataframe\">\n",
              "  <thead>\n",
              "    <tr style=\"text-align: right;\">\n",
              "      <th></th>\n",
              "      <th>properties_Dimensions_Length</th>\n",
              "      <th>Number_Classification</th>\n",
              "      <th>Black Steel</th>\n",
              "      <th>CP_PI - Copper - ASTM B88 H.D.</th>\n",
              "      <th>Carbon Steel</th>\n",
              "      <th>Carbon Steel - ASTM A53 B</th>\n",
              "      <th>Cast Iron</th>\n",
              "      <th>Copper</th>\n",
              "      <th>Ductile Iron</th>\n",
              "      <th>PVC</th>\n",
              "      <th>Steel, Carbon</th>\n",
              "      <th>1 1/2\"</th>\n",
              "      <th>1 1/4\"</th>\n",
              "      <th>1 3/8\"</th>\n",
              "      <th>1\"</th>\n",
              "      <th>1/2\"</th>\n",
              "      <th>10\"</th>\n",
              "      <th>12\"</th>\n",
              "      <th>14\"</th>\n",
              "      <th>16\"</th>\n",
              "      <th>2 1/2\"</th>\n",
              "      <th>2\"</th>\n",
              "      <th>3\"</th>\n",
              "      <th>3/4\"</th>\n",
              "      <th>4\"</th>\n",
              "      <th>5\"</th>\n",
              "      <th>6\"</th>\n",
              "      <th>8\"</th>\n",
              "    </tr>\n",
              "  </thead>\n",
              "  <tbody>\n",
              "    <tr>\n",
              "      <th>2</th>\n",
              "      <td>0.398</td>\n",
              "      <td>0</td>\n",
              "      <td>0</td>\n",
              "      <td>0</td>\n",
              "      <td>0</td>\n",
              "      <td>0</td>\n",
              "      <td>0</td>\n",
              "      <td>1</td>\n",
              "      <td>0</td>\n",
              "      <td>0</td>\n",
              "      <td>0</td>\n",
              "      <td>0</td>\n",
              "      <td>0</td>\n",
              "      <td>0</td>\n",
              "      <td>0</td>\n",
              "      <td>0</td>\n",
              "      <td>0</td>\n",
              "      <td>0</td>\n",
              "      <td>0</td>\n",
              "      <td>0</td>\n",
              "      <td>1</td>\n",
              "      <td>0</td>\n",
              "      <td>0</td>\n",
              "      <td>0</td>\n",
              "      <td>0</td>\n",
              "      <td>0</td>\n",
              "      <td>0</td>\n",
              "      <td>0</td>\n",
              "    </tr>\n",
              "    <tr>\n",
              "      <th>4</th>\n",
              "      <td>2.536</td>\n",
              "      <td>0</td>\n",
              "      <td>0</td>\n",
              "      <td>0</td>\n",
              "      <td>0</td>\n",
              "      <td>0</td>\n",
              "      <td>0</td>\n",
              "      <td>0</td>\n",
              "      <td>0</td>\n",
              "      <td>0</td>\n",
              "      <td>1</td>\n",
              "      <td>0</td>\n",
              "      <td>0</td>\n",
              "      <td>0</td>\n",
              "      <td>0</td>\n",
              "      <td>0</td>\n",
              "      <td>0</td>\n",
              "      <td>0</td>\n",
              "      <td>0</td>\n",
              "      <td>0</td>\n",
              "      <td>1</td>\n",
              "      <td>0</td>\n",
              "      <td>0</td>\n",
              "      <td>0</td>\n",
              "      <td>0</td>\n",
              "      <td>0</td>\n",
              "      <td>0</td>\n",
              "      <td>0</td>\n",
              "    </tr>\n",
              "    <tr>\n",
              "      <th>5</th>\n",
              "      <td>0.031</td>\n",
              "      <td>0</td>\n",
              "      <td>0</td>\n",
              "      <td>0</td>\n",
              "      <td>0</td>\n",
              "      <td>0</td>\n",
              "      <td>0</td>\n",
              "      <td>0</td>\n",
              "      <td>0</td>\n",
              "      <td>0</td>\n",
              "      <td>0</td>\n",
              "      <td>0</td>\n",
              "      <td>0</td>\n",
              "      <td>0</td>\n",
              "      <td>0</td>\n",
              "      <td>0</td>\n",
              "      <td>0</td>\n",
              "      <td>0</td>\n",
              "      <td>0</td>\n",
              "      <td>0</td>\n",
              "      <td>1</td>\n",
              "      <td>0</td>\n",
              "      <td>0</td>\n",
              "      <td>0</td>\n",
              "      <td>0</td>\n",
              "      <td>0</td>\n",
              "      <td>0</td>\n",
              "      <td>0</td>\n",
              "    </tr>\n",
              "    <tr>\n",
              "      <th>6</th>\n",
              "      <td>0.031</td>\n",
              "      <td>0</td>\n",
              "      <td>0</td>\n",
              "      <td>0</td>\n",
              "      <td>0</td>\n",
              "      <td>0</td>\n",
              "      <td>0</td>\n",
              "      <td>0</td>\n",
              "      <td>0</td>\n",
              "      <td>0</td>\n",
              "      <td>0</td>\n",
              "      <td>0</td>\n",
              "      <td>0</td>\n",
              "      <td>0</td>\n",
              "      <td>0</td>\n",
              "      <td>0</td>\n",
              "      <td>0</td>\n",
              "      <td>0</td>\n",
              "      <td>0</td>\n",
              "      <td>0</td>\n",
              "      <td>1</td>\n",
              "      <td>0</td>\n",
              "      <td>0</td>\n",
              "      <td>0</td>\n",
              "      <td>0</td>\n",
              "      <td>0</td>\n",
              "      <td>0</td>\n",
              "      <td>0</td>\n",
              "    </tr>\n",
              "    <tr>\n",
              "      <th>7</th>\n",
              "      <td>0.736</td>\n",
              "      <td>1</td>\n",
              "      <td>0</td>\n",
              "      <td>0</td>\n",
              "      <td>0</td>\n",
              "      <td>0</td>\n",
              "      <td>0</td>\n",
              "      <td>0</td>\n",
              "      <td>0</td>\n",
              "      <td>0</td>\n",
              "      <td>1</td>\n",
              "      <td>0</td>\n",
              "      <td>0</td>\n",
              "      <td>0</td>\n",
              "      <td>0</td>\n",
              "      <td>0</td>\n",
              "      <td>0</td>\n",
              "      <td>0</td>\n",
              "      <td>0</td>\n",
              "      <td>0</td>\n",
              "      <td>1</td>\n",
              "      <td>0</td>\n",
              "      <td>0</td>\n",
              "      <td>0</td>\n",
              "      <td>0</td>\n",
              "      <td>0</td>\n",
              "      <td>0</td>\n",
              "      <td>0</td>\n",
              "    </tr>\n",
              "  </tbody>\n",
              "</table>\n",
              "</div>"
            ],
            "text/plain": [
              "   properties_Dimensions_Length  Number_Classification  Black Steel  ...  5\"  6\"  8\"\n",
              "2                         0.398                      0            0  ...   0   0   0\n",
              "4                         2.536                      0            0  ...   0   0   0\n",
              "5                         0.031                      0            0  ...   0   0   0\n",
              "6                         0.031                      0            0  ...   0   0   0\n",
              "7                         0.736                      1            0  ...   0   0   0\n",
              "\n",
              "[5 rows x 28 columns]"
            ]
          },
          "metadata": {
            "tags": []
          },
          "execution_count": 76
        }
      ]
    },
    {
      "cell_type": "code",
      "metadata": {
        "id": "M5QHgzA_E6uo",
        "colab_type": "code",
        "colab": {}
      },
      "source": [
        "#here we define the size of our test size.\n",
        "from sklearn.model_selection import train_test_split\n",
        "X = df5.drop('Number_Classification',axis=1)\n",
        "y = df5['Number_Classification']\n",
        "X_train, X_test, y_train, y_test = train_test_split(X, y, test_size=0.30, random_state=101)"
      ],
      "execution_count": 77,
      "outputs": []
    },
    {
      "cell_type": "code",
      "metadata": {
        "id": "ByAQB0N0GTun",
        "colab_type": "code",
        "colab": {
          "base_uri": "https://localhost:8080/",
          "height": 159
        },
        "outputId": "b351d128-5c35-4405-a408-1404dc6c5e7c"
      },
      "source": [
        "#here we train our Random Forest\n",
        "from sklearn.ensemble import RandomForestClassifier\n",
        "rfc = RandomForestClassifier(n_estimators=110)\n",
        "rfc.fit(X_train,y_train)"
      ],
      "execution_count": 78,
      "outputs": [
        {
          "output_type": "execute_result",
          "data": {
            "text/plain": [
              "RandomForestClassifier(bootstrap=True, ccp_alpha=0.0, class_weight=None,\n",
              "                       criterion='gini', max_depth=None, max_features='auto',\n",
              "                       max_leaf_nodes=None, max_samples=None,\n",
              "                       min_impurity_decrease=0.0, min_impurity_split=None,\n",
              "                       min_samples_leaf=1, min_samples_split=2,\n",
              "                       min_weight_fraction_leaf=0.0, n_estimators=110,\n",
              "                       n_jobs=None, oob_score=False, random_state=None,\n",
              "                       verbose=0, warm_start=False)"
            ]
          },
          "metadata": {
            "tags": []
          },
          "execution_count": 78
        }
      ]
    },
    {
      "cell_type": "code",
      "metadata": {
        "id": "YN89tZcuGqGP",
        "colab_type": "code",
        "colab": {
          "base_uri": "https://localhost:8080/",
          "height": 284
        },
        "outputId": "1a1234c3-5ef6-4c98-c374-c8b37344a84f"
      },
      "source": [
        "predictions = rfc.predict(X_test)\n",
        "from sklearn.metrics import classification_report,confusion_matrix\n",
        "print(classification_report(y_test,predictions))"
      ],
      "execution_count": 79,
      "outputs": [
        {
          "output_type": "stream",
          "text": [
            "              precision    recall  f1-score   support\n",
            "\n",
            "           0       0.89      0.90      0.89       445\n",
            "           1       0.80      0.82      0.81        55\n",
            "           2       0.77      0.68      0.72       225\n",
            "           3       0.65      0.64      0.64       118\n",
            "           4       0.53      0.59      0.56        85\n",
            "           5       0.81      0.81      0.81       472\n",
            "           6       0.75      0.79      0.77       354\n",
            "           8       1.00      1.00      1.00        35\n",
            "\n",
            "    accuracy                           0.79      1789\n",
            "   macro avg       0.78      0.78      0.78      1789\n",
            "weighted avg       0.79      0.79      0.79      1789\n",
            "\n"
          ],
          "name": "stdout"
        }
      ]
    },
    {
      "cell_type": "code",
      "metadata": {
        "id": "hRD3rOERGxMO",
        "colab_type": "code",
        "colab": {
          "base_uri": "https://localhost:8080/",
          "height": 159
        },
        "outputId": "a4ca853f-874c-448b-b846-1fd73fd1dda8"
      },
      "source": [
        "print(confusion_matrix(y_test,predictions))"
      ],
      "execution_count": 80,
      "outputs": [
        {
          "output_type": "stream",
          "text": [
            "[[399   1   5  40   0   0   0   0]\n",
            " [  1  45   5   0   0   4   0   0]\n",
            " [  4   9 152   0  38  13   9   0]\n",
            " [ 42   0   1  75   0   0   0   0]\n",
            " [  0   1  25   0  50   7   2   0]\n",
            " [  2   0   2   0   2 384  82   0]\n",
            " [  0   0   7   0   4  64 279   0]\n",
            " [  0   0   0   0   0   0   0  35]]\n"
          ],
          "name": "stdout"
        }
      ]
    },
    {
      "cell_type": "code",
      "metadata": {
        "id": "KbQCE_M6G8yH",
        "colab_type": "code",
        "colab": {}
      },
      "source": [
        ""
      ],
      "execution_count": null,
      "outputs": []
    }
  ]
}